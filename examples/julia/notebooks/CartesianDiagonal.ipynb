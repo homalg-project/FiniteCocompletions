{
 "cells": [
  {
   "cell_type": "markdown",
   "id": "5dd5d895",
   "metadata": {},
   "source": [
    "[![Binder](https://mybinder.org/badge_logo.svg)](https://gesis.mybinder.org/v2/gh/homalg-project/CapAndHomalgNotebooks/master?urlpath=git-pull%3Frepo%3Dhttps%253A%252F%252Fgithub.com%252Fhomalg-project%252FCategoricalTowers%26urlpath%3Dtree%252FCategoricalTowers%252FFiniteCocompletions%252Fexamples%252F%252Fnotebooks%252FCartesianDiagonal.ipynb%26branch%3Dmaster)"
   ]
  },
  {
   "cell_type": "markdown",
   "id": "95c34773",
   "metadata": {},
   "source": [
    "In this notebook we *compute* the algorithm computing the diagonal morphism from $\\delta: a \\to a \\times a$ in a cartesian (monoidal) category, i.e., a category with finite products:"
   ]
  },
  {
   "cell_type": "code",
   "execution_count": 1,
   "id": "a385b10d",
   "metadata": {},
   "outputs": [
    {
     "name": "stdout",
     "output_type": "stream",
     "text": [
      "CapAndHomalg v\u001b[32m1.6.0\u001b[39m\n",
      "Imported OSCAR's components GAP and Singular_jll\n",
      "Type: ?CapAndHomalg for more information\n"
     ]
    }
   ],
   "source": [
    "using CapAndHomalg"
   ]
  },
  {
   "cell_type": "code",
   "execution_count": 2,
   "id": "4716c104",
   "metadata": {},
   "outputs": [],
   "source": [
    "LoadPackage( \"FiniteCocompletions\" )"
   ]
  },
  {
   "cell_type": "code",
   "execution_count": 3,
   "id": "41362df1",
   "metadata": {},
   "outputs": [],
   "source": [
    "LoadPackage( \"Algebroids\" )"
   ]
  },
  {
   "cell_type": "code",
   "execution_count": 4,
   "id": "2f4b0d11",
   "metadata": {},
   "outputs": [],
   "source": [
    "LoadPackage( \"LazyCategories\" )"
   ]
  },
  {
   "cell_type": "code",
   "execution_count": 5,
   "id": "040a8e6b",
   "metadata": {},
   "outputs": [
    {
     "data": {
      "text/plain": [
       "GAP: Q(a)[]"
      ]
     },
     "execution_count": 5,
     "metadata": {},
     "output_type": "execute_result"
    }
   ],
   "source": [
    "Q = RightQuiver( \"Q(a)[]\" )"
   ]
  },
  {
   "cell_type": "code",
   "execution_count": 6,
   "id": "8ed15101",
   "metadata": {},
   "outputs": [
    {
     "data": {
      "text/plain": [
       "GAP: FreeCategory( RightQuiver( \"Q(a)[]\" ) )"
      ]
     },
     "execution_count": 6,
     "metadata": {},
     "output_type": "execute_result"
    }
   ],
   "source": [
    "C = FreeCategory( Q )"
   ]
  },
  {
   "cell_type": "code",
   "execution_count": 7,
   "id": "113b7d35",
   "metadata": {},
   "outputs": [
    {
     "data": {
      "text/plain": [
       "GAP: FiniteStrictProductCompletion( FreeCategory( RightQuiver( \"Q(a)[]\" ) ) )"
      ]
     },
     "execution_count": 7,
     "metadata": {},
     "output_type": "execute_result"
    }
   ],
   "source": [
    "PC = FiniteStrictProductCompletion( C )"
   ]
  },
  {
   "cell_type": "code",
   "execution_count": 8,
   "id": "27d259c5",
   "metadata": {},
   "outputs": [
    {
     "name": "stdout",
     "output_type": "stream",
     "text": [
      "A CAP category with name FiniteStrictProductCompletion( FreeCategory( RightQuiver( \"Q(a)[]\" ) ) ):\n",
      "\n",
      "24 primitive operations were used to derive 91 operations for this category which algorithmically\n",
      "* IsCategoryWithDecidableColifts\n",
      "* IsCategoryWithDecidableLifts\n",
      "* IsCartesianCategory\n",
      "* IsEquippedWithHomomorphismStructure\n",
      "and furthermore mathematically\n",
      "* IsStrictCartesianCategory\n"
     ]
    }
   ],
   "source": [
    "Display( PC )"
   ]
  },
  {
   "cell_type": "code",
   "execution_count": 9,
   "id": "dda189d0",
   "metadata": {},
   "outputs": [
    {
     "data": {
      "text/plain": [
       "GAP: Opposite( FiniteStrictCoproductCompletion( Opposite( FreeCategory( RightQuiver( \"Q(a)[]\" ) ) ) ) )"
      ]
     },
     "execution_count": 9,
     "metadata": {},
     "output_type": "execute_result"
    }
   ],
   "source": [
    "ModelingCategory( PC )"
   ]
  },
  {
   "cell_type": "code",
   "execution_count": 10,
   "id": "133cd658",
   "metadata": {},
   "outputs": [
    {
     "data": {
      "text/plain": [
       "GAP: <An object in FiniteStrictProductCompletion( FreeCategory( RightQuiver( \"Q(a)[]\" ) ) )>"
      ]
     },
     "execution_count": 10,
     "metadata": {},
     "output_type": "execute_result"
    }
   ],
   "source": [
    "a = PC.a"
   ]
  },
  {
   "cell_type": "code",
   "execution_count": 11,
   "id": "7c4afd9e",
   "metadata": {},
   "outputs": [
    {
     "data": {
      "text/plain": [
       "GAP: <An object in FiniteStrictProductCompletion( FreeCategory( RightQuiver( \"Q(a)[]\" ) ) )>"
      ]
     },
     "execution_count": 11,
     "metadata": {},
     "output_type": "execute_result"
    }
   ],
   "source": [
    "aa = DirectProduct( a, a )"
   ]
  },
  {
   "cell_type": "code",
   "execution_count": 12,
   "id": "a2c03779",
   "metadata": {},
   "outputs": [
    {
     "data": {
      "text/plain": [
       "GAP: |2|"
      ]
     },
     "execution_count": 12,
     "metadata": {},
     "output_type": "execute_result"
    }
   ],
   "source": [
    "HomStructure( aa, a )"
   ]
  },
  {
   "cell_type": "code",
   "execution_count": 13,
   "id": "c9d7754f",
   "metadata": {},
   "outputs": [
    {
     "data": {
      "text/plain": [
       "GAP: [ <A morphism in FiniteStrictProductCompletion( FreeCategory( RightQuiver( \"Q(a)[]\" ) ) )>, <A morphism in FiniteStrictProductCompletion( FreeCategory( RightQuiver( \"Q(a)[]\" ) ) )> ]"
      ]
     },
     "execution_count": 13,
     "metadata": {},
     "output_type": "execute_result"
    }
   ],
   "source": [
    "hom_aa_a = MorphismsOfExternalHom( aa, a )"
   ]
  },
  {
   "cell_type": "code",
   "execution_count": 14,
   "id": "a92c661d",
   "metadata": {},
   "outputs": [
    {
     "data": {
      "text/plain": [
       "true"
      ]
     },
     "execution_count": 14,
     "metadata": {},
     "output_type": "execute_result"
    }
   ],
   "source": [
    "hom_aa_a[1] == ProjectionInFactorOfDirectProduct( [ a, a ], 1 )"
   ]
  },
  {
   "cell_type": "code",
   "execution_count": 15,
   "id": "a0037508",
   "metadata": {},
   "outputs": [
    {
     "data": {
      "text/plain": [
       "true"
      ]
     },
     "execution_count": 15,
     "metadata": {},
     "output_type": "execute_result"
    }
   ],
   "source": [
    "hom_aa_a[2] == ProjectionInFactorOfDirectProduct( [ a, a ], 2 )"
   ]
  },
  {
   "cell_type": "code",
   "execution_count": 16,
   "id": "9e629931",
   "metadata": {},
   "outputs": [
    {
     "data": {
      "text/plain": [
       "GAP: |1|"
      ]
     },
     "execution_count": 16,
     "metadata": {},
     "output_type": "execute_result"
    }
   ],
   "source": [
    "HomStructure( a, aa )"
   ]
  },
  {
   "cell_type": "code",
   "execution_count": 17,
   "id": "e0cfb922",
   "metadata": {},
   "outputs": [
    {
     "data": {
      "text/plain": [
       "GAP: [ <A morphism in FiniteStrictProductCompletion( FreeCategory( RightQuiver( \"Q(a)[]\" ) ) )> ]"
      ]
     },
     "execution_count": 17,
     "metadata": {},
     "output_type": "execute_result"
    }
   ],
   "source": [
    "hom_a_aa = MorphismsOfExternalHom( a, aa )"
   ]
  },
  {
   "cell_type": "code",
   "execution_count": 18,
   "id": "de56cb9f",
   "metadata": {},
   "outputs": [
    {
     "data": {
      "text/plain": [
       "GAP: <A morphism in FiniteStrictProductCompletion( FreeCategory( RightQuiver( \"Q(a)[]\" ) ) )>"
      ]
     },
     "execution_count": 18,
     "metadata": {},
     "output_type": "execute_result"
    }
   ],
   "source": [
    "δ = hom_a_aa[1]"
   ]
  },
  {
   "cell_type": "code",
   "execution_count": 19,
   "id": "5945f480",
   "metadata": {},
   "outputs": [
    {
     "data": {
      "text/plain": [
       "true"
      ]
     },
     "execution_count": 19,
     "metadata": {},
     "output_type": "execute_result"
    }
   ],
   "source": [
    "Source( δ ) == a"
   ]
  },
  {
   "cell_type": "code",
   "execution_count": 20,
   "id": "29163cfa",
   "metadata": {},
   "outputs": [
    {
     "data": {
      "text/plain": [
       "true"
      ]
     },
     "execution_count": 20,
     "metadata": {},
     "output_type": "execute_result"
    }
   ],
   "source": [
    "Target( δ ) == aa"
   ]
  },
  {
   "cell_type": "code",
   "execution_count": 21,
   "id": "efdaf4d5",
   "metadata": {},
   "outputs": [
    {
     "data": {
      "text/plain": [
       "true"
      ]
     },
     "execution_count": 21,
     "metadata": {},
     "output_type": "execute_result"
    }
   ],
   "source": [
    "IsOne( ComponentOfMorphismIntoDirectProduct( δ, [ a, a ], 1 ) )"
   ]
  },
  {
   "cell_type": "code",
   "execution_count": 22,
   "id": "9f3619ee",
   "metadata": {},
   "outputs": [
    {
     "data": {
      "text/plain": [
       "true"
      ]
     },
     "execution_count": 22,
     "metadata": {},
     "output_type": "execute_result"
    }
   ],
   "source": [
    "IsOne( ComponentOfMorphismIntoDirectProduct( δ, [ a, a ], 2 ) )"
   ]
  },
  {
   "cell_type": "code",
   "execution_count": 23,
   "id": "fe9d434f",
   "metadata": {},
   "outputs": [
    {
     "data": {
      "text/plain": [
       "true"
      ]
     },
     "execution_count": 23,
     "metadata": {},
     "output_type": "execute_result"
    }
   ],
   "source": [
    "IsWellDefined( δ )"
   ]
  },
  {
   "cell_type": "code",
   "execution_count": 24,
   "id": "f7dcf793",
   "metadata": {},
   "outputs": [
    {
     "name": "stdout",
     "output_type": "stream",
     "text": [
      "{ 0, 1 } ⱶ[ 0, 0 ]→ { 0 }\n",
      "\n",
      "[ (a)-[(a)]->(a), (a)-[(a)]->(a) ]\n",
      "\n",
      "A morphism in FiniteStrictProductCompletion( FreeCategory( RightQuiver( \"Q(a)[]\" ) ) ) given by the above data\n"
     ]
    }
   ],
   "source": [
    "Display( δ )"
   ]
  },
  {
   "cell_type": "code",
   "execution_count": 25,
   "id": "806b1bf3",
   "metadata": {},
   "outputs": [
    {
     "data": {
      "text/plain": [
       "true"
      ]
     },
     "execution_count": 25,
     "metadata": {},
     "output_type": "execute_result"
    }
   ],
   "source": [
    "δ == CartesianDiagonal( a, 2 )"
   ]
  },
  {
   "cell_type": "code",
   "execution_count": 26,
   "id": "ecc2df1d",
   "metadata": {},
   "outputs": [
    {
     "data": {
      "text/plain": [
       "GAP: LazyCategory( FiniteStrictProductCompletion( FreeCategory( RightQuiver( \"Q(a)[]\" ) ) ) )"
      ]
     },
     "execution_count": 26,
     "metadata": {},
     "output_type": "execute_result"
    }
   ],
   "source": [
    "LPC = LazyCategory( PC, primitive_operations = true )"
   ]
  },
  {
   "cell_type": "code",
   "execution_count": 27,
   "id": "42717e4f",
   "metadata": {},
   "outputs": [
    {
     "data": {
      "text/plain": [
       "GAP: Embedding functor into lazy category"
      ]
     },
     "execution_count": 27,
     "metadata": {},
     "output_type": "execute_result"
    }
   ],
   "source": [
    "Emb = EmbeddingFunctorOfUnderlyingCategory( LPC )"
   ]
  },
  {
   "cell_type": "code",
   "execution_count": 28,
   "id": "c2d58587",
   "metadata": {},
   "outputs": [
    {
     "name": "stdout",
     "output_type": "stream",
     "text": [
      "Embedding functor into lazy category:\n",
      "\n",
      "FiniteStrictProductCompletion( FreeCategory( RightQuiver( \"Q(a)[]\" ) ) )\n",
      "  |\n",
      "  V\n",
      "LazyCategory( FiniteStrictProductCompletion( FreeCategory( RightQuiver( \"Q(a)[]\" ) ) ) )\n"
     ]
    }
   ],
   "source": [
    "Display( Emb )"
   ]
  },
  {
   "cell_type": "code",
   "execution_count": 29,
   "id": "c84bfc36",
   "metadata": {},
   "outputs": [
    {
     "data": {
      "text/plain": [
       "GAP: Precomposition of Embedding functor into a finite strict product completion category and Embedding functor into lazy category"
      ]
     },
     "execution_count": 29,
     "metadata": {},
     "output_type": "execute_result"
    }
   ],
   "source": [
    "F = PreCompose( EmbeddingOfUnderlyingCategory( PC ), Emb )"
   ]
  },
  {
   "cell_type": "code",
   "execution_count": 30,
   "id": "ae8e41d0",
   "metadata": {},
   "outputs": [
    {
     "name": "stdout",
     "output_type": "stream",
     "text": [
      "Precomposition of Embedding functor into a finite strict product completion category and Embedding functor into lazy category:\n",
      "\n",
      "FreeCategory( RightQuiver( \"Q(a)[]\" ) )\n",
      "  |\n",
      "  V\n",
      "LazyCategory( FiniteStrictProductCompletion( FreeCategory( RightQuiver( \"Q(a)[]\" ) ) ) )\n"
     ]
    }
   ],
   "source": [
    "Display( F )"
   ]
  },
  {
   "cell_type": "code",
   "execution_count": 31,
   "id": "5c2007af",
   "metadata": {},
   "outputs": [
    {
     "data": {
      "text/plain": [
       "GAP: Extension to FiniteStrictProductCompletion( Source( Precomposition of Embedding functor into a finite strict product completion category and Embedding functor into lazy category ) )"
      ]
     },
     "execution_count": 31,
     "metadata": {},
     "output_type": "execute_result"
    }
   ],
   "source": [
    "G = ExtendFunctorToFiniteStrictProductCompletion( F )"
   ]
  },
  {
   "cell_type": "code",
   "execution_count": 32,
   "id": "a80b3570",
   "metadata": {},
   "outputs": [
    {
     "name": "stdout",
     "output_type": "stream",
     "text": [
      "Extension to FiniteStrictProductCompletion( Source( Precomposition of Embedding functor into a finite strict product completion category and Embedding functor into lazy category ) ):\n",
      "\n",
      "FiniteStrictProductCompletion( FreeCategory( RightQuiver( \"Q(a)[]\" ) ) )\n",
      "  |\n",
      "  V\n",
      "LazyCategory( FiniteStrictProductCompletion( FreeCategory( RightQuiver( \"Q(a)[]\" ) ) ) )\n"
     ]
    }
   ],
   "source": [
    "Display( G )"
   ]
  },
  {
   "cell_type": "code",
   "execution_count": 33,
   "id": "b086bbeb",
   "metadata": {},
   "outputs": [
    {
     "data": {
      "text/plain": [
       "GAP: <A morphism in LazyCategory( FiniteStrictProductCompletion( FreeCategory( RightQuiver( \"Q(a)[]\" ) ) ) )>"
      ]
     },
     "execution_count": 33,
     "metadata": {},
     "output_type": "execute_result"
    }
   ],
   "source": [
    "Gδ = G( δ )"
   ]
  },
  {
   "cell_type": "code",
   "execution_count": 34,
   "id": "a825a3e4",
   "metadata": {},
   "outputs": [
    {
     "data": {
      "text/plain": [
       "true"
      ]
     },
     "execution_count": 34,
     "metadata": {},
     "output_type": "execute_result"
    }
   ],
   "source": [
    "IsWellDefined( Gδ )"
   ]
  },
  {
   "cell_type": "code",
   "execution_count": 35,
   "id": "90c36289",
   "metadata": {},
   "outputs": [
    {
     "data": {
      "image/svg+xml": [
       "<?xml version=\"1.0\" encoding=\"UTF-8\" standalone=\"no\"?>\n",
       "<!DOCTYPE svg PUBLIC \"-//W3C//DTD SVG 1.1//EN\"\n",
       " \"http://www.w3.org/Graphics/SVG/1.1/DTD/svg11.dtd\">\n",
       "<!-- Generated by graphviz version 2.50.0 (20211204.2007)\n",
       " -->\n",
       "<!-- Title: hgn Pages: 1 -->\n",
       "<svg width=\"470pt\" height=\"493pt\"\n",
       " viewBox=\"0.00 0.00 469.50 493.00\" xmlns=\"http://www.w3.org/2000/svg\" xmlns:xlink=\"http://www.w3.org/1999/xlink\">\n",
       "<g id=\"graph0\" class=\"graph\" transform=\"scale(1 1) rotate(0) translate(4 489)\">\n",
       "<title>hgn</title>\n",
       "<polygon fill=\"white\" stroke=\"transparent\" points=\"-4,4 -4,-489 465.5,-489 465.5,4 -4,4\"/>\n",
       "<!-- 1 -->\n",
       "<g id=\"node1\" class=\"node\">\n",
       "<title>1</title>\n",
       "<polygon fill=\"none\" stroke=\"black\" points=\"73,-291 0,-291 0,-238 73,-238 73,-291\"/>\n",
       "<text text-anchor=\"middle\" x=\"36.5\" y=\"-275.8\" font-family=\"Times,serif\" font-size=\"14.00\">[1]</text>\n",
       "<text text-anchor=\"middle\" x=\"36.5\" y=\"-260.8\" font-family=\"Times,serif\" font-size=\"14.00\">primitive</text>\n",
       "<text text-anchor=\"middle\" x=\"36.5\" y=\"-245.8\" font-family=\"Times,serif\" font-size=\"14.00\">morphism</text>\n",
       "</g>\n",
       "<!-- 6 -->\n",
       "<g id=\"node6\" class=\"node\">\n",
       "<title>6</title>\n",
       "<polygon fill=\"none\" stroke=\"black\" points=\"264.5,-187 196.5,-187 196.5,-134 264.5,-134 264.5,-187\"/>\n",
       "<text text-anchor=\"middle\" x=\"230.5\" y=\"-171.8\" font-family=\"Times,serif\" font-size=\"14.00\">[6]</text>\n",
       "<text text-anchor=\"middle\" x=\"230.5\" y=\"-156.8\" font-family=\"Times,serif\" font-size=\"14.00\">Pre</text>\n",
       "<text text-anchor=\"middle\" x=\"230.5\" y=\"-141.8\" font-family=\"Times,serif\" font-size=\"14.00\">Compose</text>\n",
       "</g>\n",
       "<!-- 1&#45;&gt;6 -->\n",
       "<g id=\"edge7\" class=\"edge\">\n",
       "<title>1&#45;&gt;6</title>\n",
       "<path fill=\"none\" stroke=\"black\" d=\"M73.11,-243.08C76.28,-241.35 79.44,-239.64 82.5,-238 117.47,-219.27 157.45,-198.65 187.04,-183.55\"/>\n",
       "<polygon fill=\"black\" stroke=\"black\" points=\"188.94,-186.5 196.26,-178.84 185.76,-180.27 188.94,-186.5\"/>\n",
       "<text text-anchor=\"middle\" x=\"147\" y=\"-208.8\" font-family=\"Times,serif\" font-size=\"14.00\">2</text>\n",
       "</g>\n",
       "<!-- 2 -->\n",
       "<g id=\"node2\" class=\"node\">\n",
       "<title>2</title>\n",
       "<polygon fill=\"none\" stroke=\"black\" points=\"387,-485 320,-485 320,-432 387,-432 387,-485\"/>\n",
       "<text text-anchor=\"middle\" x=\"353.5\" y=\"-469.8\" font-family=\"Times,serif\" font-size=\"14.00\">[2]</text>\n",
       "<text text-anchor=\"middle\" x=\"353.5\" y=\"-454.8\" font-family=\"Times,serif\" font-size=\"14.00\">primitive</text>\n",
       "<text text-anchor=\"middle\" x=\"353.5\" y=\"-439.8\" font-family=\"Times,serif\" font-size=\"14.00\">object</text>\n",
       "</g>\n",
       "<!-- 3 -->\n",
       "<g id=\"node3\" class=\"node\">\n",
       "<title>3</title>\n",
       "<polygon fill=\"none\" stroke=\"black\" points=\"306,-395 247,-395 247,-342 306,-342 306,-395\"/>\n",
       "<text text-anchor=\"middle\" x=\"276.5\" y=\"-379.8\" font-family=\"Times,serif\" font-size=\"14.00\">[3]</text>\n",
       "<text text-anchor=\"middle\" x=\"276.5\" y=\"-364.8\" font-family=\"Times,serif\" font-size=\"14.00\">Direct</text>\n",
       "<text text-anchor=\"middle\" x=\"276.5\" y=\"-349.8\" font-family=\"Times,serif\" font-size=\"14.00\">Product</text>\n",
       "</g>\n",
       "<!-- 2&#45;&gt;3 -->\n",
       "<g id=\"edge1\" class=\"edge\">\n",
       "<title>2&#45;&gt;3</title>\n",
       "<path fill=\"none\" stroke=\"black\" d=\"M330.81,-431.57C322.98,-422.62 314.09,-412.46 305.81,-402.99\"/>\n",
       "<polygon fill=\"black\" stroke=\"black\" points=\"308.24,-400.46 299.02,-395.24 302.97,-405.07 308.24,-400.46\"/>\n",
       "</g>\n",
       "<!-- 4 -->\n",
       "<g id=\"node4\" class=\"node\">\n",
       "<title>4</title>\n",
       "<polygon fill=\"none\" stroke=\"black\" points=\"299.5,-291 91.5,-291 91.5,-238 299.5,-238 299.5,-291\"/>\n",
       "<text text-anchor=\"middle\" x=\"195.5\" y=\"-275.8\" font-family=\"Times,serif\" font-size=\"14.00\">[4]</text>\n",
       "<text text-anchor=\"middle\" x=\"195.5\" y=\"-260.8\" font-family=\"Times,serif\" font-size=\"14.00\">ProjectionInFactorOfDirectProduct</text>\n",
       "<text text-anchor=\"middle\" x=\"195.5\" y=\"-245.8\" font-family=\"Times,serif\" font-size=\"14.00\">WithGivenDirectProduct( 1 )</text>\n",
       "</g>\n",
       "<!-- 2&#45;&gt;4 -->\n",
       "<g id=\"edge2\" class=\"edge\">\n",
       "<title>2&#45;&gt;4</title>\n",
       "<path fill=\"none\" stroke=\"black\" d=\"M319.91,-448.75C292,-439.77 253.31,-423.07 230.5,-395 208.88,-368.39 200.55,-329.57 197.38,-301.38\"/>\n",
       "<polygon fill=\"black\" stroke=\"black\" points=\"200.84,-300.76 196.4,-291.14 193.87,-301.43 200.84,-300.76\"/>\n",
       "<text text-anchor=\"middle\" x=\"234\" y=\"-364.8\" font-family=\"Times,serif\" font-size=\"14.00\">1</text>\n",
       "</g>\n",
       "<!-- 5 -->\n",
       "<g id=\"node5\" class=\"node\">\n",
       "<title>5</title>\n",
       "<polygon fill=\"none\" stroke=\"black\" points=\"383,-395 324,-395 324,-342 383,-342 383,-395\"/>\n",
       "<text text-anchor=\"middle\" x=\"353.5\" y=\"-379.8\" font-family=\"Times,serif\" font-size=\"14.00\">[5]</text>\n",
       "<text text-anchor=\"middle\" x=\"353.5\" y=\"-364.8\" font-family=\"Times,serif\" font-size=\"14.00\">Direct</text>\n",
       "<text text-anchor=\"middle\" x=\"353.5\" y=\"-349.8\" font-family=\"Times,serif\" font-size=\"14.00\">Product</text>\n",
       "</g>\n",
       "<!-- 2&#45;&gt;5 -->\n",
       "<g id=\"edge4\" class=\"edge\">\n",
       "<title>2&#45;&gt;5</title>\n",
       "<path fill=\"none\" stroke=\"black\" d=\"M347.28,-431.57C346.77,-423.34 346.63,-414.08 346.86,-405.28\"/>\n",
       "<polygon fill=\"black\" stroke=\"black\" points=\"350.35,-405.39 347.3,-395.24 343.36,-405.08 350.35,-405.39\"/>\n",
       "</g>\n",
       "<!-- 2&#45;&gt;5 -->\n",
       "<g id=\"edge5\" class=\"edge\">\n",
       "<title>2&#45;&gt;5</title>\n",
       "<path fill=\"none\" stroke=\"black\" d=\"M359.72,-431.57C360.23,-423.34 360.37,-414.08 360.14,-405.28\"/>\n",
       "<polygon fill=\"black\" stroke=\"black\" points=\"363.64,-405.08 359.7,-395.24 356.65,-405.39 363.64,-405.08\"/>\n",
       "</g>\n",
       "<!-- 7 -->\n",
       "<g id=\"node7\" class=\"node\">\n",
       "<title>7</title>\n",
       "<polygon fill=\"none\" stroke=\"black\" points=\"410,-83 283,-83 283,0 410,0 410,-83\"/>\n",
       "<text text-anchor=\"middle\" x=\"346.5\" y=\"-67.8\" font-family=\"Times,serif\" font-size=\"14.00\">[7]</text>\n",
       "<text text-anchor=\"middle\" x=\"346.5\" y=\"-52.8\" font-family=\"Times,serif\" font-size=\"14.00\">UniversalMorphism</text>\n",
       "<text text-anchor=\"middle\" x=\"346.5\" y=\"-37.8\" font-family=\"Times,serif\" font-size=\"14.00\">IntoDirectProduct</text>\n",
       "<text text-anchor=\"middle\" x=\"346.5\" y=\"-22.8\" font-family=\"Times,serif\" font-size=\"14.00\">WithGiven</text>\n",
       "<text text-anchor=\"middle\" x=\"346.5\" y=\"-7.8\" font-family=\"Times,serif\" font-size=\"14.00\">DirectProduct</text>\n",
       "</g>\n",
       "<!-- 2&#45;&gt;7 -->\n",
       "<g id=\"edge8\" class=\"edge\">\n",
       "<title>2&#45;&gt;7</title>\n",
       "<path fill=\"none\" stroke=\"black\" d=\"M381.82,-431.82C396.54,-415.61 411.5,-393.29 411.5,-369.5 411.5,-369.5 411.5,-369.5 411.5,-159.5 411.5,-135.31 400.75,-111.45 388,-91.65\"/>\n",
       "<polygon fill=\"black\" stroke=\"black\" points=\"390.74,-89.45 382.23,-83.13 384.94,-93.38 390.74,-89.45\"/>\n",
       "<text text-anchor=\"middle\" x=\"415\" y=\"-260.8\" font-family=\"Times,serif\" font-size=\"14.00\">1</text>\n",
       "</g>\n",
       "<!-- 2&#45;&gt;7 -->\n",
       "<g id=\"edge9\" class=\"edge\">\n",
       "<title>2&#45;&gt;7</title>\n",
       "<path fill=\"none\" stroke=\"black\" d=\"M387.13,-444.58C416.51,-430.84 454.5,-406.01 454.5,-369.5 454.5,-369.5 454.5,-369.5 454.5,-159.5 454.5,-131.8 437.96,-107.86 417.82,-88.98\"/>\n",
       "<polygon fill=\"black\" stroke=\"black\" points=\"420.06,-86.29 410.26,-82.26 415.41,-91.52 420.06,-86.29\"/>\n",
       "<text text-anchor=\"middle\" x=\"458\" y=\"-260.8\" font-family=\"Times,serif\" font-size=\"14.00\">2</text>\n",
       "</g>\n",
       "<!-- 3&#45;&gt;4 -->\n",
       "<g id=\"edge3\" class=\"edge\">\n",
       "<title>3&#45;&gt;4</title>\n",
       "<path fill=\"none\" stroke=\"black\" d=\"M256.06,-341.76C245.8,-328.84 233.23,-313.01 222.21,-299.14\"/>\n",
       "<polygon fill=\"black\" stroke=\"black\" points=\"224.89,-296.89 215.93,-291.23 219.41,-301.24 224.89,-296.89\"/>\n",
       "<text text-anchor=\"middle\" x=\"245\" y=\"-312.8\" font-family=\"Times,serif\" font-size=\"14.00\">2</text>\n",
       "</g>\n",
       "<!-- 3&#45;&gt;7 -->\n",
       "<g id=\"edge10\" class=\"edge\">\n",
       "<title>3&#45;&gt;7</title>\n",
       "<path fill=\"none\" stroke=\"black\" d=\"M289.08,-341.86C295.76,-327.27 303.59,-308.46 308.5,-291 327.33,-223.98 337.45,-144 342.4,-93.23\"/>\n",
       "<polygon fill=\"black\" stroke=\"black\" points=\"345.9,-93.45 343.35,-83.17 338.93,-92.8 345.9,-93.45\"/>\n",
       "<text text-anchor=\"middle\" x=\"331\" y=\"-208.8\" font-family=\"Times,serif\" font-size=\"14.00\">3</text>\n",
       "</g>\n",
       "<!-- 4&#45;&gt;6 -->\n",
       "<g id=\"edge6\" class=\"edge\">\n",
       "<title>4&#45;&gt;6</title>\n",
       "<path fill=\"none\" stroke=\"black\" d=\"M204.33,-237.76C208.6,-225.32 213.79,-210.19 218.42,-196.7\"/>\n",
       "<polygon fill=\"black\" stroke=\"black\" points=\"221.74,-197.83 221.67,-187.23 215.11,-195.55 221.74,-197.83\"/>\n",
       "<text text-anchor=\"middle\" x=\"219\" y=\"-208.8\" font-family=\"Times,serif\" font-size=\"14.00\">1</text>\n",
       "</g>\n",
       "<!-- 5&#45;&gt;7 -->\n",
       "<g id=\"edge13\" class=\"edge\">\n",
       "<title>5&#45;&gt;7</title>\n",
       "<path fill=\"none\" stroke=\"black\" d=\"M352.95,-342C351.8,-288.55 349.12,-163.93 347.6,-93.44\"/>\n",
       "<polygon fill=\"black\" stroke=\"black\" points=\"351.09,-92.95 347.37,-83.03 344.09,-93.1 351.09,-92.95\"/>\n",
       "<text text-anchor=\"middle\" x=\"354\" y=\"-208.8\" font-family=\"Times,serif\" font-size=\"14.00\">6</text>\n",
       "</g>\n",
       "<!-- 6&#45;&gt;7 -->\n",
       "<g id=\"edge11\" class=\"edge\">\n",
       "<title>6&#45;&gt;7</title>\n",
       "<path fill=\"none\" stroke=\"black\" d=\"M242.92,-133.78C248.86,-122.97 256.62,-110.68 265.5,-101 269,-97.18 272.79,-93.46 276.74,-89.86\"/>\n",
       "<polygon fill=\"black\" stroke=\"black\" points=\"279.28,-92.3 284.54,-83.1 274.69,-87.01 279.28,-92.3\"/>\n",
       "<text text-anchor=\"middle\" x=\"269\" y=\"-104.8\" font-family=\"Times,serif\" font-size=\"14.00\">4</text>\n",
       "</g>\n",
       "<!-- 6&#45;&gt;7 -->\n",
       "<g id=\"edge12\" class=\"edge\">\n",
       "<title>6&#45;&gt;7</title>\n",
       "<path fill=\"none\" stroke=\"black\" d=\"M255.96,-133.82C268.57,-121.11 284.21,-105.33 298.93,-90.48\"/>\n",
       "<polygon fill=\"black\" stroke=\"black\" points=\"301.5,-92.86 306.06,-83.29 296.53,-87.93 301.5,-92.86\"/>\n",
       "<text text-anchor=\"middle\" x=\"292\" y=\"-104.8\" font-family=\"Times,serif\" font-size=\"14.00\">5</text>\n",
       "</g>\n",
       "</g>\n",
       "</svg>\n"
      ]
     },
     "metadata": {},
     "output_type": "display_data"
    }
   ],
   "source": [
    "Visualize( Gδ )"
   ]
  },
  {
   "cell_type": "code",
   "execution_count": 36,
   "id": "85c15720",
   "metadata": {},
   "outputs": [
    {
     "data": {
      "image/svg+xml": [
       "<?xml version=\"1.0\" encoding=\"UTF-8\" standalone=\"no\"?>\n",
       "<!DOCTYPE svg PUBLIC \"-//W3C//DTD SVG 1.1//EN\"\n",
       " \"http://www.w3.org/Graphics/SVG/1.1/DTD/svg11.dtd\">\n",
       "<!-- Generated by graphviz version 2.50.0 (20211204.2007)\n",
       " -->\n",
       "<!-- Title: hgn Pages: 1 -->\n",
       "<svg width=\"252pt\" height=\"285pt\"\n",
       " viewBox=\"0.00 0.00 252.00 285.00\" xmlns=\"http://www.w3.org/2000/svg\" xmlns:xlink=\"http://www.w3.org/1999/xlink\">\n",
       "<g id=\"graph0\" class=\"graph\" transform=\"scale(1 1) rotate(0) translate(4 281)\">\n",
       "<title>hgn</title>\n",
       "<polygon fill=\"white\" stroke=\"transparent\" points=\"-4,4 -4,-281 248,-281 248,4 -4,4\"/>\n",
       "<!-- 1 -->\n",
       "<g id=\"node1\" class=\"node\">\n",
       "<title>1</title>\n",
       "<polygon fill=\"none\" stroke=\"black\" points=\"202,-277 135,-277 135,-224 202,-224 202,-277\"/>\n",
       "<text text-anchor=\"middle\" x=\"168.5\" y=\"-261.8\" font-family=\"Times,serif\" font-size=\"14.00\">[1]</text>\n",
       "<text text-anchor=\"middle\" x=\"168.5\" y=\"-246.8\" font-family=\"Times,serif\" font-size=\"14.00\">primitive</text>\n",
       "<text text-anchor=\"middle\" x=\"168.5\" y=\"-231.8\" font-family=\"Times,serif\" font-size=\"14.00\">object</text>\n",
       "</g>\n",
       "<!-- 2 -->\n",
       "<g id=\"node2\" class=\"node\">\n",
       "<title>2</title>\n",
       "<polygon fill=\"none\" stroke=\"black\" points=\"59,-187 0,-187 0,-134 59,-134 59,-187\"/>\n",
       "<text text-anchor=\"middle\" x=\"29.5\" y=\"-171.8\" font-family=\"Times,serif\" font-size=\"14.00\">[2]</text>\n",
       "<text text-anchor=\"middle\" x=\"29.5\" y=\"-156.8\" font-family=\"Times,serif\" font-size=\"14.00\">Direct</text>\n",
       "<text text-anchor=\"middle\" x=\"29.5\" y=\"-141.8\" font-family=\"Times,serif\" font-size=\"14.00\">Product</text>\n",
       "</g>\n",
       "<!-- 1&#45;&gt;2 -->\n",
       "<g id=\"edge1\" class=\"edge\">\n",
       "<title>1&#45;&gt;2</title>\n",
       "<path fill=\"none\" stroke=\"black\" d=\"M134.69,-233.2C115.35,-222.09 90.72,-206.84 67.78,-192.28\"/>\n",
       "<polygon fill=\"black\" stroke=\"black\" points=\"69.4,-189.16 59.09,-186.74 65.64,-195.06 69.4,-189.16\"/>\n",
       "</g>\n",
       "<!-- 1&#45;&gt;2 -->\n",
       "<g id=\"edge2\" class=\"edge\">\n",
       "<title>1&#45;&gt;2</title>\n",
       "<path fill=\"none\" stroke=\"black\" d=\"M135.29,-223.84C117.99,-212.62 96.65,-199.24 77.5,-187 74.39,-185.01 71.14,-182.92 67.86,-180.82\"/>\n",
       "<polygon fill=\"black\" stroke=\"black\" points=\"69.48,-177.71 59.16,-175.34 65.75,-183.63 69.48,-177.71\"/>\n",
       "</g>\n",
       "<!-- 3 -->\n",
       "<g id=\"node3\" class=\"node\">\n",
       "<title>3</title>\n",
       "<polygon fill=\"none\" stroke=\"black\" points=\"151.5,-187 77.5,-187 77.5,-134 151.5,-134 151.5,-187\"/>\n",
       "<text text-anchor=\"middle\" x=\"114.5\" y=\"-171.8\" font-family=\"Times,serif\" font-size=\"14.00\">[3]</text>\n",
       "<text text-anchor=\"middle\" x=\"114.5\" y=\"-156.8\" font-family=\"Times,serif\" font-size=\"14.00\">Identity</text>\n",
       "<text text-anchor=\"middle\" x=\"114.5\" y=\"-141.8\" font-family=\"Times,serif\" font-size=\"14.00\">Morphism</text>\n",
       "</g>\n",
       "<!-- 1&#45;&gt;3 -->\n",
       "<g id=\"edge3\" class=\"edge\">\n",
       "<title>1&#45;&gt;3</title>\n",
       "<path fill=\"none\" stroke=\"black\" d=\"M152.59,-223.57C147.26,-214.89 141.24,-205.07 135.58,-195.85\"/>\n",
       "<polygon fill=\"black\" stroke=\"black\" points=\"138.51,-193.93 130.3,-187.24 132.54,-197.6 138.51,-193.93\"/>\n",
       "</g>\n",
       "<!-- 4 -->\n",
       "<g id=\"node4\" class=\"node\">\n",
       "<title>4</title>\n",
       "<polygon fill=\"none\" stroke=\"black\" points=\"244,-83 117,-83 117,0 244,0 244,-83\"/>\n",
       "<text text-anchor=\"middle\" x=\"180.5\" y=\"-67.8\" font-family=\"Times,serif\" font-size=\"14.00\">[4]</text>\n",
       "<text text-anchor=\"middle\" x=\"180.5\" y=\"-52.8\" font-family=\"Times,serif\" font-size=\"14.00\">UniversalMorphism</text>\n",
       "<text text-anchor=\"middle\" x=\"180.5\" y=\"-37.8\" font-family=\"Times,serif\" font-size=\"14.00\">IntoDirectProduct</text>\n",
       "<text text-anchor=\"middle\" x=\"180.5\" y=\"-22.8\" font-family=\"Times,serif\" font-size=\"14.00\">WithGiven</text>\n",
       "<text text-anchor=\"middle\" x=\"180.5\" y=\"-7.8\" font-family=\"Times,serif\" font-size=\"14.00\">DirectProduct</text>\n",
       "</g>\n",
       "<!-- 1&#45;&gt;4 -->\n",
       "<g id=\"edge4\" class=\"edge\">\n",
       "<title>1&#45;&gt;4</title>\n",
       "<path fill=\"none\" stroke=\"black\" d=\"M170,-223.7C171.88,-191.23 175.15,-134.71 177.55,-93.41\"/>\n",
       "<polygon fill=\"black\" stroke=\"black\" points=\"181.05,-93.45 178.14,-83.26 174.06,-93.04 181.05,-93.45\"/>\n",
       "<text text-anchor=\"middle\" x=\"178\" y=\"-156.8\" font-family=\"Times,serif\" font-size=\"14.00\">1</text>\n",
       "</g>\n",
       "<!-- 1&#45;&gt;4 -->\n",
       "<g id=\"edge5\" class=\"edge\">\n",
       "<title>1&#45;&gt;4</title>\n",
       "<path fill=\"none\" stroke=\"black\" d=\"M179.38,-223.63C181.4,-217.92 183.26,-211.82 184.5,-206 194.22,-160.28 194.45,-147.58 190.5,-101 190.29,-98.48 190.02,-95.91 189.72,-93.32\"/>\n",
       "<polygon fill=\"black\" stroke=\"black\" points=\"193.17,-92.75 188.38,-83.3 186.23,-93.67 193.17,-92.75\"/>\n",
       "<text text-anchor=\"middle\" x=\"196\" y=\"-156.8\" font-family=\"Times,serif\" font-size=\"14.00\">2</text>\n",
       "</g>\n",
       "<!-- 1&#45;&gt;4 -->\n",
       "<g id=\"edge6\" class=\"edge\">\n",
       "<title>1&#45;&gt;4</title>\n",
       "<path fill=\"none\" stroke=\"black\" d=\"M188.44,-223.69C192.16,-218.07 195.74,-212 198.5,-206 202.14,-198.06 202.32,-195.65 203.5,-187 208.67,-149.13 211.89,-138.5 204.5,-101 203.97,-98.32 203.32,-95.6 202.57,-92.88\"/>\n",
       "<polygon fill=\"black\" stroke=\"black\" points=\"205.83,-91.59 199.49,-83.1 199.15,-93.69 205.83,-91.59\"/>\n",
       "<text text-anchor=\"middle\" x=\"212\" y=\"-156.8\" font-family=\"Times,serif\" font-size=\"14.00\">3</text>\n",
       "</g>\n",
       "<!-- 2&#45;&gt;4 -->\n",
       "<g id=\"edge9\" class=\"edge\">\n",
       "<title>2&#45;&gt;4</title>\n",
       "<path fill=\"none\" stroke=\"black\" d=\"M59.33,-136.38C76.71,-122.92 99.26,-105.45 120.18,-89.24\"/>\n",
       "<polygon fill=\"black\" stroke=\"black\" points=\"122.34,-91.99 128.1,-83.1 118.06,-86.46 122.34,-91.99\"/>\n",
       "<text text-anchor=\"middle\" x=\"108\" y=\"-104.8\" font-family=\"Times,serif\" font-size=\"14.00\">6</text>\n",
       "</g>\n",
       "<!-- 3&#45;&gt;4 -->\n",
       "<g id=\"edge7\" class=\"edge\">\n",
       "<title>3&#45;&gt;4</title>\n",
       "<path fill=\"none\" stroke=\"black\" d=\"M118.95,-133.82C121.43,-123.25 125.13,-111.14 130.5,-101 132.23,-97.74 134.16,-94.5 136.25,-91.32\"/>\n",
       "<polygon fill=\"black\" stroke=\"black\" points=\"139.17,-93.24 142.05,-83.04 133.44,-89.22 139.17,-93.24\"/>\n",
       "<text text-anchor=\"middle\" x=\"134\" y=\"-104.8\" font-family=\"Times,serif\" font-size=\"14.00\">4</text>\n",
       "</g>\n",
       "<!-- 3&#45;&gt;4 -->\n",
       "<g id=\"edge8\" class=\"edge\">\n",
       "<title>3&#45;&gt;4</title>\n",
       "<path fill=\"none\" stroke=\"black\" d=\"M128.98,-133.82C135.9,-121.57 144.41,-106.47 152.52,-92.11\"/>\n",
       "<polygon fill=\"black\" stroke=\"black\" points=\"155.63,-93.72 157.49,-83.29 149.53,-90.28 155.63,-93.72\"/>\n",
       "<text text-anchor=\"middle\" x=\"151\" y=\"-104.8\" font-family=\"Times,serif\" font-size=\"14.00\">5</text>\n",
       "</g>\n",
       "</g>\n",
       "</svg>\n"
      ]
     },
     "metadata": {},
     "output_type": "display_data"
    }
   ],
   "source": [
    "Visualize( CartesianDiagonal( LPC.a, 2 ) )"
   ]
  }
 ],
 "metadata": {
  "@webio": {
   "lastCommId": null,
   "lastKernelId": null
  },
  "kernelspec": {
   "display_name": "Julia 1.10.5",
   "language": "julia",
   "name": "julia-1.10"
  },
  "language_info": {
   "file_extension": ".jl",
   "mimetype": "application/julia",
   "name": "julia",
   "version": "1.10.5"
  }
 },
 "nbformat": 4,
 "nbformat_minor": 5
}
