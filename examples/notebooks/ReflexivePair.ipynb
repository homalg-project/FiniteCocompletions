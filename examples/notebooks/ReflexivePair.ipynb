{
 "cells": [
  {
   "cell_type": "markdown",
   "id": "5dd5d895",
   "metadata": {},
   "source": [
    "[![Binder](https://mybinder.org/badge_logo.svg)](https://gesis.mybinder.org/v2/gh/homalg-project/CapAndHomalgNotebooks/master?urlpath=git-pull%3Frepo%3Dhttps%253A%252F%252Fgithub.com%252Fhomalg-project%252FCategoricalTowers%26urlpath%3Dtree%252FCategoricalTowers%252FFiniteCocompletions%252Fexamples%252F%252Fnotebooks%252FReflexivePair.ipynb%26branch%3Dmaster)"
   ]
  },
  {
   "cell_type": "markdown",
   "id": "27d736b7",
   "metadata": {},
   "source": [
    "In this notebook we show how a pair morphisms $f,g:A \\rightrightarrows B$ in a category with finite coproducts induces a [reflexive pair](https://ncatlab.org/nlab/show/reflexive+coequalizer). This is used to show that to universally add coequalizers to a category with finite coproducts it suffices to add [reflexive coequalizers](https://ncatlab.org/nlab/show/reflexive+coequalizer). The dual version was proved in [1].\n",
    "\n",
    "[1] S. A. Huq and R. Cornu, [A remark on the existence of limits in categories.](https://doi.org/10.1002/mana.19730550111) Mathematische Nachrichten, **55** (1973), 223-224."
   ]
  },
  {
   "cell_type": "code",
   "execution_count": 1,
   "id": "256e81b7",
   "metadata": {},
   "outputs": [
    {
     "name": "stdout",
     "output_type": "stream",
     "text": [
      "CapAndHomalg v\u001b[32m1.5.6\u001b[39m\n",
      "Imported OSCAR's components GAP and Singular_jll\n",
      "Type: ?CapAndHomalg for more information\n"
     ]
    }
   ],
   "source": [
    "using CapAndHomalg"
   ]
  },
  {
   "cell_type": "code",
   "execution_count": 2,
   "id": "9309acbe",
   "metadata": {},
   "outputs": [],
   "source": [
    "LoadPackage( \"Algebroids\" )"
   ]
  },
  {
   "cell_type": "code",
   "execution_count": 3,
   "id": "734c4247",
   "metadata": {},
   "outputs": [],
   "source": [
    "LoadPackage( \"FiniteCocompletions\" )"
   ]
  },
  {
   "cell_type": "code",
   "execution_count": 4,
   "id": "d657e5bb",
   "metadata": {},
   "outputs": [],
   "source": [
    "LoadPackage( \"LazyCategories\" )"
   ]
  },
  {
   "cell_type": "code",
   "execution_count": 5,
   "id": "e1029929",
   "metadata": {},
   "outputs": [
    {
     "data": {
      "text/plain": [
       "GAP: Q(A,B)[f:A->B,g:A->B]"
      ]
     },
     "execution_count": 5,
     "metadata": {},
     "output_type": "execute_result"
    }
   ],
   "source": [
    "Q = RightQuiver( \"Q(A,B)[f:A->B,g:A->B]\" )"
   ]
  },
  {
   "cell_type": "code",
   "execution_count": 6,
   "id": "d6aa8950",
   "metadata": {},
   "outputs": [
    {
     "data": {
      "text/plain": [
       "GAP: FreeCategory( RightQuiver( \"Q(A,B)[f:A->B,g:A->B]\" ) )"
      ]
     },
     "execution_count": 6,
     "metadata": {},
     "output_type": "execute_result"
    }
   ],
   "source": [
    "C = FreeCategory( Q )"
   ]
  },
  {
   "cell_type": "code",
   "execution_count": 7,
   "id": "ab7092d3",
   "metadata": {},
   "outputs": [],
   "source": [
    "SetName( C.A, g\"C.A\" ); SetName( C.B, g\"C.B\" )"
   ]
  },
  {
   "cell_type": "code",
   "execution_count": 8,
   "id": "439ac720",
   "metadata": {},
   "outputs": [
    {
     "data": {
      "text/plain": [
       "GAP: FiniteStrictCoproductCompletion( FreeCategory( RightQuiver( \"Q(A,B)[f:A->B,g:A->B]\" ) ) )"
      ]
     },
     "execution_count": 8,
     "metadata": {},
     "output_type": "execute_result"
    }
   ],
   "source": [
    "UC = FiniteStrictCoproductCompletion( C )"
   ]
  },
  {
   "cell_type": "code",
   "execution_count": 9,
   "id": "c6bf53c1",
   "metadata": {},
   "outputs": [
    {
     "data": {
      "text/plain": [
       "GAP: <An object in FiniteStrictCoproductCompletion( FreeCategory( RightQuiver( \"Q(A,B)[f:A->B,g:A->B]\" ) ) )>"
      ]
     },
     "execution_count": 9,
     "metadata": {},
     "output_type": "execute_result"
    }
   ],
   "source": [
    "A = UC.A"
   ]
  },
  {
   "cell_type": "code",
   "execution_count": 10,
   "id": "67db1a95",
   "metadata": {},
   "outputs": [
    {
     "name": "stdout",
     "output_type": "stream",
     "text": [
      "[ 1, [ C.A ] ]\n",
      "\n",
      "An object in FiniteStrictCoproductCompletion( FreeCategory( RightQuiver( \"Q(A,B)[f:A->B,g:A->B]\" ) ) ) given by the above data\n"
     ]
    }
   ],
   "source": [
    "Display( A )"
   ]
  },
  {
   "cell_type": "code",
   "execution_count": 11,
   "id": "14a50987",
   "metadata": {},
   "outputs": [
    {
     "data": {
      "text/plain": [
       "GAP: <An object in FiniteStrictCoproductCompletion( FreeCategory( RightQuiver( \"Q(A,B)[f:A->B,g:A->B]\" ) ) )>"
      ]
     },
     "execution_count": 11,
     "metadata": {},
     "output_type": "execute_result"
    }
   ],
   "source": [
    "B = UC.B"
   ]
  },
  {
   "cell_type": "code",
   "execution_count": 12,
   "id": "25a91360",
   "metadata": {},
   "outputs": [
    {
     "name": "stdout",
     "output_type": "stream",
     "text": [
      "[ 1, [ C.B ] ]\n",
      "\n",
      "An object in FiniteStrictCoproductCompletion( FreeCategory( RightQuiver( \"Q(A,B)[f:A->B,g:A->B]\" ) ) ) given by the above data\n"
     ]
    }
   ],
   "source": [
    "Display( B )"
   ]
  },
  {
   "cell_type": "code",
   "execution_count": 13,
   "id": "7aaf2661",
   "metadata": {},
   "outputs": [
    {
     "data": {
      "text/plain": [
       "GAP: <A morphism in FiniteStrictCoproductCompletion( FreeCategory( RightQuiver( \"Q(A,B)[f:A->B,g:A->B]\" ) ) )>"
      ]
     },
     "execution_count": 13,
     "metadata": {},
     "output_type": "execute_result"
    }
   ],
   "source": [
    "f = UC.f"
   ]
  },
  {
   "cell_type": "code",
   "execution_count": 14,
   "id": "a0d54b43",
   "metadata": {},
   "outputs": [
    {
     "data": {
      "text/plain": [
       "GAP: <A morphism in FiniteStrictCoproductCompletion( FreeCategory( RightQuiver( \"Q(A,B)[f:A->B,g:A->B]\" ) ) )>"
      ]
     },
     "execution_count": 14,
     "metadata": {},
     "output_type": "execute_result"
    }
   ],
   "source": [
    "g = UC.g"
   ]
  },
  {
   "cell_type": "code",
   "execution_count": 15,
   "id": "1c1f298b",
   "metadata": {},
   "outputs": [
    {
     "data": {
      "text/plain": [
       "GAP: [ [ 0 ], [ (A)-[(f)]->(B) ] ]"
      ]
     },
     "execution_count": 15,
     "metadata": {},
     "output_type": "execute_result"
    }
   ],
   "source": [
    "MorphismDatum( f )"
   ]
  },
  {
   "cell_type": "code",
   "execution_count": 16,
   "id": "d2646a69",
   "metadata": {},
   "outputs": [
    {
     "data": {
      "text/plain": [
       "GAP: [ [ 0 ], [ (A)-[(g)]->(B) ] ]"
      ]
     },
     "execution_count": 16,
     "metadata": {},
     "output_type": "execute_result"
    }
   ],
   "source": [
    "MorphismDatum( g )"
   ]
  },
  {
   "cell_type": "code",
   "execution_count": 17,
   "id": "546fa57f",
   "metadata": {},
   "outputs": [
    {
     "data": {
      "text/plain": [
       "false"
      ]
     },
     "execution_count": 17,
     "metadata": {},
     "output_type": "execute_result"
    }
   ],
   "source": [
    "IsSplitEpimorphism( f )"
   ]
  },
  {
   "cell_type": "code",
   "execution_count": 18,
   "id": "10279bfe",
   "metadata": {},
   "outputs": [
    {
     "data": {
      "text/plain": [
       "false"
      ]
     },
     "execution_count": 18,
     "metadata": {},
     "output_type": "execute_result"
    }
   ],
   "source": [
    "IsSplitEpimorphism( g )"
   ]
  },
  {
   "cell_type": "code",
   "execution_count": 19,
   "id": "495c952f",
   "metadata": {},
   "outputs": [
    {
     "data": {
      "text/plain": [
       "GAP: <An object in FiniteStrictCoproductCompletion( FreeCategory( RightQuiver( \"Q(A,B)[f:A->B,g:A->B]\" ) ) )>"
      ]
     },
     "execution_count": 19,
     "metadata": {},
     "output_type": "execute_result"
    }
   ],
   "source": [
    "AuB = Coproduct( A, B )"
   ]
  },
  {
   "cell_type": "code",
   "execution_count": 20,
   "id": "2fbd5e61",
   "metadata": {},
   "outputs": [
    {
     "data": {
      "text/plain": [
       "GAP: |2|"
      ]
     },
     "execution_count": 20,
     "metadata": {},
     "output_type": "execute_result"
    }
   ],
   "source": [
    "HomStructure( AuB, B )"
   ]
  },
  {
   "cell_type": "code",
   "execution_count": 21,
   "id": "eaa5a1f7",
   "metadata": {},
   "outputs": [
    {
     "data": {
      "text/plain": [
       "GAP: [ <A morphism in FiniteStrictCoproductCompletion( FreeCategory( RightQuiver( \"Q(A,B)[f:A->B,g:A->B]\" ) ) )>, <A morphism in FiniteStrictCoproductCompletion( FreeCategory( RightQuiver( \"Q(A,B)[f:A->B,g:A->B]\" ) ) )> ]"
      ]
     },
     "execution_count": 21,
     "metadata": {},
     "output_type": "execute_result"
    }
   ],
   "source": [
    "hom = MorphismsOfExternalHom( AuB, B )"
   ]
  },
  {
   "cell_type": "code",
   "execution_count": 22,
   "id": "0f7e243e",
   "metadata": {},
   "outputs": [
    {
     "data": {
      "text/plain": [
       "GAP: <A morphism in FiniteStrictCoproductCompletion( FreeCategory( RightQuiver( \"Q(A,B)[f:A->B,g:A->B]\" ) ) )>"
      ]
     },
     "execution_count": 22,
     "metadata": {},
     "output_type": "execute_result"
    }
   ],
   "source": [
    "ff = hom[1]"
   ]
  },
  {
   "cell_type": "code",
   "execution_count": 23,
   "id": "ed16799c",
   "metadata": {},
   "outputs": [
    {
     "data": {
      "text/plain": [
       "GAP: <A morphism in FiniteStrictCoproductCompletion( FreeCategory( RightQuiver( \"Q(A,B)[f:A->B,g:A->B]\" ) ) )>"
      ]
     },
     "execution_count": 23,
     "metadata": {},
     "output_type": "execute_result"
    }
   ],
   "source": [
    "gg = hom[2]"
   ]
  },
  {
   "cell_type": "code",
   "execution_count": 24,
   "id": "d9f28283",
   "metadata": {},
   "outputs": [
    {
     "data": {
      "text/plain": [
       "false"
      ]
     },
     "execution_count": 24,
     "metadata": {},
     "output_type": "execute_result"
    }
   ],
   "source": [
    "ff == gg"
   ]
  },
  {
   "cell_type": "code",
   "execution_count": 25,
   "id": "6c76923d",
   "metadata": {},
   "outputs": [
    {
     "data": {
      "text/plain": [
       "true"
      ]
     },
     "execution_count": 25,
     "metadata": {},
     "output_type": "execute_result"
    }
   ],
   "source": [
    "IsSplitEpimorphism( ff )"
   ]
  },
  {
   "cell_type": "code",
   "execution_count": 26,
   "id": "669ab8f1",
   "metadata": {},
   "outputs": [
    {
     "data": {
      "text/plain": [
       "true"
      ]
     },
     "execution_count": 26,
     "metadata": {},
     "output_type": "execute_result"
    }
   ],
   "source": [
    "IsSplitEpimorphism( gg )"
   ]
  },
  {
   "cell_type": "code",
   "execution_count": 27,
   "id": "e6f31c3e",
   "metadata": {},
   "outputs": [
    {
     "data": {
      "text/plain": [
       "GAP: [ [ 0, 0 ], [ (A)-[(f)]->(B), (B)-[(B)]->(B) ] ]"
      ]
     },
     "execution_count": 27,
     "metadata": {},
     "output_type": "execute_result"
    }
   ],
   "source": [
    "MorphismDatum( ff )"
   ]
  },
  {
   "cell_type": "code",
   "execution_count": 28,
   "id": "21dc72d8",
   "metadata": {},
   "outputs": [
    {
     "data": {
      "text/plain": [
       "GAP: [ [ 0, 0 ], [ (A)-[(g)]->(B), (B)-[(B)]->(B) ] ]"
      ]
     },
     "execution_count": 28,
     "metadata": {},
     "output_type": "execute_result"
    }
   ],
   "source": [
    "MorphismDatum( gg )"
   ]
  },
  {
   "cell_type": "code",
   "execution_count": 29,
   "id": "5de6c2a9",
   "metadata": {},
   "outputs": [
    {
     "data": {
      "text/plain": [
       "GAP: |1|"
      ]
     },
     "execution_count": 29,
     "metadata": {},
     "output_type": "execute_result"
    }
   ],
   "source": [
    "HomStructure( B, AuB )"
   ]
  },
  {
   "cell_type": "code",
   "execution_count": 30,
   "id": "c6875174",
   "metadata": {},
   "outputs": [
    {
     "data": {
      "text/plain": [
       "GAP: <A morphism in FiniteStrictCoproductCompletion( FreeCategory( RightQuiver( \"Q(A,B)[f:A->B,g:A->B]\" ) ) )>"
      ]
     },
     "execution_count": 30,
     "metadata": {},
     "output_type": "execute_result"
    }
   ],
   "source": [
    "ii = MorphismsOfExternalHom( B, AuB )[1]"
   ]
  },
  {
   "cell_type": "code",
   "execution_count": 31,
   "id": "e0182407",
   "metadata": {},
   "outputs": [
    {
     "data": {
      "text/plain": [
       "true"
      ]
     },
     "execution_count": 31,
     "metadata": {},
     "output_type": "execute_result"
    }
   ],
   "source": [
    "ii == InjectionOfCofactorOfCoproduct( [ A, B ], 2 )"
   ]
  },
  {
   "cell_type": "code",
   "execution_count": 32,
   "id": "833d5c3a",
   "metadata": {},
   "outputs": [
    {
     "data": {
      "text/plain": [
       "true"
      ]
     },
     "execution_count": 32,
     "metadata": {},
     "output_type": "execute_result"
    }
   ],
   "source": [
    "f == ComponentOfMorphismFromCoproduct( ff, [ A, B ], 1 )"
   ]
  },
  {
   "cell_type": "code",
   "execution_count": 33,
   "id": "3d946116",
   "metadata": {},
   "outputs": [
    {
     "data": {
      "text/plain": [
       "true"
      ]
     },
     "execution_count": 33,
     "metadata": {},
     "output_type": "execute_result"
    }
   ],
   "source": [
    "IdentityMorphism( B ) == ComponentOfMorphismFromCoproduct( ff, [ A, B ], 2 )"
   ]
  },
  {
   "cell_type": "code",
   "execution_count": 34,
   "id": "6f342826",
   "metadata": {},
   "outputs": [
    {
     "data": {
      "text/plain": [
       "true"
      ]
     },
     "execution_count": 34,
     "metadata": {},
     "output_type": "execute_result"
    }
   ],
   "source": [
    "g == ComponentOfMorphismFromCoproduct( gg, [ A, B ], 1  )"
   ]
  },
  {
   "cell_type": "code",
   "execution_count": 35,
   "id": "3a316e2e",
   "metadata": {},
   "outputs": [
    {
     "data": {
      "text/plain": [
       "true"
      ]
     },
     "execution_count": 35,
     "metadata": {},
     "output_type": "execute_result"
    }
   ],
   "source": [
    "IdentityMorphism( B ) == ComponentOfMorphismFromCoproduct( gg, [ A, B ], 2 )"
   ]
  },
  {
   "cell_type": "code",
   "execution_count": 36,
   "id": "03e310c6",
   "metadata": {},
   "outputs": [
    {
     "data": {
      "text/plain": [
       "GAP: LazyCategory( FiniteStrictCoproductCompletion( FreeCategory( RightQuiver( \"Q(A,B)[f:A->B,g:A->B]\" ) ) ) )"
      ]
     },
     "execution_count": 36,
     "metadata": {},
     "output_type": "execute_result"
    }
   ],
   "source": [
    "LUC = LazyCategory( UC )"
   ]
  },
  {
   "cell_type": "code",
   "execution_count": 37,
   "id": "1da09305",
   "metadata": {},
   "outputs": [
    {
     "data": {
      "text/plain": [
       "GAP: Embedding functor into lazy category"
      ]
     },
     "execution_count": 37,
     "metadata": {},
     "output_type": "execute_result"
    }
   ],
   "source": [
    "Emb = EmbeddingFunctorOfUnderlyingCategory( LUC )"
   ]
  },
  {
   "cell_type": "code",
   "execution_count": 38,
   "id": "b704a864",
   "metadata": {},
   "outputs": [
    {
     "name": "stdout",
     "output_type": "stream",
     "text": [
      "Embedding functor into lazy category:\n",
      "\n",
      "FiniteStrictCoproductCompletion( FreeCategory( RightQuiver( \"Q(A,B)[f:A->B,g:A->B]\" ) ) )\n",
      "  |\n",
      "  V\n",
      "LazyCategory( FiniteStrictCoproductCompletion( FreeCategory( RightQuiver( \"Q(A,B)[f:A->B,g:A->B]\" ) ) ) )\n"
     ]
    }
   ],
   "source": [
    "Display( Emb )"
   ]
  },
  {
   "cell_type": "code",
   "execution_count": 39,
   "id": "862cdf72",
   "metadata": {},
   "outputs": [
    {
     "data": {
      "text/plain": [
       "GAP: Precomposition of Embedding functor into a finite strict coproduct cocompletion category and Embedding functor into lazy category"
      ]
     },
     "execution_count": 39,
     "metadata": {},
     "output_type": "execute_result"
    }
   ],
   "source": [
    "F = PreCompose( EmbeddingOfUnderlyingCategory( UC ), Emb )"
   ]
  },
  {
   "cell_type": "code",
   "execution_count": 40,
   "id": "4b683b37",
   "metadata": {},
   "outputs": [
    {
     "name": "stdout",
     "output_type": "stream",
     "text": [
      "Precomposition of Embedding functor into a finite strict coproduct cocompletion category and Embedding functor into lazy category:\n",
      "\n",
      "FreeCategory( RightQuiver( \"Q(A,B)[f:A->B,g:A->B]\" ) )\n",
      "  |\n",
      "  V\n",
      "LazyCategory( FiniteStrictCoproductCompletion( FreeCategory( RightQuiver( \"Q(A,B)[f:A->B,g:A->B]\" ) ) ) )\n"
     ]
    }
   ],
   "source": [
    "Display( F )"
   ]
  },
  {
   "cell_type": "code",
   "execution_count": 41,
   "id": "bcbe45bf",
   "metadata": {},
   "outputs": [
    {
     "data": {
      "text/plain": [
       "GAP: Extension to FiniteStrictCoproductCompletion( Source( Precomposition of Embedding functor into a finite strict coproduct cocompletion category and Embedding functor into lazy category ) )"
      ]
     },
     "execution_count": 41,
     "metadata": {},
     "output_type": "execute_result"
    }
   ],
   "source": [
    "G = ExtendFunctorToFiniteStrictCoproductCompletion( F )"
   ]
  },
  {
   "cell_type": "code",
   "execution_count": 42,
   "id": "db01d194",
   "metadata": {},
   "outputs": [
    {
     "name": "stdout",
     "output_type": "stream",
     "text": [
      "Extension to FiniteStrictCoproductCompletion( Source( Precomposition of Embedding functor into a finite strict coproduct cocompletion category and Embedding functor into lazy category ) ):\n",
      "\n",
      "FiniteStrictCoproductCompletion( FreeCategory( RightQuiver( \"Q(A,B)[f:A->B,g:A->B]\" ) ) )\n",
      "  |\n",
      "  V\n",
      "LazyCategory( FiniteStrictCoproductCompletion( FreeCategory( RightQuiver( \"Q(A,B)[f:A->B,g:A->B]\" ) ) ) )\n"
     ]
    }
   ],
   "source": [
    "Display( G )"
   ]
  },
  {
   "cell_type": "code",
   "execution_count": 43,
   "id": "e5ab639d",
   "metadata": {},
   "outputs": [
    {
     "data": {
      "text/plain": [
       "GAP: <A morphism in LazyCategory( FiniteStrictCoproductCompletion( FreeCategory( RightQuiver( \"Q(A,B)[f:A->B,g:A->B]\" ) ) ) )>"
      ]
     },
     "execution_count": 43,
     "metadata": {},
     "output_type": "execute_result"
    }
   ],
   "source": [
    "Gff = G( ff )"
   ]
  },
  {
   "cell_type": "code",
   "execution_count": 44,
   "id": "62fe9937",
   "metadata": {},
   "outputs": [
    {
     "data": {
      "text/plain": [
       "true"
      ]
     },
     "execution_count": 44,
     "metadata": {},
     "output_type": "execute_result"
    }
   ],
   "source": [
    "IsWellDefined( Gff )"
   ]
  },
  {
   "cell_type": "code",
   "execution_count": 45,
   "id": "84ec8303",
   "metadata": {},
   "outputs": [
    {
     "data": {
      "text/plain": [
       "GAP: <A morphism in LazyCategory( FiniteStrictCoproductCompletion( FreeCategory( RightQuiver( \"Q(A,B)[f:A->B,g:A->B]\" ) ) ) )>"
      ]
     },
     "execution_count": 45,
     "metadata": {},
     "output_type": "execute_result"
    }
   ],
   "source": [
    "Ggg = G( gg )"
   ]
  },
  {
   "cell_type": "code",
   "execution_count": 46,
   "id": "24b17f43",
   "metadata": {},
   "outputs": [
    {
     "data": {
      "text/plain": [
       "true"
      ]
     },
     "execution_count": 46,
     "metadata": {},
     "output_type": "execute_result"
    }
   ],
   "source": [
    "IsWellDefined( Ggg )"
   ]
  },
  {
   "cell_type": "code",
   "execution_count": 47,
   "id": "b43240d8",
   "metadata": {},
   "outputs": [
    {
     "data": {
      "text/plain": [
       "GAP: [ [ 0, 0 ], [ (A)-[(f)]->(B), (B)-[(B)]->(B) ] ]"
      ]
     },
     "execution_count": 47,
     "metadata": {},
     "output_type": "execute_result"
    }
   ],
   "source": [
    "MorphismDatum( EvaluatedCell( Gff ) )"
   ]
  },
  {
   "cell_type": "code",
   "execution_count": 48,
   "id": "bbd20347",
   "metadata": {},
   "outputs": [
    {
     "data": {
      "text/plain": [
       "GAP: [ [ 0, 0 ], [ (A)-[(g)]->(B), (B)-[(B)]->(B) ] ]"
      ]
     },
     "execution_count": 48,
     "metadata": {},
     "output_type": "execute_result"
    }
   ],
   "source": [
    "MorphismDatum( EvaluatedCell( Ggg ) )"
   ]
  },
  {
   "cell_type": "code",
   "execution_count": 49,
   "id": "82b4ab80",
   "metadata": {},
   "outputs": [
    {
     "data": {
      "image/svg+xml": [
       "<?xml version=\"1.0\" encoding=\"UTF-8\" standalone=\"no\"?>\n",
       "<!DOCTYPE svg PUBLIC \"-//W3C//DTD SVG 1.1//EN\"\n",
       " \"http://www.w3.org/Graphics/SVG/1.1/DTD/svg11.dtd\">\n",
       "<!-- Generated by graphviz version 2.50.0 (20211204.2007)\n",
       " -->\n",
       "<!-- Title: hgn Pages: 1 -->\n",
       "<svg width=\"442pt\" height=\"269pt\"\n",
       " viewBox=\"0.00 0.00 442.25 269.00\" xmlns=\"http://www.w3.org/2000/svg\" xmlns:xlink=\"http://www.w3.org/1999/xlink\">\n",
       "<g id=\"graph0\" class=\"graph\" transform=\"scale(1 1) rotate(0) translate(4 265)\">\n",
       "<title>hgn</title>\n",
       "<polygon fill=\"white\" stroke=\"transparent\" points=\"-4,4 -4,-265 438.25,-265 438.25,4 -4,4\"/>\n",
       "<!-- 1 -->\n",
       "<g id=\"node1\" class=\"node\">\n",
       "<title>1</title>\n",
       "<polygon fill=\"none\" stroke=\"black\" points=\"85.75,-261 18.75,-261 18.75,-208 85.75,-208 85.75,-261\"/>\n",
       "<text text-anchor=\"middle\" x=\"52.25\" y=\"-245.8\" font-family=\"Times,serif\" font-size=\"14.00\">[1]</text>\n",
       "<text text-anchor=\"middle\" x=\"52.25\" y=\"-230.8\" font-family=\"Times,serif\" font-size=\"14.00\">primitive</text>\n",
       "<text text-anchor=\"middle\" x=\"52.25\" y=\"-215.8\" font-family=\"Times,serif\" font-size=\"14.00\">object</text>\n",
       "</g>\n",
       "<!-- 2 -->\n",
       "<g id=\"node2\" class=\"node\">\n",
       "<title>2</title>\n",
       "<polygon fill=\"none\" stroke=\"black\" points=\"135.25,-149.5 61.25,-149.5 61.25,-111.5 135.25,-111.5 135.25,-149.5\"/>\n",
       "<text text-anchor=\"middle\" x=\"98.25\" y=\"-134.3\" font-family=\"Times,serif\" font-size=\"14.00\">[2]</text>\n",
       "<text text-anchor=\"middle\" x=\"98.25\" y=\"-119.3\" font-family=\"Times,serif\" font-size=\"14.00\">Coproduct</text>\n",
       "</g>\n",
       "<!-- 1&#45;&gt;2 -->\n",
       "<g id=\"edge1\" class=\"edge\">\n",
       "<title>1&#45;&gt;2</title>\n",
       "<path fill=\"none\" stroke=\"black\" d=\"M63.86,-207.76C70.58,-192.85 79.05,-174.08 85.89,-158.9\"/>\n",
       "<polygon fill=\"black\" stroke=\"black\" points=\"89.21,-160.07 90.13,-149.52 82.83,-157.19 89.21,-160.07\"/>\n",
       "</g>\n",
       "<!-- 6 -->\n",
       "<g id=\"node6\" class=\"node\">\n",
       "<title>6</title>\n",
       "<polygon fill=\"none\" stroke=\"black\" points=\"227.25,-149.5 153.25,-149.5 153.25,-111.5 227.25,-111.5 227.25,-149.5\"/>\n",
       "<text text-anchor=\"middle\" x=\"190.25\" y=\"-134.3\" font-family=\"Times,serif\" font-size=\"14.00\">[6]</text>\n",
       "<text text-anchor=\"middle\" x=\"190.25\" y=\"-119.3\" font-family=\"Times,serif\" font-size=\"14.00\">Coproduct</text>\n",
       "</g>\n",
       "<!-- 1&#45;&gt;6 -->\n",
       "<g id=\"edge3\" class=\"edge\">\n",
       "<title>1&#45;&gt;6</title>\n",
       "<path fill=\"none\" stroke=\"black\" d=\"M86.01,-208.55C107.71,-192.51 135.76,-171.78 157.3,-155.86\"/>\n",
       "<polygon fill=\"black\" stroke=\"black\" points=\"159.54,-158.55 165.5,-149.8 155.38,-152.93 159.54,-158.55\"/>\n",
       "<text text-anchor=\"middle\" x=\"132.75\" y=\"-178.8\" font-family=\"Times,serif\" font-size=\"14.00\">2</text>\n",
       "</g>\n",
       "<!-- 7 -->\n",
       "<g id=\"node7\" class=\"node\">\n",
       "<title>7</title>\n",
       "<polygon fill=\"none\" stroke=\"black\" points=\"282.25,-53 98.25,-53 98.25,0 282.25,0 282.25,-53\"/>\n",
       "<text text-anchor=\"middle\" x=\"190.25\" y=\"-37.8\" font-family=\"Times,serif\" font-size=\"14.00\">[7]</text>\n",
       "<text text-anchor=\"middle\" x=\"190.25\" y=\"-22.8\" font-family=\"Times,serif\" font-size=\"14.00\">MorphismBetweenCoproducts</text>\n",
       "<text text-anchor=\"middle\" x=\"190.25\" y=\"-7.8\" font-family=\"Times,serif\" font-size=\"14.00\">WithGivenCoproducts</text>\n",
       "</g>\n",
       "<!-- 1&#45;&gt;7 -->\n",
       "<g id=\"edge6\" class=\"edge\">\n",
       "<title>1&#45;&gt;7</title>\n",
       "<path fill=\"none\" stroke=\"black\" d=\"M31.44,-207.66C21.64,-193.61 11.23,-175.37 7.25,-157 -0.96,-119.08 -7.45,-95.96 22.25,-71 40.9,-55.33 64.53,-45.22 88.14,-38.72\"/>\n",
       "<polygon fill=\"black\" stroke=\"black\" points=\"89.05,-42.1 97.88,-36.23 87.32,-35.31 89.05,-42.1\"/>\n",
       "<text text-anchor=\"middle\" x=\"10.75\" y=\"-126.8\" font-family=\"Times,serif\" font-size=\"14.00\">3</text>\n",
       "</g>\n",
       "<!-- 1&#45;&gt;7 -->\n",
       "<g id=\"edge9\" class=\"edge\">\n",
       "<title>1&#45;&gt;7</title>\n",
       "<path fill=\"none\" stroke=\"black\" d=\"M42.88,-207.85C34.47,-180.14 26.12,-135.72 45.25,-104 57.34,-83.95 76.63,-68.89 97.24,-57.68\"/>\n",
       "<polygon fill=\"black\" stroke=\"black\" points=\"98.85,-60.79 106.14,-53.11 95.65,-54.56 98.85,-60.79\"/>\n",
       "<text text-anchor=\"middle\" x=\"48.75\" y=\"-126.8\" font-family=\"Times,serif\" font-size=\"14.00\">6</text>\n",
       "</g>\n",
       "<!-- 2&#45;&gt;7 -->\n",
       "<g id=\"edge10\" class=\"edge\">\n",
       "<title>2&#45;&gt;7</title>\n",
       "<path fill=\"none\" stroke=\"black\" d=\"M114.7,-111.26C127.34,-97.25 145.14,-77.52 160.29,-60.72\"/>\n",
       "<polygon fill=\"black\" stroke=\"black\" points=\"162.94,-63.01 167.03,-53.24 157.74,-58.32 162.94,-63.01\"/>\n",
       "<text text-anchor=\"middle\" x=\"152.75\" y=\"-74.8\" font-family=\"Times,serif\" font-size=\"14.00\">7</text>\n",
       "</g>\n",
       "<!-- 3 -->\n",
       "<g id=\"node3\" class=\"node\">\n",
       "<title>3</title>\n",
       "<polygon fill=\"none\" stroke=\"black\" points=\"318.75,-157 245.75,-157 245.75,-104 318.75,-104 318.75,-157\"/>\n",
       "<text text-anchor=\"middle\" x=\"282.25\" y=\"-141.8\" font-family=\"Times,serif\" font-size=\"14.00\">[3]</text>\n",
       "<text text-anchor=\"middle\" x=\"282.25\" y=\"-126.8\" font-family=\"Times,serif\" font-size=\"14.00\">primitive</text>\n",
       "<text text-anchor=\"middle\" x=\"282.25\" y=\"-111.8\" font-family=\"Times,serif\" font-size=\"14.00\">morphism</text>\n",
       "</g>\n",
       "<!-- 3&#45;&gt;7 -->\n",
       "<g id=\"edge8\" class=\"edge\">\n",
       "<title>3&#45;&gt;7</title>\n",
       "<path fill=\"none\" stroke=\"black\" d=\"M259.04,-103.76C247.27,-90.71 232.84,-74.72 220.24,-60.75\"/>\n",
       "<polygon fill=\"black\" stroke=\"black\" points=\"222.76,-58.31 213.46,-53.23 217.56,-63 222.76,-58.31\"/>\n",
       "<text text-anchor=\"middle\" x=\"244.75\" y=\"-74.8\" font-family=\"Times,serif\" font-size=\"14.00\">5</text>\n",
       "</g>\n",
       "<!-- 4 -->\n",
       "<g id=\"node4\" class=\"node\">\n",
       "<title>4</title>\n",
       "<polygon fill=\"none\" stroke=\"black\" points=\"409.75,-157 336.75,-157 336.75,-104 409.75,-104 409.75,-157\"/>\n",
       "<text text-anchor=\"middle\" x=\"373.25\" y=\"-141.8\" font-family=\"Times,serif\" font-size=\"14.00\">[4]</text>\n",
       "<text text-anchor=\"middle\" x=\"373.25\" y=\"-126.8\" font-family=\"Times,serif\" font-size=\"14.00\">primitive</text>\n",
       "<text text-anchor=\"middle\" x=\"373.25\" y=\"-111.8\" font-family=\"Times,serif\" font-size=\"14.00\">morphism</text>\n",
       "</g>\n",
       "<!-- 4&#45;&gt;7 -->\n",
       "<g id=\"edge7\" class=\"edge\">\n",
       "<title>4&#45;&gt;7</title>\n",
       "<path fill=\"none\" stroke=\"black\" d=\"M336.43,-108.6C333.66,-107.04 330.91,-105.49 328.25,-104 301.12,-88.79 270.9,-72.02 245.68,-58.07\"/>\n",
       "<polygon fill=\"black\" stroke=\"black\" points=\"247.07,-54.84 236.63,-53.07 243.68,-60.97 247.07,-54.84\"/>\n",
       "<text text-anchor=\"middle\" x=\"296.75\" y=\"-74.8\" font-family=\"Times,serif\" font-size=\"14.00\">4</text>\n",
       "</g>\n",
       "<!-- 5 -->\n",
       "<g id=\"node5\" class=\"node\">\n",
       "<title>5</title>\n",
       "<polygon fill=\"none\" stroke=\"black\" points=\"377.75,-261 310.75,-261 310.75,-208 377.75,-208 377.75,-261\"/>\n",
       "<text text-anchor=\"middle\" x=\"344.25\" y=\"-245.8\" font-family=\"Times,serif\" font-size=\"14.00\">[5]</text>\n",
       "<text text-anchor=\"middle\" x=\"344.25\" y=\"-230.8\" font-family=\"Times,serif\" font-size=\"14.00\">primitive</text>\n",
       "<text text-anchor=\"middle\" x=\"344.25\" y=\"-215.8\" font-family=\"Times,serif\" font-size=\"14.00\">object</text>\n",
       "</g>\n",
       "<!-- 5&#45;&gt;6 -->\n",
       "<g id=\"edge2\" class=\"edge\">\n",
       "<title>5&#45;&gt;6</title>\n",
       "<path fill=\"none\" stroke=\"black\" d=\"M310.46,-211.12C285.59,-194.64 251.83,-172.28 226.42,-155.45\"/>\n",
       "<polygon fill=\"black\" stroke=\"black\" points=\"228.07,-152.35 217.8,-149.75 224.21,-158.19 228.07,-152.35\"/>\n",
       "<text text-anchor=\"middle\" x=\"279.75\" y=\"-178.8\" font-family=\"Times,serif\" font-size=\"14.00\">1</text>\n",
       "</g>\n",
       "<!-- 5&#45;&gt;7 -->\n",
       "<g id=\"edge5\" class=\"edge\">\n",
       "<title>5&#45;&gt;7</title>\n",
       "<path fill=\"none\" stroke=\"black\" d=\"M377.11,-207.76C407.28,-180.94 443.85,-138.15 419.25,-104 390.21,-63.67 338.94,-44.29 292.27,-35.1\"/>\n",
       "<polygon fill=\"black\" stroke=\"black\" points=\"292.86,-31.65 282.39,-33.29 291.6,-38.54 292.86,-31.65\"/>\n",
       "<text text-anchor=\"middle\" x=\"430.75\" y=\"-126.8\" font-family=\"Times,serif\" font-size=\"14.00\">2</text>\n",
       "</g>\n",
       "<!-- 6&#45;&gt;7 -->\n",
       "<g id=\"edge4\" class=\"edge\">\n",
       "<title>6&#45;&gt;7</title>\n",
       "<path fill=\"none\" stroke=\"black\" d=\"M190.25,-111.26C190.25,-98.01 190.25,-79.63 190.25,-63.47\"/>\n",
       "<polygon fill=\"black\" stroke=\"black\" points=\"193.75,-63.24 190.25,-53.24 186.75,-63.24 193.75,-63.24\"/>\n",
       "<text text-anchor=\"middle\" x=\"193.75\" y=\"-74.8\" font-family=\"Times,serif\" font-size=\"14.00\">1</text>\n",
       "</g>\n",
       "</g>\n",
       "</svg>\n"
      ]
     },
     "metadata": {},
     "output_type": "display_data"
    }
   ],
   "source": [
    "Visualize( Gff )"
   ]
  },
  {
   "cell_type": "code",
   "execution_count": 50,
   "id": "b2834641",
   "metadata": {},
   "outputs": [
    {
     "data": {
      "image/svg+xml": [
       "<?xml version=\"1.0\" encoding=\"UTF-8\" standalone=\"no\"?>\n",
       "<!DOCTYPE svg PUBLIC \"-//W3C//DTD SVG 1.1//EN\"\n",
       " \"http://www.w3.org/Graphics/SVG/1.1/DTD/svg11.dtd\">\n",
       "<!-- Generated by graphviz version 2.50.0 (20211204.2007)\n",
       " -->\n",
       "<!-- Title: hgn Pages: 1 -->\n",
       "<svg width=\"442pt\" height=\"269pt\"\n",
       " viewBox=\"0.00 0.00 442.25 269.00\" xmlns=\"http://www.w3.org/2000/svg\" xmlns:xlink=\"http://www.w3.org/1999/xlink\">\n",
       "<g id=\"graph0\" class=\"graph\" transform=\"scale(1 1) rotate(0) translate(4 265)\">\n",
       "<title>hgn</title>\n",
       "<polygon fill=\"white\" stroke=\"transparent\" points=\"-4,4 -4,-265 438.25,-265 438.25,4 -4,4\"/>\n",
       "<!-- 1 -->\n",
       "<g id=\"node1\" class=\"node\">\n",
       "<title>1</title>\n",
       "<polygon fill=\"none\" stroke=\"black\" points=\"85.75,-261 18.75,-261 18.75,-208 85.75,-208 85.75,-261\"/>\n",
       "<text text-anchor=\"middle\" x=\"52.25\" y=\"-245.8\" font-family=\"Times,serif\" font-size=\"14.00\">[1]</text>\n",
       "<text text-anchor=\"middle\" x=\"52.25\" y=\"-230.8\" font-family=\"Times,serif\" font-size=\"14.00\">primitive</text>\n",
       "<text text-anchor=\"middle\" x=\"52.25\" y=\"-215.8\" font-family=\"Times,serif\" font-size=\"14.00\">object</text>\n",
       "</g>\n",
       "<!-- 2 -->\n",
       "<g id=\"node2\" class=\"node\">\n",
       "<title>2</title>\n",
       "<polygon fill=\"none\" stroke=\"black\" points=\"135.25,-149.5 61.25,-149.5 61.25,-111.5 135.25,-111.5 135.25,-149.5\"/>\n",
       "<text text-anchor=\"middle\" x=\"98.25\" y=\"-134.3\" font-family=\"Times,serif\" font-size=\"14.00\">[2]</text>\n",
       "<text text-anchor=\"middle\" x=\"98.25\" y=\"-119.3\" font-family=\"Times,serif\" font-size=\"14.00\">Coproduct</text>\n",
       "</g>\n",
       "<!-- 1&#45;&gt;2 -->\n",
       "<g id=\"edge1\" class=\"edge\">\n",
       "<title>1&#45;&gt;2</title>\n",
       "<path fill=\"none\" stroke=\"black\" d=\"M63.86,-207.76C70.58,-192.85 79.05,-174.08 85.89,-158.9\"/>\n",
       "<polygon fill=\"black\" stroke=\"black\" points=\"89.21,-160.07 90.13,-149.52 82.83,-157.19 89.21,-160.07\"/>\n",
       "</g>\n",
       "<!-- 6 -->\n",
       "<g id=\"node6\" class=\"node\">\n",
       "<title>6</title>\n",
       "<polygon fill=\"none\" stroke=\"black\" points=\"227.25,-149.5 153.25,-149.5 153.25,-111.5 227.25,-111.5 227.25,-149.5\"/>\n",
       "<text text-anchor=\"middle\" x=\"190.25\" y=\"-134.3\" font-family=\"Times,serif\" font-size=\"14.00\">[6]</text>\n",
       "<text text-anchor=\"middle\" x=\"190.25\" y=\"-119.3\" font-family=\"Times,serif\" font-size=\"14.00\">Coproduct</text>\n",
       "</g>\n",
       "<!-- 1&#45;&gt;6 -->\n",
       "<g id=\"edge3\" class=\"edge\">\n",
       "<title>1&#45;&gt;6</title>\n",
       "<path fill=\"none\" stroke=\"black\" d=\"M86.01,-208.55C107.71,-192.51 135.76,-171.78 157.3,-155.86\"/>\n",
       "<polygon fill=\"black\" stroke=\"black\" points=\"159.54,-158.55 165.5,-149.8 155.38,-152.93 159.54,-158.55\"/>\n",
       "<text text-anchor=\"middle\" x=\"132.75\" y=\"-178.8\" font-family=\"Times,serif\" font-size=\"14.00\">2</text>\n",
       "</g>\n",
       "<!-- 7 -->\n",
       "<g id=\"node7\" class=\"node\">\n",
       "<title>7</title>\n",
       "<polygon fill=\"none\" stroke=\"black\" points=\"282.25,-53 98.25,-53 98.25,0 282.25,0 282.25,-53\"/>\n",
       "<text text-anchor=\"middle\" x=\"190.25\" y=\"-37.8\" font-family=\"Times,serif\" font-size=\"14.00\">[7]</text>\n",
       "<text text-anchor=\"middle\" x=\"190.25\" y=\"-22.8\" font-family=\"Times,serif\" font-size=\"14.00\">MorphismBetweenCoproducts</text>\n",
       "<text text-anchor=\"middle\" x=\"190.25\" y=\"-7.8\" font-family=\"Times,serif\" font-size=\"14.00\">WithGivenCoproducts</text>\n",
       "</g>\n",
       "<!-- 1&#45;&gt;7 -->\n",
       "<g id=\"edge6\" class=\"edge\">\n",
       "<title>1&#45;&gt;7</title>\n",
       "<path fill=\"none\" stroke=\"black\" d=\"M31.44,-207.66C21.64,-193.61 11.23,-175.37 7.25,-157 -0.96,-119.08 -7.45,-95.96 22.25,-71 40.9,-55.33 64.53,-45.22 88.14,-38.72\"/>\n",
       "<polygon fill=\"black\" stroke=\"black\" points=\"89.05,-42.1 97.88,-36.23 87.32,-35.31 89.05,-42.1\"/>\n",
       "<text text-anchor=\"middle\" x=\"10.75\" y=\"-126.8\" font-family=\"Times,serif\" font-size=\"14.00\">3</text>\n",
       "</g>\n",
       "<!-- 1&#45;&gt;7 -->\n",
       "<g id=\"edge9\" class=\"edge\">\n",
       "<title>1&#45;&gt;7</title>\n",
       "<path fill=\"none\" stroke=\"black\" d=\"M42.88,-207.85C34.47,-180.14 26.12,-135.72 45.25,-104 57.34,-83.95 76.63,-68.89 97.24,-57.68\"/>\n",
       "<polygon fill=\"black\" stroke=\"black\" points=\"98.85,-60.79 106.14,-53.11 95.65,-54.56 98.85,-60.79\"/>\n",
       "<text text-anchor=\"middle\" x=\"48.75\" y=\"-126.8\" font-family=\"Times,serif\" font-size=\"14.00\">6</text>\n",
       "</g>\n",
       "<!-- 2&#45;&gt;7 -->\n",
       "<g id=\"edge10\" class=\"edge\">\n",
       "<title>2&#45;&gt;7</title>\n",
       "<path fill=\"none\" stroke=\"black\" d=\"M114.7,-111.26C127.34,-97.25 145.14,-77.52 160.29,-60.72\"/>\n",
       "<polygon fill=\"black\" stroke=\"black\" points=\"162.94,-63.01 167.03,-53.24 157.74,-58.32 162.94,-63.01\"/>\n",
       "<text text-anchor=\"middle\" x=\"152.75\" y=\"-74.8\" font-family=\"Times,serif\" font-size=\"14.00\">7</text>\n",
       "</g>\n",
       "<!-- 3 -->\n",
       "<g id=\"node3\" class=\"node\">\n",
       "<title>3</title>\n",
       "<polygon fill=\"none\" stroke=\"black\" points=\"318.75,-157 245.75,-157 245.75,-104 318.75,-104 318.75,-157\"/>\n",
       "<text text-anchor=\"middle\" x=\"282.25\" y=\"-141.8\" font-family=\"Times,serif\" font-size=\"14.00\">[3]</text>\n",
       "<text text-anchor=\"middle\" x=\"282.25\" y=\"-126.8\" font-family=\"Times,serif\" font-size=\"14.00\">primitive</text>\n",
       "<text text-anchor=\"middle\" x=\"282.25\" y=\"-111.8\" font-family=\"Times,serif\" font-size=\"14.00\">morphism</text>\n",
       "</g>\n",
       "<!-- 3&#45;&gt;7 -->\n",
       "<g id=\"edge8\" class=\"edge\">\n",
       "<title>3&#45;&gt;7</title>\n",
       "<path fill=\"none\" stroke=\"black\" d=\"M259.04,-103.76C247.27,-90.71 232.84,-74.72 220.24,-60.75\"/>\n",
       "<polygon fill=\"black\" stroke=\"black\" points=\"222.76,-58.31 213.46,-53.23 217.56,-63 222.76,-58.31\"/>\n",
       "<text text-anchor=\"middle\" x=\"244.75\" y=\"-74.8\" font-family=\"Times,serif\" font-size=\"14.00\">5</text>\n",
       "</g>\n",
       "<!-- 4 -->\n",
       "<g id=\"node4\" class=\"node\">\n",
       "<title>4</title>\n",
       "<polygon fill=\"none\" stroke=\"black\" points=\"409.75,-157 336.75,-157 336.75,-104 409.75,-104 409.75,-157\"/>\n",
       "<text text-anchor=\"middle\" x=\"373.25\" y=\"-141.8\" font-family=\"Times,serif\" font-size=\"14.00\">[4]</text>\n",
       "<text text-anchor=\"middle\" x=\"373.25\" y=\"-126.8\" font-family=\"Times,serif\" font-size=\"14.00\">primitive</text>\n",
       "<text text-anchor=\"middle\" x=\"373.25\" y=\"-111.8\" font-family=\"Times,serif\" font-size=\"14.00\">morphism</text>\n",
       "</g>\n",
       "<!-- 4&#45;&gt;7 -->\n",
       "<g id=\"edge7\" class=\"edge\">\n",
       "<title>4&#45;&gt;7</title>\n",
       "<path fill=\"none\" stroke=\"black\" d=\"M336.43,-108.6C333.66,-107.04 330.91,-105.49 328.25,-104 301.12,-88.79 270.9,-72.02 245.68,-58.07\"/>\n",
       "<polygon fill=\"black\" stroke=\"black\" points=\"247.07,-54.84 236.63,-53.07 243.68,-60.97 247.07,-54.84\"/>\n",
       "<text text-anchor=\"middle\" x=\"296.75\" y=\"-74.8\" font-family=\"Times,serif\" font-size=\"14.00\">4</text>\n",
       "</g>\n",
       "<!-- 5 -->\n",
       "<g id=\"node5\" class=\"node\">\n",
       "<title>5</title>\n",
       "<polygon fill=\"none\" stroke=\"black\" points=\"377.75,-261 310.75,-261 310.75,-208 377.75,-208 377.75,-261\"/>\n",
       "<text text-anchor=\"middle\" x=\"344.25\" y=\"-245.8\" font-family=\"Times,serif\" font-size=\"14.00\">[5]</text>\n",
       "<text text-anchor=\"middle\" x=\"344.25\" y=\"-230.8\" font-family=\"Times,serif\" font-size=\"14.00\">primitive</text>\n",
       "<text text-anchor=\"middle\" x=\"344.25\" y=\"-215.8\" font-family=\"Times,serif\" font-size=\"14.00\">object</text>\n",
       "</g>\n",
       "<!-- 5&#45;&gt;6 -->\n",
       "<g id=\"edge2\" class=\"edge\">\n",
       "<title>5&#45;&gt;6</title>\n",
       "<path fill=\"none\" stroke=\"black\" d=\"M310.46,-211.12C285.59,-194.64 251.83,-172.28 226.42,-155.45\"/>\n",
       "<polygon fill=\"black\" stroke=\"black\" points=\"228.07,-152.35 217.8,-149.75 224.21,-158.19 228.07,-152.35\"/>\n",
       "<text text-anchor=\"middle\" x=\"279.75\" y=\"-178.8\" font-family=\"Times,serif\" font-size=\"14.00\">1</text>\n",
       "</g>\n",
       "<!-- 5&#45;&gt;7 -->\n",
       "<g id=\"edge5\" class=\"edge\">\n",
       "<title>5&#45;&gt;7</title>\n",
       "<path fill=\"none\" stroke=\"black\" d=\"M377.11,-207.76C407.28,-180.94 443.85,-138.15 419.25,-104 390.21,-63.67 338.94,-44.29 292.27,-35.1\"/>\n",
       "<polygon fill=\"black\" stroke=\"black\" points=\"292.86,-31.65 282.39,-33.29 291.6,-38.54 292.86,-31.65\"/>\n",
       "<text text-anchor=\"middle\" x=\"430.75\" y=\"-126.8\" font-family=\"Times,serif\" font-size=\"14.00\">2</text>\n",
       "</g>\n",
       "<!-- 6&#45;&gt;7 -->\n",
       "<g id=\"edge4\" class=\"edge\">\n",
       "<title>6&#45;&gt;7</title>\n",
       "<path fill=\"none\" stroke=\"black\" d=\"M190.25,-111.26C190.25,-98.01 190.25,-79.63 190.25,-63.47\"/>\n",
       "<polygon fill=\"black\" stroke=\"black\" points=\"193.75,-63.24 190.25,-53.24 186.75,-63.24 193.75,-63.24\"/>\n",
       "<text text-anchor=\"middle\" x=\"193.75\" y=\"-74.8\" font-family=\"Times,serif\" font-size=\"14.00\">1</text>\n",
       "</g>\n",
       "</g>\n",
       "</svg>\n"
      ]
     },
     "metadata": {},
     "output_type": "display_data"
    }
   ],
   "source": [
    "Visualize( Ggg )"
   ]
  }
 ],
 "metadata": {
  "@webio": {
   "lastCommId": null,
   "lastKernelId": null
  },
  "kernelspec": {
   "display_name": "Julia 1.9.3",
   "language": "julia",
   "name": "julia-1.9"
  },
  "language_info": {
   "file_extension": ".jl",
   "mimetype": "application/julia",
   "name": "julia",
   "version": "1.9.3"
  }
 },
 "nbformat": 4,
 "nbformat_minor": 5
}
