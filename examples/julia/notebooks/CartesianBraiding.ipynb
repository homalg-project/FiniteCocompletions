{
 "cells": [
  {
   "cell_type": "markdown",
   "id": "5dd5d895",
   "metadata": {},
   "source": [
    "[![Binder](https://mybinder.org/badge_logo.svg)](https://gesis.mybinder.org/v2/gh/homalg-project/CapAndHomalgNotebooks/master?urlpath=git-pull%3Frepo%3Dhttps%253A%252F%252Fgithub.com%252Fhomalg-project%252FCategoricalTowers%26urlpath%3Dtree%252FCategoricalTowers%252FFiniteCocompletions%252Fexamples%252F%252Fnotebooks%252FCartesianBraiding.ipynb%26branch%3Dmaster)"
   ]
  },
  {
   "cell_type": "markdown",
   "id": "860bfda2",
   "metadata": {},
   "source": [
    "In this notebook we *compute* the algorithm computing the braiding isomorphism $\\gamma: a \\times b \\to b \\times a$ in a cartesian (monoidal) category, i.e., a category with finite products."
   ]
  },
  {
   "cell_type": "code",
   "execution_count": 1,
   "id": "7dd790bc",
   "metadata": {},
   "outputs": [
    {
     "name": "stdout",
     "output_type": "stream",
     "text": [
      "CapAndHomalg v\u001b[32m1.6.0\u001b[39m\n",
      "Imported OSCAR's components GAP and Singular_jll\n",
      "Type: ?CapAndHomalg for more information\n"
     ]
    }
   ],
   "source": [
    "using CapAndHomalg"
   ]
  },
  {
   "cell_type": "code",
   "execution_count": 2,
   "id": "37ce9cb4",
   "metadata": {},
   "outputs": [],
   "source": [
    "LoadPackage( \"FiniteCocompletions\" )"
   ]
  },
  {
   "cell_type": "code",
   "execution_count": 3,
   "id": "d6523ed1",
   "metadata": {},
   "outputs": [],
   "source": [
    "LoadPackage( \"Algebroids\" )"
   ]
  },
  {
   "cell_type": "code",
   "execution_count": 4,
   "id": "a3162632",
   "metadata": {},
   "outputs": [],
   "source": [
    "LoadPackage( \"LazyCategories\" );"
   ]
  },
  {
   "cell_type": "code",
   "execution_count": 5,
   "id": "1ff4dda6",
   "metadata": {},
   "outputs": [
    {
     "data": {
      "text/plain": [
       "GAP: Q(a,b)[]"
      ]
     },
     "execution_count": 5,
     "metadata": {},
     "output_type": "execute_result"
    }
   ],
   "source": [
    "Q = RightQuiver( \"Q(a,b)[]\" )"
   ]
  },
  {
   "cell_type": "code",
   "execution_count": 6,
   "id": "3805a257",
   "metadata": {},
   "outputs": [
    {
     "data": {
      "text/plain": [
       "GAP: FreeCategory( RightQuiver( \"Q(a,b)[]\" ) )"
      ]
     },
     "execution_count": 6,
     "metadata": {},
     "output_type": "execute_result"
    }
   ],
   "source": [
    "C = FreeCategory( Q )"
   ]
  },
  {
   "cell_type": "code",
   "execution_count": 7,
   "id": "e4b9600a",
   "metadata": {},
   "outputs": [],
   "source": [
    "SetName( C.a, g\"C.a\" ); SetName( C.b, g\"C.b\" );"
   ]
  },
  {
   "cell_type": "code",
   "execution_count": 8,
   "id": "5e532fa7",
   "metadata": {},
   "outputs": [
    {
     "data": {
      "text/plain": [
       "GAP: FiniteStrictProductCompletion( FreeCategory( RightQuiver( \"Q(a,b)[]\" ) ) )"
      ]
     },
     "execution_count": 8,
     "metadata": {},
     "output_type": "execute_result"
    }
   ],
   "source": [
    "PC = FiniteStrictProductCompletion( C )"
   ]
  },
  {
   "cell_type": "code",
   "execution_count": 9,
   "id": "1320fac9",
   "metadata": {},
   "outputs": [
    {
     "name": "stdout",
     "output_type": "stream",
     "text": [
      "A CAP category with name FiniteStrictProductCompletion( FreeCategory( RightQuiver( \"Q(a,b)[]\" ) ) ):\n",
      "\n",
      "24 primitive operations were used to derive 91 operations for this category which algorithmically\n",
      "* IsCategoryWithDecidableColifts\n",
      "* IsCategoryWithDecidableLifts\n",
      "* IsCartesianCategory\n",
      "* IsEquippedWithHomomorphismStructure\n",
      "and furthermore mathematically\n",
      "* IsStrictCartesianCategory\n"
     ]
    }
   ],
   "source": [
    "Display( PC )"
   ]
  },
  {
   "cell_type": "code",
   "execution_count": 10,
   "id": "eb03fb6d",
   "metadata": {},
   "outputs": [
    {
     "data": {
      "text/plain": [
       "GAP: Opposite( FiniteStrictCoproductCompletion( Opposite( FreeCategory( RightQuiver( \"Q(a,b)[]\" ) ) ) ) )"
      ]
     },
     "execution_count": 10,
     "metadata": {},
     "output_type": "execute_result"
    }
   ],
   "source": [
    "ModelingCategory( PC )"
   ]
  },
  {
   "cell_type": "code",
   "execution_count": 11,
   "id": "c79fa790",
   "metadata": {},
   "outputs": [
    {
     "data": {
      "text/plain": [
       "GAP: <An object in FiniteStrictProductCompletion( FreeCategory( RightQuiver( \"Q(a,b)[]\" ) ) )>"
      ]
     },
     "execution_count": 11,
     "metadata": {},
     "output_type": "execute_result"
    }
   ],
   "source": [
    "a = PC.a"
   ]
  },
  {
   "cell_type": "code",
   "execution_count": 12,
   "id": "10c7c46b",
   "metadata": {},
   "outputs": [
    {
     "data": {
      "text/plain": [
       "GAP: <An object in FiniteStrictProductCompletion( FreeCategory( RightQuiver( \"Q(a,b)[]\" ) ) )>"
      ]
     },
     "execution_count": 12,
     "metadata": {},
     "output_type": "execute_result"
    }
   ],
   "source": [
    "b = PC.b"
   ]
  },
  {
   "cell_type": "code",
   "execution_count": 13,
   "id": "08681ea8",
   "metadata": {},
   "outputs": [
    {
     "data": {
      "text/plain": [
       "GAP: <An object in FiniteStrictProductCompletion( FreeCategory( RightQuiver( \"Q(a,b)[]\" ) ) )>"
      ]
     },
     "execution_count": 13,
     "metadata": {},
     "output_type": "execute_result"
    }
   ],
   "source": [
    "ab = DirectProduct( a, b )"
   ]
  },
  {
   "cell_type": "code",
   "execution_count": 14,
   "id": "02501aa7",
   "metadata": {},
   "outputs": [
    {
     "name": "stdout",
     "output_type": "stream",
     "text": [
      "[ 2, [ C.a, C.b ] ]\n",
      "\n",
      "An object in FiniteStrictProductCompletion( FreeCategory( RightQuiver( \"Q(a,b)[]\" ) ) ) given by the above data\n"
     ]
    }
   ],
   "source": [
    "Display( ab )"
   ]
  },
  {
   "cell_type": "code",
   "execution_count": 15,
   "id": "48fd9551",
   "metadata": {},
   "outputs": [
    {
     "data": {
      "text/plain": [
       "GAP: <An object in FiniteStrictProductCompletion( FreeCategory( RightQuiver( \"Q(a,b)[]\" ) ) )>"
      ]
     },
     "execution_count": 15,
     "metadata": {},
     "output_type": "execute_result"
    }
   ],
   "source": [
    "ba = DirectProduct( b, a )"
   ]
  },
  {
   "cell_type": "code",
   "execution_count": 16,
   "id": "a7c83d09",
   "metadata": {},
   "outputs": [
    {
     "name": "stdout",
     "output_type": "stream",
     "text": [
      "[ 2, [ C.b, C.a ] ]\n",
      "\n",
      "An object in FiniteStrictProductCompletion( FreeCategory( RightQuiver( \"Q(a,b)[]\" ) ) ) given by the above data\n"
     ]
    }
   ],
   "source": [
    "Display( ba )"
   ]
  },
  {
   "cell_type": "code",
   "execution_count": 17,
   "id": "d2afcbc7",
   "metadata": {},
   "outputs": [
    {
     "data": {
      "text/plain": [
       "GAP: |1|"
      ]
     },
     "execution_count": 17,
     "metadata": {},
     "output_type": "execute_result"
    }
   ],
   "source": [
    "HomStructure( ab, ba )"
   ]
  },
  {
   "cell_type": "code",
   "execution_count": 18,
   "id": "f449b7d4",
   "metadata": {},
   "outputs": [
    {
     "data": {
      "text/plain": [
       "GAP: [ <A morphism in FiniteStrictProductCompletion( FreeCategory( RightQuiver( \"Q(a,b)[]\" ) ) )> ]"
      ]
     },
     "execution_count": 18,
     "metadata": {},
     "output_type": "execute_result"
    }
   ],
   "source": [
    "hom_ab = MorphismsOfExternalHom( ab, ba )"
   ]
  },
  {
   "cell_type": "code",
   "execution_count": 19,
   "id": "df5d3a32",
   "metadata": {},
   "outputs": [
    {
     "data": {
      "text/plain": [
       "GAP: <A morphism in FiniteStrictProductCompletion( FreeCategory( RightQuiver( \"Q(a,b)[]\" ) ) )>"
      ]
     },
     "execution_count": 19,
     "metadata": {},
     "output_type": "execute_result"
    }
   ],
   "source": [
    "γ_ab  = hom_ab[1]"
   ]
  },
  {
   "cell_type": "code",
   "execution_count": 20,
   "id": "f8e164d5",
   "metadata": {},
   "outputs": [
    {
     "data": {
      "text/plain": [
       "true"
      ]
     },
     "execution_count": 20,
     "metadata": {},
     "output_type": "execute_result"
    }
   ],
   "source": [
    "Source( γ_ab ) == ab"
   ]
  },
  {
   "cell_type": "code",
   "execution_count": 21,
   "id": "66e143ca",
   "metadata": {},
   "outputs": [
    {
     "data": {
      "text/plain": [
       "true"
      ]
     },
     "execution_count": 21,
     "metadata": {},
     "output_type": "execute_result"
    }
   ],
   "source": [
    "Target( γ_ab ) == ba"
   ]
  },
  {
   "cell_type": "code",
   "execution_count": 22,
   "id": "675cd9fb",
   "metadata": {},
   "outputs": [
    {
     "data": {
      "text/plain": [
       "true"
      ]
     },
     "execution_count": 22,
     "metadata": {},
     "output_type": "execute_result"
    }
   ],
   "source": [
    "IsWellDefined( γ_ab )"
   ]
  },
  {
   "cell_type": "code",
   "execution_count": 23,
   "id": "59a9b0bd",
   "metadata": {},
   "outputs": [
    {
     "name": "stdout",
     "output_type": "stream",
     "text": [
      "{ 0, 1 } ⱶ[ 1, 0 ]→ { 0, 1 }\n",
      "\n",
      "[ (b)-[(b)]->(b), (a)-[(a)]->(a) ]\n",
      "\n",
      "A morphism in FiniteStrictProductCompletion( FreeCategory( RightQuiver( \"Q(a,b)[]\" ) ) ) given by the above data\n"
     ]
    }
   ],
   "source": [
    "Display( γ_ab )"
   ]
  },
  {
   "cell_type": "code",
   "execution_count": 24,
   "id": "4b398bca",
   "metadata": {},
   "outputs": [
    {
     "data": {
      "text/plain": [
       "GAP: |1|"
      ]
     },
     "execution_count": 24,
     "metadata": {},
     "output_type": "execute_result"
    }
   ],
   "source": [
    "HomStructure( ba, ab )"
   ]
  },
  {
   "cell_type": "code",
   "execution_count": 25,
   "id": "e172a52a",
   "metadata": {},
   "outputs": [
    {
     "data": {
      "text/plain": [
       "GAP: [ <A morphism in FiniteStrictProductCompletion( FreeCategory( RightQuiver( \"Q(a,b)[]\" ) ) )> ]"
      ]
     },
     "execution_count": 25,
     "metadata": {},
     "output_type": "execute_result"
    }
   ],
   "source": [
    "hom_ba = MorphismsOfExternalHom( ba, ab )"
   ]
  },
  {
   "cell_type": "code",
   "execution_count": 26,
   "id": "df9f8b19",
   "metadata": {},
   "outputs": [
    {
     "data": {
      "text/plain": [
       "GAP: <A morphism in FiniteStrictProductCompletion( FreeCategory( RightQuiver( \"Q(a,b)[]\" ) ) )>"
      ]
     },
     "execution_count": 26,
     "metadata": {},
     "output_type": "execute_result"
    }
   ],
   "source": [
    "γ_ba  = hom_ba[1]"
   ]
  },
  {
   "cell_type": "code",
   "execution_count": 27,
   "id": "8636dba8",
   "metadata": {},
   "outputs": [
    {
     "data": {
      "text/plain": [
       "true"
      ]
     },
     "execution_count": 27,
     "metadata": {},
     "output_type": "execute_result"
    }
   ],
   "source": [
    "Source( γ_ba ) == ba"
   ]
  },
  {
   "cell_type": "code",
   "execution_count": 28,
   "id": "73ee6a6d",
   "metadata": {},
   "outputs": [
    {
     "data": {
      "text/plain": [
       "true"
      ]
     },
     "execution_count": 28,
     "metadata": {},
     "output_type": "execute_result"
    }
   ],
   "source": [
    "Target( γ_ba ) == ab"
   ]
  },
  {
   "cell_type": "code",
   "execution_count": 29,
   "id": "b192e58a",
   "metadata": {},
   "outputs": [
    {
     "data": {
      "text/plain": [
       "true"
      ]
     },
     "execution_count": 29,
     "metadata": {},
     "output_type": "execute_result"
    }
   ],
   "source": [
    "IsWellDefined( γ_ba )"
   ]
  },
  {
   "cell_type": "code",
   "execution_count": 30,
   "id": "c0eb77d4",
   "metadata": {},
   "outputs": [
    {
     "name": "stdout",
     "output_type": "stream",
     "text": [
      "{ 0, 1 } ⱶ[ 1, 0 ]→ { 0, 1 }\n",
      "\n",
      "[ (a)-[(a)]->(a), (b)-[(b)]->(b) ]\n",
      "\n",
      "A morphism in FiniteStrictProductCompletion( FreeCategory( RightQuiver( \"Q(a,b)[]\" ) ) ) given by the above data\n"
     ]
    }
   ],
   "source": [
    "Display( γ_ba )"
   ]
  },
  {
   "cell_type": "code",
   "execution_count": 31,
   "id": "136327e3",
   "metadata": {},
   "outputs": [
    {
     "data": {
      "text/plain": [
       "true"
      ]
     },
     "execution_count": 31,
     "metadata": {},
     "output_type": "execute_result"
    }
   ],
   "source": [
    "InverseForMorphisms( γ_ab ) == γ_ba"
   ]
  },
  {
   "cell_type": "code",
   "execution_count": 32,
   "id": "a1304d63",
   "metadata": {},
   "outputs": [
    {
     "data": {
      "text/plain": [
       "true"
      ]
     },
     "execution_count": 32,
     "metadata": {},
     "output_type": "execute_result"
    }
   ],
   "source": [
    "γ_ab == CartesianBraiding( a, b )"
   ]
  },
  {
   "cell_type": "code",
   "execution_count": 33,
   "id": "290b733c",
   "metadata": {},
   "outputs": [
    {
     "data": {
      "text/plain": [
       "GAP: LazyCategory( FiniteStrictProductCompletion( FreeCategory( RightQuiver( \"Q(a,b)[]\" ) ) ) )"
      ]
     },
     "execution_count": 33,
     "metadata": {},
     "output_type": "execute_result"
    }
   ],
   "source": [
    "LPC = LazyCategory( PC, primitive_operations = true )"
   ]
  },
  {
   "cell_type": "code",
   "execution_count": 34,
   "id": "a73ea929",
   "metadata": {},
   "outputs": [
    {
     "data": {
      "text/plain": [
       "GAP: Embedding functor into lazy category"
      ]
     },
     "execution_count": 34,
     "metadata": {},
     "output_type": "execute_result"
    }
   ],
   "source": [
    "Emb = EmbeddingFunctorOfUnderlyingCategory( LPC )"
   ]
  },
  {
   "cell_type": "code",
   "execution_count": 35,
   "id": "f27839ff",
   "metadata": {},
   "outputs": [
    {
     "name": "stdout",
     "output_type": "stream",
     "text": [
      "Embedding functor into lazy category:\n",
      "\n",
      "FiniteStrictProductCompletion( FreeCategory( RightQuiver( \"Q(a,b)[]\" ) ) )\n",
      "  |\n",
      "  V\n",
      "LazyCategory( FiniteStrictProductCompletion( FreeCategory( RightQuiver( \"Q(a,b)[]\" ) ) ) )\n"
     ]
    }
   ],
   "source": [
    "Display( Emb )"
   ]
  },
  {
   "cell_type": "code",
   "execution_count": 36,
   "id": "a786a3d8",
   "metadata": {},
   "outputs": [
    {
     "data": {
      "text/plain": [
       "GAP: Precomposition of Embedding functor into a finite strict product completion category and Embedding functor into lazy category"
      ]
     },
     "execution_count": 36,
     "metadata": {},
     "output_type": "execute_result"
    }
   ],
   "source": [
    "F = PreCompose( EmbeddingOfUnderlyingCategory( PC ), Emb )"
   ]
  },
  {
   "cell_type": "code",
   "execution_count": 37,
   "id": "3a1cc6ee",
   "metadata": {},
   "outputs": [
    {
     "name": "stdout",
     "output_type": "stream",
     "text": [
      "Precomposition of Embedding functor into a finite strict product completion category and Embedding functor into lazy category:\n",
      "\n",
      "FreeCategory( RightQuiver( \"Q(a,b)[]\" ) )\n",
      "  |\n",
      "  V\n",
      "LazyCategory( FiniteStrictProductCompletion( FreeCategory( RightQuiver( \"Q(a,b)[]\" ) ) ) )\n"
     ]
    }
   ],
   "source": [
    "Display( F )"
   ]
  },
  {
   "cell_type": "code",
   "execution_count": 38,
   "id": "06bfa9d9",
   "metadata": {},
   "outputs": [
    {
     "data": {
      "text/plain": [
       "GAP: Extension to FiniteStrictProductCompletion( Source( Precomposition of Embedding functor into a finite strict product completion category and Embedding functor into lazy category ) )"
      ]
     },
     "execution_count": 38,
     "metadata": {},
     "output_type": "execute_result"
    }
   ],
   "source": [
    "G = ExtendFunctorToFiniteStrictProductCompletion( F )"
   ]
  },
  {
   "cell_type": "code",
   "execution_count": 39,
   "id": "d9d6a1be",
   "metadata": {},
   "outputs": [
    {
     "name": "stdout",
     "output_type": "stream",
     "text": [
      "Extension to FiniteStrictProductCompletion( Source( Precomposition of Embedding functor into a finite strict product completion category and Embedding functor into lazy category ) ):\n",
      "\n",
      "FiniteStrictProductCompletion( FreeCategory( RightQuiver( \"Q(a,b)[]\" ) ) )\n",
      "  |\n",
      "  V\n",
      "LazyCategory( FiniteStrictProductCompletion( FreeCategory( RightQuiver( \"Q(a,b)[]\" ) ) ) )\n"
     ]
    }
   ],
   "source": [
    "Display( G )"
   ]
  },
  {
   "cell_type": "code",
   "execution_count": 40,
   "id": "92563975",
   "metadata": {},
   "outputs": [
    {
     "data": {
      "text/plain": [
       "GAP: <A morphism in LazyCategory( FiniteStrictProductCompletion( FreeCategory( RightQuiver( \"Q(a,b)[]\" ) ) ) )>"
      ]
     },
     "execution_count": 40,
     "metadata": {},
     "output_type": "execute_result"
    }
   ],
   "source": [
    "Gγ_ab = G( γ_ab )"
   ]
  },
  {
   "cell_type": "code",
   "execution_count": 41,
   "id": "cffa6c51",
   "metadata": {},
   "outputs": [
    {
     "data": {
      "text/plain": [
       "true"
      ]
     },
     "execution_count": 41,
     "metadata": {},
     "output_type": "execute_result"
    }
   ],
   "source": [
    "IsWellDefined( Gγ_ab )"
   ]
  },
  {
   "cell_type": "code",
   "execution_count": 42,
   "id": "fd8ed668",
   "metadata": {},
   "outputs": [
    {
     "data": {
      "image/svg+xml": [
       "<?xml version=\"1.0\" encoding=\"UTF-8\" standalone=\"no\"?>\n",
       "<!DOCTYPE svg PUBLIC \"-//W3C//DTD SVG 1.1//EN\"\n",
       " \"http://www.w3.org/Graphics/SVG/1.1/DTD/svg11.dtd\">\n",
       "<!-- Generated by graphviz version 2.50.0 (20211204.2007)\n",
       " -->\n",
       "<!-- Title: hgn Pages: 1 -->\n",
       "<svg width=\"770pt\" height=\"507pt\"\n",
       " viewBox=\"0.00 0.00 770.00 507.00\" xmlns=\"http://www.w3.org/2000/svg\" xmlns:xlink=\"http://www.w3.org/1999/xlink\">\n",
       "<g id=\"graph0\" class=\"graph\" transform=\"scale(1 1) rotate(0) translate(4 503)\">\n",
       "<title>hgn</title>\n",
       "<polygon fill=\"white\" stroke=\"transparent\" points=\"-4,4 -4,-503 766,-503 766,4 -4,4\"/>\n",
       "<!-- 1 -->\n",
       "<g id=\"node1\" class=\"node\">\n",
       "<title>1</title>\n",
       "<polygon fill=\"none\" stroke=\"black\" points=\"324.5,-291 251.5,-291 251.5,-238 324.5,-238 324.5,-291\"/>\n",
       "<text text-anchor=\"middle\" x=\"288\" y=\"-275.8\" font-family=\"Times,serif\" font-size=\"14.00\">[1]</text>\n",
       "<text text-anchor=\"middle\" x=\"288\" y=\"-260.8\" font-family=\"Times,serif\" font-size=\"14.00\">primitive</text>\n",
       "<text text-anchor=\"middle\" x=\"288\" y=\"-245.8\" font-family=\"Times,serif\" font-size=\"14.00\">morphism</text>\n",
       "</g>\n",
       "<!-- 9 -->\n",
       "<g id=\"node9\" class=\"node\">\n",
       "<title>9</title>\n",
       "<polygon fill=\"none\" stroke=\"black\" points=\"322,-187 254,-187 254,-134 322,-134 322,-187\"/>\n",
       "<text text-anchor=\"middle\" x=\"288\" y=\"-171.8\" font-family=\"Times,serif\" font-size=\"14.00\">[9]</text>\n",
       "<text text-anchor=\"middle\" x=\"288\" y=\"-156.8\" font-family=\"Times,serif\" font-size=\"14.00\">Pre</text>\n",
       "<text text-anchor=\"middle\" x=\"288\" y=\"-141.8\" font-family=\"Times,serif\" font-size=\"14.00\">Compose</text>\n",
       "</g>\n",
       "<!-- 1&#45;&gt;9 -->\n",
       "<g id=\"edge12\" class=\"edge\">\n",
       "<title>1&#45;&gt;9</title>\n",
       "<path fill=\"none\" stroke=\"black\" d=\"M288,-237.76C288,-225.56 288,-210.78 288,-197.49\"/>\n",
       "<polygon fill=\"black\" stroke=\"black\" points=\"291.5,-197.23 288,-187.23 284.5,-197.23 291.5,-197.23\"/>\n",
       "<text text-anchor=\"middle\" x=\"291.5\" y=\"-208.8\" font-family=\"Times,serif\" font-size=\"14.00\">2</text>\n",
       "</g>\n",
       "<!-- 2 -->\n",
       "<g id=\"node2\" class=\"node\">\n",
       "<title>2</title>\n",
       "<polygon fill=\"none\" stroke=\"black\" points=\"394.5,-499 327.5,-499 327.5,-446 394.5,-446 394.5,-499\"/>\n",
       "<text text-anchor=\"middle\" x=\"361\" y=\"-483.8\" font-family=\"Times,serif\" font-size=\"14.00\">[2]</text>\n",
       "<text text-anchor=\"middle\" x=\"361\" y=\"-468.8\" font-family=\"Times,serif\" font-size=\"14.00\">primitive</text>\n",
       "<text text-anchor=\"middle\" x=\"361\" y=\"-453.8\" font-family=\"Times,serif\" font-size=\"14.00\">object</text>\n",
       "</g>\n",
       "<!-- 4 -->\n",
       "<g id=\"node4\" class=\"node\">\n",
       "<title>4</title>\n",
       "<polygon fill=\"none\" stroke=\"black\" points=\"390.5,-395 331.5,-395 331.5,-342 390.5,-342 390.5,-395\"/>\n",
       "<text text-anchor=\"middle\" x=\"361\" y=\"-379.8\" font-family=\"Times,serif\" font-size=\"14.00\">[4]</text>\n",
       "<text text-anchor=\"middle\" x=\"361\" y=\"-364.8\" font-family=\"Times,serif\" font-size=\"14.00\">Direct</text>\n",
       "<text text-anchor=\"middle\" x=\"361\" y=\"-349.8\" font-family=\"Times,serif\" font-size=\"14.00\">Product</text>\n",
       "</g>\n",
       "<!-- 2&#45;&gt;4 -->\n",
       "<g id=\"edge1\" class=\"edge\">\n",
       "<title>2&#45;&gt;4</title>\n",
       "<path fill=\"none\" stroke=\"black\" d=\"M361,-445.76C361,-433.56 361,-418.78 361,-405.49\"/>\n",
       "<polygon fill=\"black\" stroke=\"black\" points=\"364.5,-405.23 361,-395.23 357.5,-405.23 364.5,-405.23\"/>\n",
       "<text text-anchor=\"middle\" x=\"364.5\" y=\"-416.8\" font-family=\"Times,serif\" font-size=\"14.00\">1</text>\n",
       "</g>\n",
       "<!-- 5 -->\n",
       "<g id=\"node5\" class=\"node\">\n",
       "<title>5</title>\n",
       "<polygon fill=\"none\" stroke=\"black\" points=\"233,-291 25,-291 25,-238 233,-238 233,-291\"/>\n",
       "<text text-anchor=\"middle\" x=\"129\" y=\"-275.8\" font-family=\"Times,serif\" font-size=\"14.00\">[5]</text>\n",
       "<text text-anchor=\"middle\" x=\"129\" y=\"-260.8\" font-family=\"Times,serif\" font-size=\"14.00\">ProjectionInFactorOfDirectProduct</text>\n",
       "<text text-anchor=\"middle\" x=\"129\" y=\"-245.8\" font-family=\"Times,serif\" font-size=\"14.00\">WithGivenDirectProduct( 1 )</text>\n",
       "</g>\n",
       "<!-- 2&#45;&gt;5 -->\n",
       "<g id=\"edge3\" class=\"edge\">\n",
       "<title>2&#45;&gt;5</title>\n",
       "<path fill=\"none\" stroke=\"black\" d=\"M327.41,-470.12C293,-467.04 239.76,-457.43 205,-428 166.22,-395.16 146,-338.17 136.44,-301.16\"/>\n",
       "<polygon fill=\"black\" stroke=\"black\" points=\"139.8,-300.16 134.01,-291.28 133,-301.83 139.8,-300.16\"/>\n",
       "<text text-anchor=\"middle\" x=\"179.5\" y=\"-364.8\" font-family=\"Times,serif\" font-size=\"14.00\">1</text>\n",
       "</g>\n",
       "<!-- 7 -->\n",
       "<g id=\"node7\" class=\"node\">\n",
       "<title>7</title>\n",
       "<polygon fill=\"none\" stroke=\"black\" points=\"681,-291 473,-291 473,-238 681,-238 681,-291\"/>\n",
       "<text text-anchor=\"middle\" x=\"577\" y=\"-275.8\" font-family=\"Times,serif\" font-size=\"14.00\">[7]</text>\n",
       "<text text-anchor=\"middle\" x=\"577\" y=\"-260.8\" font-family=\"Times,serif\" font-size=\"14.00\">ProjectionInFactorOfDirectProduct</text>\n",
       "<text text-anchor=\"middle\" x=\"577\" y=\"-245.8\" font-family=\"Times,serif\" font-size=\"14.00\">WithGivenDirectProduct( 2 )</text>\n",
       "</g>\n",
       "<!-- 2&#45;&gt;7 -->\n",
       "<g id=\"edge6\" class=\"edge\">\n",
       "<title>2&#45;&gt;7</title>\n",
       "<path fill=\"none\" stroke=\"black\" d=\"M394.65,-464.17C418.25,-457.71 449.49,-446.41 472,-428 514.49,-393.26 545.52,-336.67 562.4,-300.27\"/>\n",
       "<polygon fill=\"black\" stroke=\"black\" points=\"565.65,-301.58 566.59,-291.03 559.28,-298.69 565.65,-301.58\"/>\n",
       "<text text-anchor=\"middle\" x=\"543.5\" y=\"-364.8\" font-family=\"Times,serif\" font-size=\"14.00\">1</text>\n",
       "</g>\n",
       "<!-- 8 -->\n",
       "<g id=\"node8\" class=\"node\">\n",
       "<title>8</title>\n",
       "<polygon fill=\"none\" stroke=\"black\" points=\"637.5,-395 578.5,-395 578.5,-342 637.5,-342 637.5,-395\"/>\n",
       "<text text-anchor=\"middle\" x=\"608\" y=\"-379.8\" font-family=\"Times,serif\" font-size=\"14.00\">[8]</text>\n",
       "<text text-anchor=\"middle\" x=\"608\" y=\"-364.8\" font-family=\"Times,serif\" font-size=\"14.00\">Direct</text>\n",
       "<text text-anchor=\"middle\" x=\"608\" y=\"-349.8\" font-family=\"Times,serif\" font-size=\"14.00\">Product</text>\n",
       "</g>\n",
       "<!-- 2&#45;&gt;8 -->\n",
       "<g id=\"edge10\" class=\"edge\">\n",
       "<title>2&#45;&gt;8</title>\n",
       "<path fill=\"none\" stroke=\"black\" d=\"M394.5,-462.97C423.07,-455.24 464.95,-442.81 500,-428 523.68,-417.99 549,-404.44 569.17,-392.9\"/>\n",
       "<polygon fill=\"black\" stroke=\"black\" points=\"571.15,-395.8 578.05,-387.76 567.64,-389.74 571.15,-395.8\"/>\n",
       "<text text-anchor=\"middle\" x=\"533.5\" y=\"-416.8\" font-family=\"Times,serif\" font-size=\"14.00\">2</text>\n",
       "</g>\n",
       "<!-- 11 -->\n",
       "<g id=\"node11\" class=\"node\">\n",
       "<title>11</title>\n",
       "<polygon fill=\"none\" stroke=\"black\" points=\"448.5,-83 321.5,-83 321.5,0 448.5,0 448.5,-83\"/>\n",
       "<text text-anchor=\"middle\" x=\"385\" y=\"-67.8\" font-family=\"Times,serif\" font-size=\"14.00\">[11]</text>\n",
       "<text text-anchor=\"middle\" x=\"385\" y=\"-52.8\" font-family=\"Times,serif\" font-size=\"14.00\">UniversalMorphism</text>\n",
       "<text text-anchor=\"middle\" x=\"385\" y=\"-37.8\" font-family=\"Times,serif\" font-size=\"14.00\">IntoDirectProduct</text>\n",
       "<text text-anchor=\"middle\" x=\"385\" y=\"-22.8\" font-family=\"Times,serif\" font-size=\"14.00\">WithGiven</text>\n",
       "<text text-anchor=\"middle\" x=\"385\" y=\"-7.8\" font-family=\"Times,serif\" font-size=\"14.00\">DirectProduct</text>\n",
       "</g>\n",
       "<!-- 2&#45;&gt;11 -->\n",
       "<g id=\"edge16\" class=\"edge\">\n",
       "<title>2&#45;&gt;11</title>\n",
       "<path fill=\"none\" stroke=\"black\" d=\"M327.36,-469.21C237.74,-462.18 0,-437.15 0,-369.5 0,-369.5 0,-369.5 0,-159.5 0,-95.14 199.43,-62.82 311.22,-49.75\"/>\n",
       "<polygon fill=\"black\" stroke=\"black\" points=\"311.89,-53.2 321.43,-48.59 311.09,-46.25 311.89,-53.2\"/>\n",
       "<text text-anchor=\"middle\" x=\"3.5\" y=\"-260.8\" font-family=\"Times,serif\" font-size=\"14.00\">2</text>\n",
       "</g>\n",
       "<!-- 3 -->\n",
       "<g id=\"node3\" class=\"node\">\n",
       "<title>3</title>\n",
       "<polygon fill=\"none\" stroke=\"black\" points=\"578.5,-499 511.5,-499 511.5,-446 578.5,-446 578.5,-499\"/>\n",
       "<text text-anchor=\"middle\" x=\"545\" y=\"-483.8\" font-family=\"Times,serif\" font-size=\"14.00\">[3]</text>\n",
       "<text text-anchor=\"middle\" x=\"545\" y=\"-468.8\" font-family=\"Times,serif\" font-size=\"14.00\">primitive</text>\n",
       "<text text-anchor=\"middle\" x=\"545\" y=\"-453.8\" font-family=\"Times,serif\" font-size=\"14.00\">object</text>\n",
       "</g>\n",
       "<!-- 3&#45;&gt;4 -->\n",
       "<g id=\"edge2\" class=\"edge\">\n",
       "<title>3&#45;&gt;4</title>\n",
       "<path fill=\"none\" stroke=\"black\" d=\"M511.25,-452.79C479.67,-435.29 432.54,-409.16 399.5,-390.84\"/>\n",
       "<polygon fill=\"black\" stroke=\"black\" points=\"401.03,-387.69 390.59,-385.9 397.63,-393.81 401.03,-387.69\"/>\n",
       "<text text-anchor=\"middle\" x=\"467.5\" y=\"-416.8\" font-family=\"Times,serif\" font-size=\"14.00\">2</text>\n",
       "</g>\n",
       "<!-- 3&#45;&gt;5 -->\n",
       "<g id=\"edge4\" class=\"edge\">\n",
       "<title>3&#45;&gt;5</title>\n",
       "<path fill=\"none\" stroke=\"black\" d=\"M511.47,-467.76C472.86,-462.56 408.16,-451.05 357,-428 282.32,-394.35 207.16,-334.59 164.52,-297.68\"/>\n",
       "<polygon fill=\"black\" stroke=\"black\" points=\"166.78,-295 156.94,-291.06 162.17,-300.27 166.78,-295\"/>\n",
       "<text text-anchor=\"middle\" x=\"297.5\" y=\"-364.8\" font-family=\"Times,serif\" font-size=\"14.00\">2</text>\n",
       "</g>\n",
       "<!-- 3&#45;&gt;7 -->\n",
       "<g id=\"edge7\" class=\"edge\">\n",
       "<title>3&#45;&gt;7</title>\n",
       "<path fill=\"none\" stroke=\"black\" d=\"M548.26,-445.65C551.64,-419.48 557.23,-377.86 563,-342 565.15,-328.64 567.76,-314.02 570.14,-301.17\"/>\n",
       "<polygon fill=\"black\" stroke=\"black\" points=\"573.59,-301.78 571.99,-291.3 566.71,-300.49 573.59,-301.78\"/>\n",
       "<text text-anchor=\"middle\" x=\"566.5\" y=\"-364.8\" font-family=\"Times,serif\" font-size=\"14.00\">2</text>\n",
       "</g>\n",
       "<!-- 3&#45;&gt;8 -->\n",
       "<g id=\"edge9\" class=\"edge\">\n",
       "<title>3&#45;&gt;8</title>\n",
       "<path fill=\"none\" stroke=\"black\" d=\"M572.39,-445.74C577.35,-440.21 582.15,-434.16 586,-428 590.45,-420.87 594.22,-412.69 597.32,-404.76\"/>\n",
       "<polygon fill=\"black\" stroke=\"black\" points=\"600.63,-405.88 600.76,-395.29 594.06,-403.49 600.63,-405.88\"/>\n",
       "<text text-anchor=\"middle\" x=\"596.5\" y=\"-416.8\" font-family=\"Times,serif\" font-size=\"14.00\">1</text>\n",
       "</g>\n",
       "<!-- 3&#45;&gt;11 -->\n",
       "<g id=\"edge15\" class=\"edge\">\n",
       "<title>3&#45;&gt;11</title>\n",
       "<path fill=\"none\" stroke=\"black\" d=\"M578.74,-470.08C638.1,-465.59 755,-446.91 755,-369.5 755,-369.5 755,-369.5 755,-159.5 755,-97.99 566.74,-64.7 458.79,-50.67\"/>\n",
       "<polygon fill=\"black\" stroke=\"black\" points=\"458.97,-47.16 448.61,-49.37 458.08,-54.11 458.97,-47.16\"/>\n",
       "<text text-anchor=\"middle\" x=\"758.5\" y=\"-260.8\" font-family=\"Times,serif\" font-size=\"14.00\">1</text>\n",
       "</g>\n",
       "<!-- 4&#45;&gt;5 -->\n",
       "<g id=\"edge5\" class=\"edge\">\n",
       "<title>4&#45;&gt;5</title>\n",
       "<path fill=\"none\" stroke=\"black\" d=\"M331.38,-353.63C305.51,-341.6 266.91,-323.84 233,-309 222.53,-304.42 211.42,-299.66 200.52,-295.05\"/>\n",
       "<polygon fill=\"black\" stroke=\"black\" points=\"201.58,-291.7 191.01,-291.05 198.87,-298.16 201.58,-291.7\"/>\n",
       "<text text-anchor=\"middle\" x=\"268.5\" y=\"-312.8\" font-family=\"Times,serif\" font-size=\"14.00\">3</text>\n",
       "</g>\n",
       "<!-- 4&#45;&gt;7 -->\n",
       "<g id=\"edge8\" class=\"edge\">\n",
       "<title>4&#45;&gt;7</title>\n",
       "<path fill=\"none\" stroke=\"black\" d=\"M390.89,-349.19C411.36,-337.03 439.34,-321.13 465,-309 475.28,-304.14 486.27,-299.38 497.19,-294.89\"/>\n",
       "<polygon fill=\"black\" stroke=\"black\" points=\"498.79,-298.02 506.75,-291.02 496.17,-291.53 498.79,-298.02\"/>\n",
       "<text text-anchor=\"middle\" x=\"468.5\" y=\"-312.8\" font-family=\"Times,serif\" font-size=\"14.00\">3</text>\n",
       "</g>\n",
       "<!-- 4&#45;&gt;11 -->\n",
       "<g id=\"edge17\" class=\"edge\">\n",
       "<title>4&#45;&gt;11</title>\n",
       "<path fill=\"none\" stroke=\"black\" d=\"M362.12,-341.9C364.1,-298.9 368.62,-209.47 375,-134 376.11,-120.93 377.53,-106.84 378.95,-93.72\"/>\n",
       "<polygon fill=\"black\" stroke=\"black\" points=\"382.47,-93.78 380.09,-83.45 375.51,-93.01 382.47,-93.78\"/>\n",
       "<text text-anchor=\"middle\" x=\"373.5\" y=\"-208.8\" font-family=\"Times,serif\" font-size=\"14.00\">3</text>\n",
       "</g>\n",
       "<!-- 5&#45;&gt;9 -->\n",
       "<g id=\"edge11\" class=\"edge\">\n",
       "<title>5&#45;&gt;9</title>\n",
       "<path fill=\"none\" stroke=\"black\" d=\"M169.12,-237.76C192.39,-222.83 221.68,-204.04 245.37,-188.85\"/>\n",
       "<polygon fill=\"black\" stroke=\"black\" points=\"247.29,-191.77 253.82,-183.43 243.51,-185.88 247.29,-191.77\"/>\n",
       "<text text-anchor=\"middle\" x=\"222.5\" y=\"-208.8\" font-family=\"Times,serif\" font-size=\"14.00\">1</text>\n",
       "</g>\n",
       "<!-- 6 -->\n",
       "<g id=\"node6\" class=\"node\">\n",
       "<title>6</title>\n",
       "<polygon fill=\"none\" stroke=\"black\" points=\"454.5,-291 381.5,-291 381.5,-238 454.5,-238 454.5,-291\"/>\n",
       "<text text-anchor=\"middle\" x=\"418\" y=\"-275.8\" font-family=\"Times,serif\" font-size=\"14.00\">[6]</text>\n",
       "<text text-anchor=\"middle\" x=\"418\" y=\"-260.8\" font-family=\"Times,serif\" font-size=\"14.00\">primitive</text>\n",
       "<text text-anchor=\"middle\" x=\"418\" y=\"-245.8\" font-family=\"Times,serif\" font-size=\"14.00\">morphism</text>\n",
       "</g>\n",
       "<!-- 10 -->\n",
       "<g id=\"node10\" class=\"node\">\n",
       "<title>10</title>\n",
       "<polygon fill=\"none\" stroke=\"black\" points=\"452,-187 384,-187 384,-134 452,-134 452,-187\"/>\n",
       "<text text-anchor=\"middle\" x=\"418\" y=\"-171.8\" font-family=\"Times,serif\" font-size=\"14.00\">[10]</text>\n",
       "<text text-anchor=\"middle\" x=\"418\" y=\"-156.8\" font-family=\"Times,serif\" font-size=\"14.00\">Pre</text>\n",
       "<text text-anchor=\"middle\" x=\"418\" y=\"-141.8\" font-family=\"Times,serif\" font-size=\"14.00\">Compose</text>\n",
       "</g>\n",
       "<!-- 6&#45;&gt;10 -->\n",
       "<g id=\"edge14\" class=\"edge\">\n",
       "<title>6&#45;&gt;10</title>\n",
       "<path fill=\"none\" stroke=\"black\" d=\"M418,-237.76C418,-225.56 418,-210.78 418,-197.49\"/>\n",
       "<polygon fill=\"black\" stroke=\"black\" points=\"421.5,-197.23 418,-187.23 414.5,-197.23 421.5,-197.23\"/>\n",
       "<text text-anchor=\"middle\" x=\"421.5\" y=\"-208.8\" font-family=\"Times,serif\" font-size=\"14.00\">2</text>\n",
       "</g>\n",
       "<!-- 7&#45;&gt;10 -->\n",
       "<g id=\"edge13\" class=\"edge\">\n",
       "<title>7&#45;&gt;10</title>\n",
       "<path fill=\"none\" stroke=\"black\" d=\"M536.88,-237.76C513.61,-222.83 484.32,-204.04 460.63,-188.85\"/>\n",
       "<polygon fill=\"black\" stroke=\"black\" points=\"462.49,-185.88 452.18,-183.43 458.71,-191.77 462.49,-185.88\"/>\n",
       "<text text-anchor=\"middle\" x=\"510.5\" y=\"-208.8\" font-family=\"Times,serif\" font-size=\"14.00\">1</text>\n",
       "</g>\n",
       "<!-- 8&#45;&gt;11 -->\n",
       "<g id=\"edge20\" class=\"edge\">\n",
       "<title>8&#45;&gt;11</title>\n",
       "<path fill=\"none\" stroke=\"black\" d=\"M637.79,-349.13C656.63,-335.65 679.37,-315.46 690,-291 699.39,-269.4 701.3,-258.67 690,-238 641.12,-148.61 531.99,-94.07 458.43,-66.07\"/>\n",
       "<polygon fill=\"black\" stroke=\"black\" points=\"459.33,-62.67 448.74,-62.46 456.89,-69.23 459.33,-62.67\"/>\n",
       "<text text-anchor=\"middle\" x=\"681.5\" y=\"-208.8\" font-family=\"Times,serif\" font-size=\"14.00\">6</text>\n",
       "</g>\n",
       "<!-- 9&#45;&gt;11 -->\n",
       "<g id=\"edge19\" class=\"edge\">\n",
       "<title>9&#45;&gt;11</title>\n",
       "<path fill=\"none\" stroke=\"black\" d=\"M306.56,-133.77C314.23,-123.42 323.34,-111.48 332,-101 334.7,-97.73 337.52,-94.4 340.4,-91.06\"/>\n",
       "<polygon fill=\"black\" stroke=\"black\" points=\"343.22,-93.15 347.17,-83.31 337.95,-88.54 343.22,-93.15\"/>\n",
       "<text text-anchor=\"middle\" x=\"335.5\" y=\"-104.8\" font-family=\"Times,serif\" font-size=\"14.00\">5</text>\n",
       "</g>\n",
       "<!-- 10&#45;&gt;11 -->\n",
       "<g id=\"edge18\" class=\"edge\">\n",
       "<title>10&#45;&gt;11</title>\n",
       "<path fill=\"none\" stroke=\"black\" d=\"M410.76,-133.82C407.37,-121.8 403.2,-107.04 399.22,-92.92\"/>\n",
       "<polygon fill=\"black\" stroke=\"black\" points=\"402.59,-91.96 396.5,-83.29 395.85,-93.86 402.59,-91.96\"/>\n",
       "<text text-anchor=\"middle\" x=\"409.5\" y=\"-104.8\" font-family=\"Times,serif\" font-size=\"14.00\">4</text>\n",
       "</g>\n",
       "</g>\n",
       "</svg>\n"
      ]
     },
     "metadata": {},
     "output_type": "display_data"
    }
   ],
   "source": [
    "Visualize( Gγ_ab )"
   ]
  },
  {
   "cell_type": "code",
   "execution_count": 43,
   "id": "1cad3753",
   "metadata": {},
   "outputs": [
    {
     "data": {
      "text/plain": [
       "GAP: <An evaluated object in LazyCategory( FiniteStrictProductCompletion( FreeCategory( RightQuiver( \"Q(a,b)[]\" ) ) ) )>"
      ]
     },
     "execution_count": 43,
     "metadata": {},
     "output_type": "execute_result"
    }
   ],
   "source": [
    "La = LPC.a"
   ]
  },
  {
   "cell_type": "code",
   "execution_count": 44,
   "id": "2668bf3f",
   "metadata": {},
   "outputs": [
    {
     "data": {
      "text/plain": [
       "GAP: <An evaluated object in LazyCategory( FiniteStrictProductCompletion( FreeCategory( RightQuiver( \"Q(a,b)[]\" ) ) ) )>"
      ]
     },
     "execution_count": 44,
     "metadata": {},
     "output_type": "execute_result"
    }
   ],
   "source": [
    "Lb = LPC.b"
   ]
  },
  {
   "cell_type": "code",
   "execution_count": 45,
   "id": "ee8a9e30",
   "metadata": {},
   "outputs": [
    {
     "data": {
      "image/svg+xml": [
       "<?xml version=\"1.0\" encoding=\"UTF-8\" standalone=\"no\"?>\n",
       "<!DOCTYPE svg PUBLIC \"-//W3C//DTD SVG 1.1//EN\"\n",
       " \"http://www.w3.org/Graphics/SVG/1.1/DTD/svg11.dtd\">\n",
       "<!-- Generated by graphviz version 2.50.0 (20211204.2007)\n",
       " -->\n",
       "<!-- Title: hgn Pages: 1 -->\n",
       "<svg width=\"553pt\" height=\"403pt\"\n",
       " viewBox=\"0.00 0.00 552.82 403.00\" xmlns=\"http://www.w3.org/2000/svg\" xmlns:xlink=\"http://www.w3.org/1999/xlink\">\n",
       "<g id=\"graph0\" class=\"graph\" transform=\"scale(1 1) rotate(0) translate(4 399)\">\n",
       "<title>hgn</title>\n",
       "<polygon fill=\"white\" stroke=\"transparent\" points=\"-4,4 -4,-399 548.82,-399 548.82,4 -4,4\"/>\n",
       "<!-- 1 -->\n",
       "<g id=\"node1\" class=\"node\">\n",
       "<title>1</title>\n",
       "<polygon fill=\"none\" stroke=\"black\" points=\"294.32,-395 227.32,-395 227.32,-342 294.32,-342 294.32,-395\"/>\n",
       "<text text-anchor=\"middle\" x=\"260.82\" y=\"-379.8\" font-family=\"Times,serif\" font-size=\"14.00\">[1]</text>\n",
       "<text text-anchor=\"middle\" x=\"260.82\" y=\"-364.8\" font-family=\"Times,serif\" font-size=\"14.00\">primitive</text>\n",
       "<text text-anchor=\"middle\" x=\"260.82\" y=\"-349.8\" font-family=\"Times,serif\" font-size=\"14.00\">object</text>\n",
       "</g>\n",
       "<!-- 3 -->\n",
       "<g id=\"node3\" class=\"node\">\n",
       "<title>3</title>\n",
       "<polygon fill=\"none\" stroke=\"black\" points=\"108.32,-291 49.32,-291 49.32,-238 108.32,-238 108.32,-291\"/>\n",
       "<text text-anchor=\"middle\" x=\"78.82\" y=\"-275.8\" font-family=\"Times,serif\" font-size=\"14.00\">[3]</text>\n",
       "<text text-anchor=\"middle\" x=\"78.82\" y=\"-260.8\" font-family=\"Times,serif\" font-size=\"14.00\">Direct</text>\n",
       "<text text-anchor=\"middle\" x=\"78.82\" y=\"-245.8\" font-family=\"Times,serif\" font-size=\"14.00\">Product</text>\n",
       "</g>\n",
       "<!-- 1&#45;&gt;3 -->\n",
       "<g id=\"edge1\" class=\"edge\">\n",
       "<title>1&#45;&gt;3</title>\n",
       "<path fill=\"none\" stroke=\"black\" d=\"M227.1,-353.14C209.18,-345.15 186.96,-334.69 167.82,-324 150.66,-314.41 132.4,-302.7 116.92,-292.28\"/>\n",
       "<polygon fill=\"black\" stroke=\"black\" points=\"118.87,-289.37 108.63,-286.64 114.93,-295.16 118.87,-289.37\"/>\n",
       "<text text-anchor=\"middle\" x=\"171.32\" y=\"-312.8\" font-family=\"Times,serif\" font-size=\"14.00\">1</text>\n",
       "</g>\n",
       "<!-- 4 -->\n",
       "<g id=\"node4\" class=\"node\">\n",
       "<title>4</title>\n",
       "<polygon fill=\"none\" stroke=\"black\" points=\"290.32,-291 231.32,-291 231.32,-238 290.32,-238 290.32,-291\"/>\n",
       "<text text-anchor=\"middle\" x=\"260.82\" y=\"-275.8\" font-family=\"Times,serif\" font-size=\"14.00\">[4]</text>\n",
       "<text text-anchor=\"middle\" x=\"260.82\" y=\"-260.8\" font-family=\"Times,serif\" font-size=\"14.00\">Direct</text>\n",
       "<text text-anchor=\"middle\" x=\"260.82\" y=\"-245.8\" font-family=\"Times,serif\" font-size=\"14.00\">Product</text>\n",
       "</g>\n",
       "<!-- 1&#45;&gt;4 -->\n",
       "<g id=\"edge4\" class=\"edge\">\n",
       "<title>1&#45;&gt;4</title>\n",
       "<path fill=\"none\" stroke=\"black\" d=\"M260.82,-341.76C260.82,-329.56 260.82,-314.78 260.82,-301.49\"/>\n",
       "<polygon fill=\"black\" stroke=\"black\" points=\"264.32,-301.23 260.82,-291.23 257.32,-301.23 264.32,-301.23\"/>\n",
       "<text text-anchor=\"middle\" x=\"264.32\" y=\"-312.8\" font-family=\"Times,serif\" font-size=\"14.00\">2</text>\n",
       "</g>\n",
       "<!-- 5 -->\n",
       "<g id=\"node5\" class=\"node\">\n",
       "<title>5</title>\n",
       "<polygon fill=\"none\" stroke=\"black\" points=\"247.82,-187 39.82,-187 39.82,-134 247.82,-134 247.82,-187\"/>\n",
       "<text text-anchor=\"middle\" x=\"143.82\" y=\"-171.8\" font-family=\"Times,serif\" font-size=\"14.00\">[5]</text>\n",
       "<text text-anchor=\"middle\" x=\"143.82\" y=\"-156.8\" font-family=\"Times,serif\" font-size=\"14.00\">ProjectionInFactorOfDirectProduct</text>\n",
       "<text text-anchor=\"middle\" x=\"143.82\" y=\"-141.8\" font-family=\"Times,serif\" font-size=\"14.00\">WithGivenDirectProduct( 1 )</text>\n",
       "</g>\n",
       "<!-- 1&#45;&gt;5 -->\n",
       "<g id=\"edge6\" class=\"edge\">\n",
       "<title>1&#45;&gt;5</title>\n",
       "<path fill=\"none\" stroke=\"black\" d=\"M227.19,-347.38C218.33,-340.82 209.42,-332.9 202.82,-324 194.99,-313.44 170.23,-241.18 155.39,-196.65\"/>\n",
       "<polygon fill=\"black\" stroke=\"black\" points=\"158.68,-195.45 152.21,-187.06 152.04,-197.66 158.68,-195.45\"/>\n",
       "<text text-anchor=\"middle\" x=\"190.32\" y=\"-260.8\" font-family=\"Times,serif\" font-size=\"14.00\">2</text>\n",
       "</g>\n",
       "<!-- 6 -->\n",
       "<g id=\"node6\" class=\"node\">\n",
       "<title>6</title>\n",
       "<polygon fill=\"none\" stroke=\"black\" points=\"516.82,-187 308.82,-187 308.82,-134 516.82,-134 516.82,-187\"/>\n",
       "<text text-anchor=\"middle\" x=\"412.82\" y=\"-171.8\" font-family=\"Times,serif\" font-size=\"14.00\">[6]</text>\n",
       "<text text-anchor=\"middle\" x=\"412.82\" y=\"-156.8\" font-family=\"Times,serif\" font-size=\"14.00\">ProjectionInFactorOfDirectProduct</text>\n",
       "<text text-anchor=\"middle\" x=\"412.82\" y=\"-141.8\" font-family=\"Times,serif\" font-size=\"14.00\">WithGivenDirectProduct( 2 )</text>\n",
       "</g>\n",
       "<!-- 1&#45;&gt;6 -->\n",
       "<g id=\"edge9\" class=\"edge\">\n",
       "<title>1&#45;&gt;6</title>\n",
       "<path fill=\"none\" stroke=\"black\" d=\"M294.75,-361.24C317.56,-355.34 346.66,-344.25 364.82,-324 396.55,-288.62 407.35,-233.18 411,-197.09\"/>\n",
       "<polygon fill=\"black\" stroke=\"black\" points=\"414.49,-197.27 411.88,-187 407.52,-196.66 414.49,-197.27\"/>\n",
       "<text text-anchor=\"middle\" x=\"407.32\" y=\"-260.8\" font-family=\"Times,serif\" font-size=\"14.00\">2</text>\n",
       "</g>\n",
       "<!-- 7 -->\n",
       "<g id=\"node7\" class=\"node\">\n",
       "<title>7</title>\n",
       "<polygon fill=\"none\" stroke=\"black\" points=\"312.32,-83 185.32,-83 185.32,0 312.32,0 312.32,-83\"/>\n",
       "<text text-anchor=\"middle\" x=\"248.82\" y=\"-67.8\" font-family=\"Times,serif\" font-size=\"14.00\">[7]</text>\n",
       "<text text-anchor=\"middle\" x=\"248.82\" y=\"-52.8\" font-family=\"Times,serif\" font-size=\"14.00\">UniversalMorphism</text>\n",
       "<text text-anchor=\"middle\" x=\"248.82\" y=\"-37.8\" font-family=\"Times,serif\" font-size=\"14.00\">IntoDirectProduct</text>\n",
       "<text text-anchor=\"middle\" x=\"248.82\" y=\"-22.8\" font-family=\"Times,serif\" font-size=\"14.00\">WithGiven</text>\n",
       "<text text-anchor=\"middle\" x=\"248.82\" y=\"-7.8\" font-family=\"Times,serif\" font-size=\"14.00\">DirectProduct</text>\n",
       "</g>\n",
       "<!-- 1&#45;&gt;7 -->\n",
       "<g id=\"edge11\" class=\"edge\">\n",
       "<title>1&#45;&gt;7</title>\n",
       "<path fill=\"none\" stroke=\"black\" d=\"M294.39,-359.8C320.14,-352.93 355.89,-341.27 383.82,-324 473.49,-268.56 587.58,-219.44 525.82,-134 479.85,-70.4 388.04,-50.27 322.73,-44.28\"/>\n",
       "<polygon fill=\"black\" stroke=\"black\" points=\"322.74,-40.77 312.48,-43.44 322.16,-47.75 322.74,-40.77\"/>\n",
       "<text text-anchor=\"middle\" x=\"541.32\" y=\"-208.8\" font-family=\"Times,serif\" font-size=\"14.00\">1</text>\n",
       "</g>\n",
       "<!-- 2 -->\n",
       "<g id=\"node2\" class=\"node\">\n",
       "<title>2</title>\n",
       "<polygon fill=\"none\" stroke=\"black\" points=\"178.32,-395 111.32,-395 111.32,-342 178.32,-342 178.32,-395\"/>\n",
       "<text text-anchor=\"middle\" x=\"144.82\" y=\"-379.8\" font-family=\"Times,serif\" font-size=\"14.00\">[2]</text>\n",
       "<text text-anchor=\"middle\" x=\"144.82\" y=\"-364.8\" font-family=\"Times,serif\" font-size=\"14.00\">primitive</text>\n",
       "<text text-anchor=\"middle\" x=\"144.82\" y=\"-349.8\" font-family=\"Times,serif\" font-size=\"14.00\">object</text>\n",
       "</g>\n",
       "<!-- 2&#45;&gt;3 -->\n",
       "<g id=\"edge2\" class=\"edge\">\n",
       "<title>2&#45;&gt;3</title>\n",
       "<path fill=\"none\" stroke=\"black\" d=\"M111.3,-346.44C103.53,-340.1 96.02,-332.53 90.82,-324 86.61,-317.09 83.85,-308.96 82.05,-300.99\"/>\n",
       "<polygon fill=\"black\" stroke=\"black\" points=\"85.48,-300.3 80.24,-291.09 78.59,-301.55 85.48,-300.3\"/>\n",
       "<text text-anchor=\"middle\" x=\"94.32\" y=\"-312.8\" font-family=\"Times,serif\" font-size=\"14.00\">2</text>\n",
       "</g>\n",
       "<!-- 2&#45;&gt;4 -->\n",
       "<g id=\"edge3\" class=\"edge\">\n",
       "<title>2&#45;&gt;4</title>\n",
       "<path fill=\"none\" stroke=\"black\" d=\"M174.09,-341.76C189.2,-328.47 207.8,-312.12 223.89,-297.98\"/>\n",
       "<polygon fill=\"black\" stroke=\"black\" points=\"226.36,-300.46 231.56,-291.23 221.74,-295.21 226.36,-300.46\"/>\n",
       "<text text-anchor=\"middle\" x=\"212.32\" y=\"-312.8\" font-family=\"Times,serif\" font-size=\"14.00\">1</text>\n",
       "</g>\n",
       "<!-- 2&#45;&gt;5 -->\n",
       "<g id=\"edge5\" class=\"edge\">\n",
       "<title>2&#45;&gt;5</title>\n",
       "<path fill=\"none\" stroke=\"black\" d=\"M144.7,-341.83C144.52,-305.41 144.2,-238.61 144,-197.34\"/>\n",
       "<polygon fill=\"black\" stroke=\"black\" points=\"147.49,-197.16 143.95,-187.17 140.49,-197.19 147.49,-197.16\"/>\n",
       "<text text-anchor=\"middle\" x=\"147.32\" y=\"-260.8\" font-family=\"Times,serif\" font-size=\"14.00\">1</text>\n",
       "</g>\n",
       "<!-- 2&#45;&gt;6 -->\n",
       "<g id=\"edge8\" class=\"edge\">\n",
       "<title>2&#45;&gt;6</title>\n",
       "<path fill=\"none\" stroke=\"black\" d=\"M178.33,-355.92C191.01,-351.54 205.58,-346.53 218.82,-342 242.36,-333.95 251.17,-337.88 271.82,-324 322.91,-289.67 366.65,-232.2 391.33,-195.61\"/>\n",
       "<polygon fill=\"black\" stroke=\"black\" points=\"394.28,-197.5 396.9,-187.24 388.45,-193.63 394.28,-197.5\"/>\n",
       "<text text-anchor=\"middle\" x=\"362.32\" y=\"-260.8\" font-family=\"Times,serif\" font-size=\"14.00\">1</text>\n",
       "</g>\n",
       "<!-- 2&#45;&gt;7 -->\n",
       "<g id=\"edge12\" class=\"edge\">\n",
       "<title>2&#45;&gt;7</title>\n",
       "<path fill=\"none\" stroke=\"black\" d=\"M110.9,-351.12C87.42,-338.05 57.35,-317.53 39.82,-291 0.75,-231.86 -10.1,-201.4 11.82,-134 32.72,-69.73 113.5,-49.62 175,-43.83\"/>\n",
       "<polygon fill=\"black\" stroke=\"black\" points=\"175.4,-47.31 185.07,-42.99 174.82,-40.33 175.4,-47.31\"/>\n",
       "<text text-anchor=\"middle\" x=\"8.32\" y=\"-208.8\" font-family=\"Times,serif\" font-size=\"14.00\">2</text>\n",
       "</g>\n",
       "<!-- 3&#45;&gt;7 -->\n",
       "<g id=\"edge16\" class=\"edge\">\n",
       "<title>3&#45;&gt;7</title>\n",
       "<path fill=\"none\" stroke=\"black\" d=\"M53.74,-237.97C30.14,-210.77 1.53,-167.13 23.82,-134 57.44,-84.04 123.56,-61.35 175.46,-51.04\"/>\n",
       "<polygon fill=\"black\" stroke=\"black\" points=\"176.12,-54.48 185.31,-49.2 174.83,-47.6 176.12,-54.48\"/>\n",
       "<text text-anchor=\"middle\" x=\"27.32\" y=\"-156.8\" font-family=\"Times,serif\" font-size=\"14.00\">6</text>\n",
       "</g>\n",
       "<!-- 4&#45;&gt;5 -->\n",
       "<g id=\"edge7\" class=\"edge\">\n",
       "<title>4&#45;&gt;5</title>\n",
       "<path fill=\"none\" stroke=\"black\" d=\"M237.08,-237.87C226.88,-227.31 214.62,-215.19 202.82,-205 198.32,-201.11 193.49,-197.19 188.61,-193.38\"/>\n",
       "<polygon fill=\"black\" stroke=\"black\" points=\"190.46,-190.39 180.39,-187.1 186.21,-195.95 190.46,-190.39\"/>\n",
       "<text text-anchor=\"middle\" x=\"221.32\" y=\"-208.8\" font-family=\"Times,serif\" font-size=\"14.00\">3</text>\n",
       "</g>\n",
       "<!-- 4&#45;&gt;6 -->\n",
       "<g id=\"edge10\" class=\"edge\">\n",
       "<title>4&#45;&gt;6</title>\n",
       "<path fill=\"none\" stroke=\"black\" d=\"M288.24,-237.83C300.47,-227.03 315.36,-214.74 329.82,-205 336.37,-200.59 343.41,-196.29 350.53,-192.21\"/>\n",
       "<polygon fill=\"black\" stroke=\"black\" points=\"352.53,-195.11 359.56,-187.18 349.12,-188.99 352.53,-195.11\"/>\n",
       "<text text-anchor=\"middle\" x=\"333.32\" y=\"-208.8\" font-family=\"Times,serif\" font-size=\"14.00\">3</text>\n",
       "</g>\n",
       "<!-- 4&#45;&gt;7 -->\n",
       "<g id=\"edge13\" class=\"edge\">\n",
       "<title>4&#45;&gt;7</title>\n",
       "<path fill=\"none\" stroke=\"black\" d=\"M260.45,-237.68C259.98,-211.53 258.94,-169.93 256.82,-134 256.04,-120.81 254.93,-106.58 253.78,-93.35\"/>\n",
       "<polygon fill=\"black\" stroke=\"black\" points=\"257.23,-92.65 252.86,-83 250.26,-93.27 257.23,-92.65\"/>\n",
       "<text text-anchor=\"middle\" x=\"262.32\" y=\"-156.8\" font-family=\"Times,serif\" font-size=\"14.00\">3</text>\n",
       "</g>\n",
       "<!-- 5&#45;&gt;7 -->\n",
       "<g id=\"edge15\" class=\"edge\">\n",
       "<title>5&#45;&gt;7</title>\n",
       "<path fill=\"none\" stroke=\"black\" d=\"M166.86,-133.82C178.17,-121.22 192.18,-105.61 205.39,-90.89\"/>\n",
       "<polygon fill=\"black\" stroke=\"black\" points=\"208.14,-93.07 212.21,-83.29 202.93,-88.39 208.14,-93.07\"/>\n",
       "<text text-anchor=\"middle\" x=\"199.32\" y=\"-104.8\" font-family=\"Times,serif\" font-size=\"14.00\">5</text>\n",
       "</g>\n",
       "<!-- 6&#45;&gt;7 -->\n",
       "<g id=\"edge14\" class=\"edge\">\n",
       "<title>6&#45;&gt;7</title>\n",
       "<path fill=\"none\" stroke=\"black\" d=\"M376.83,-133.82C358.43,-120.7 335.47,-104.32 314.09,-89.07\"/>\n",
       "<polygon fill=\"black\" stroke=\"black\" points=\"315.85,-86.02 305.68,-83.06 311.78,-91.72 315.85,-86.02\"/>\n",
       "<text text-anchor=\"middle\" x=\"353.32\" y=\"-104.8\" font-family=\"Times,serif\" font-size=\"14.00\">4</text>\n",
       "</g>\n",
       "</g>\n",
       "</svg>\n"
      ]
     },
     "metadata": {},
     "output_type": "display_data"
    }
   ],
   "source": [
    "Visualize( CartesianBraiding( La, Lb ) )"
   ]
  }
 ],
 "metadata": {
  "@webio": {
   "lastCommId": null,
   "lastKernelId": null
  },
  "kernelspec": {
   "display_name": "Julia 1.10.4",
   "language": "julia",
   "name": "julia-1.10"
  },
  "language_info": {
   "file_extension": ".jl",
   "mimetype": "application/julia",
   "name": "julia",
   "version": "1.10.4"
  }
 },
 "nbformat": 4,
 "nbformat_minor": 5
}
