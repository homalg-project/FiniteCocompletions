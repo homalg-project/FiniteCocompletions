{
 "cells": [
  {
   "cell_type": "markdown",
   "id": "5dd5d895",
   "metadata": {},
   "source": [
    "[![Binder](https://mybinder.org/badge_logo.svg)](https://gesis.mybinder.org/v2/gh/homalg-project/CapAndHomalgNotebooks/master?urlpath=git-pull%3Frepo%3Dhttps%253A%252F%252Fgithub.com%252Fhomalg-project%252FCategoricalTowers%26urlpath%3Dtree%252FCategoricalTowers%252FFiniteCocompletions%252Fexamples%252F%252Fnotebooks%252FReflexivePair.ipynb%26branch%3Dmaster)"
   ]
  },
  {
   "cell_type": "markdown",
   "id": "27d736b7",
   "metadata": {},
   "source": [
    "In this notebook we show how a pair morphisms $f,g:A \\rightrightarrows B$ in a category with finite coproducts induces a [reflexive pair](https://ncatlab.org/nlab/show/reflexive+coequalizer). This is used to show that to universally add coequalizers to a category with finite coproducts it suffices to add [reflexive coequalizers](https://ncatlab.org/nlab/show/reflexive+coequalizer). The dual version was proved in [1].\n",
    "\n",
    "[1] S. A. Huq and R. Cornu, [A remark on the existence of limits in categories.](https://doi.org/10.1002/mana.19730550111) Mathematische Nachrichten, **55** (1973), 223-224."
   ]
  },
  {
   "cell_type": "code",
   "execution_count": 1,
   "id": "256e81b7",
   "metadata": {},
   "outputs": [
    {
     "name": "stdout",
     "output_type": "stream",
     "text": [
      "CapAndHomalg v\u001b[32m1.5.3\u001b[39m\n",
      "Imported OSCAR's components GAP and Singular_jll\n",
      "Type: ?CapAndHomalg for more information\n"
     ]
    }
   ],
   "source": [
    "using CapAndHomalg"
   ]
  },
  {
   "cell_type": "code",
   "execution_count": 2,
   "id": "9309acbe",
   "metadata": {},
   "outputs": [],
   "source": [
    "LoadPackage( \"Algebroids\" )"
   ]
  },
  {
   "cell_type": "code",
   "execution_count": 3,
   "id": "734c4247",
   "metadata": {},
   "outputs": [],
   "source": [
    "LoadPackage( \"FiniteCocompletions\" )"
   ]
  },
  {
   "cell_type": "code",
   "execution_count": 4,
   "id": "d657e5bb",
   "metadata": {},
   "outputs": [],
   "source": [
    "LoadPackage( \"LazyCategories\" )"
   ]
  },
  {
   "cell_type": "code",
   "execution_count": 5,
   "id": "e1029929",
   "metadata": {},
   "outputs": [
    {
     "data": {
      "text/plain": [
       "GAP: Q(A,B)[f:A->B,g:A->B]"
      ]
     },
     "execution_count": 5,
     "metadata": {},
     "output_type": "execute_result"
    }
   ],
   "source": [
    "Q = RightQuiver( \"Q(A,B)[f:A->B,g:A->B]\" )"
   ]
  },
  {
   "cell_type": "code",
   "execution_count": 6,
   "id": "d6aa8950",
   "metadata": {},
   "outputs": [
    {
     "data": {
      "text/plain": [
       "GAP: FreeCategory( RightQuiver( \"Q(A,B)[f:A->B,g:A->B]\" ) )"
      ]
     },
     "execution_count": 6,
     "metadata": {},
     "output_type": "execute_result"
    }
   ],
   "source": [
    "C = FreeCategory( Q )"
   ]
  },
  {
   "cell_type": "code",
   "execution_count": 7,
   "id": "ab7092d3",
   "metadata": {},
   "outputs": [],
   "source": [
    "SetName( C.A, g\"C.A\" ); SetName( C.B, g\"C.B\" )"
   ]
  },
  {
   "cell_type": "code",
   "execution_count": 8,
   "id": "439ac720",
   "metadata": {},
   "outputs": [
    {
     "data": {
      "text/plain": [
       "GAP: FiniteStrictCoproductCocompletion( FreeCategory( RightQuiver( \"Q(A,B)[f:A->B,g:A->B]\" ) ) )"
      ]
     },
     "execution_count": 8,
     "metadata": {},
     "output_type": "execute_result"
    }
   ],
   "source": [
    "UC = FiniteStrictCoproductCocompletion( C )"
   ]
  },
  {
   "cell_type": "code",
   "execution_count": 9,
   "id": "c6bf53c1",
   "metadata": {},
   "outputs": [
    {
     "data": {
      "text/plain": [
       "GAP: <An object in FiniteStrictCoproductCocompletion( FreeCategory( RightQuiver( \"Q(A,B)[f:A->B,g:A->B]\" ) ) )>"
      ]
     },
     "execution_count": 9,
     "metadata": {},
     "output_type": "execute_result"
    }
   ],
   "source": [
    "A = UC.A"
   ]
  },
  {
   "cell_type": "code",
   "execution_count": 10,
   "id": "67db1a95",
   "metadata": {},
   "outputs": [
    {
     "name": "stdout",
     "output_type": "stream",
     "text": [
      "[ 1, [ C.A ] ]\n",
      "\n",
      "An object in FiniteStrictCoproductCocompletion( FreeCategory( RightQuiver( \"Q(A,B)[f:A->B,g:A->B]\" ) ) ) given by the above data\n"
     ]
    }
   ],
   "source": [
    "Display( A )"
   ]
  },
  {
   "cell_type": "code",
   "execution_count": 11,
   "id": "14a50987",
   "metadata": {},
   "outputs": [
    {
     "data": {
      "text/plain": [
       "GAP: <An object in FiniteStrictCoproductCocompletion( FreeCategory( RightQuiver( \"Q(A,B)[f:A->B,g:A->B]\" ) ) )>"
      ]
     },
     "execution_count": 11,
     "metadata": {},
     "output_type": "execute_result"
    }
   ],
   "source": [
    "B = UC.B"
   ]
  },
  {
   "cell_type": "code",
   "execution_count": 12,
   "id": "25a91360",
   "metadata": {},
   "outputs": [
    {
     "name": "stdout",
     "output_type": "stream",
     "text": [
      "[ 1, [ C.B ] ]\n",
      "\n",
      "An object in FiniteStrictCoproductCocompletion( FreeCategory( RightQuiver( \"Q(A,B)[f:A->B,g:A->B]\" ) ) ) given by the above data\n"
     ]
    }
   ],
   "source": [
    "Display( B )"
   ]
  },
  {
   "cell_type": "code",
   "execution_count": 13,
   "id": "7aaf2661",
   "metadata": {},
   "outputs": [
    {
     "data": {
      "text/plain": [
       "GAP: <A morphism in FiniteStrictCoproductCocompletion( FreeCategory( RightQuiver( \"Q(A,B)[f:A->B,g:A->B]\" ) ) )>"
      ]
     },
     "execution_count": 13,
     "metadata": {},
     "output_type": "execute_result"
    }
   ],
   "source": [
    "f = UC.f"
   ]
  },
  {
   "cell_type": "code",
   "execution_count": 14,
   "id": "a0d54b43",
   "metadata": {},
   "outputs": [
    {
     "data": {
      "text/plain": [
       "GAP: <A morphism in FiniteStrictCoproductCocompletion( FreeCategory( RightQuiver( \"Q(A,B)[f:A->B,g:A->B]\" ) ) )>"
      ]
     },
     "execution_count": 14,
     "metadata": {},
     "output_type": "execute_result"
    }
   ],
   "source": [
    "g = UC.g"
   ]
  },
  {
   "cell_type": "code",
   "execution_count": 15,
   "id": "1c1f298b",
   "metadata": {},
   "outputs": [
    {
     "data": {
      "text/plain": [
       "GAP: [ [ 0 ], [ (A)-[(f)]->(B) ] ]"
      ]
     },
     "execution_count": 15,
     "metadata": {},
     "output_type": "execute_result"
    }
   ],
   "source": [
    "MorphismDatum( f )"
   ]
  },
  {
   "cell_type": "code",
   "execution_count": 16,
   "id": "d2646a69",
   "metadata": {},
   "outputs": [
    {
     "data": {
      "text/plain": [
       "GAP: [ [ 0 ], [ (A)-[(g)]->(B) ] ]"
      ]
     },
     "execution_count": 16,
     "metadata": {},
     "output_type": "execute_result"
    }
   ],
   "source": [
    "MorphismDatum( g )"
   ]
  },
  {
   "cell_type": "code",
   "execution_count": 17,
   "id": "546fa57f",
   "metadata": {},
   "outputs": [
    {
     "data": {
      "text/plain": [
       "false"
      ]
     },
     "execution_count": 17,
     "metadata": {},
     "output_type": "execute_result"
    }
   ],
   "source": [
    "IsSplitEpimorphism( f )"
   ]
  },
  {
   "cell_type": "code",
   "execution_count": 18,
   "id": "10279bfe",
   "metadata": {},
   "outputs": [
    {
     "data": {
      "text/plain": [
       "false"
      ]
     },
     "execution_count": 18,
     "metadata": {},
     "output_type": "execute_result"
    }
   ],
   "source": [
    "IsSplitEpimorphism( g )"
   ]
  },
  {
   "cell_type": "code",
   "execution_count": 19,
   "id": "495c952f",
   "metadata": {},
   "outputs": [
    {
     "data": {
      "text/plain": [
       "GAP: <An object in FiniteStrictCoproductCocompletion( FreeCategory( RightQuiver( \"Q(A,B)[f:A->B,g:A->B]\" ) ) )>"
      ]
     },
     "execution_count": 19,
     "metadata": {},
     "output_type": "execute_result"
    }
   ],
   "source": [
    "AuB = Coproduct( A, B )"
   ]
  },
  {
   "cell_type": "code",
   "execution_count": 20,
   "id": "2fbd5e61",
   "metadata": {},
   "outputs": [
    {
     "data": {
      "text/plain": [
       "GAP: |2|"
      ]
     },
     "execution_count": 20,
     "metadata": {},
     "output_type": "execute_result"
    }
   ],
   "source": [
    "HomStructure( AuB, B )"
   ]
  },
  {
   "cell_type": "code",
   "execution_count": 21,
   "id": "eaa5a1f7",
   "metadata": {},
   "outputs": [
    {
     "data": {
      "text/plain": [
       "GAP: [ <A morphism in FiniteStrictCoproductCocompletion( FreeCategory( RightQuiver( \"Q(A,B)[f:A->B,g:A->B]\" ) ) )>, <A morphism in FiniteStrictCoproductCocompletion( FreeCategory( RightQuiver( \"Q(A,B)[f:A->B,g:A->B]\" ) ) )> ]"
      ]
     },
     "execution_count": 21,
     "metadata": {},
     "output_type": "execute_result"
    }
   ],
   "source": [
    "hom = MorphismsOfExternalHom( AuB, B )"
   ]
  },
  {
   "cell_type": "code",
   "execution_count": 22,
   "id": "0f7e243e",
   "metadata": {},
   "outputs": [
    {
     "data": {
      "text/plain": [
       "GAP: <A morphism in FiniteStrictCoproductCocompletion( FreeCategory( RightQuiver( \"Q(A,B)[f:A->B,g:A->B]\" ) ) )>"
      ]
     },
     "execution_count": 22,
     "metadata": {},
     "output_type": "execute_result"
    }
   ],
   "source": [
    "ff = hom[1]"
   ]
  },
  {
   "cell_type": "code",
   "execution_count": 23,
   "id": "ed16799c",
   "metadata": {},
   "outputs": [
    {
     "data": {
      "text/plain": [
       "GAP: <A morphism in FiniteStrictCoproductCocompletion( FreeCategory( RightQuiver( \"Q(A,B)[f:A->B,g:A->B]\" ) ) )>"
      ]
     },
     "execution_count": 23,
     "metadata": {},
     "output_type": "execute_result"
    }
   ],
   "source": [
    "gg = hom[2]"
   ]
  },
  {
   "cell_type": "code",
   "execution_count": 24,
   "id": "d9f28283",
   "metadata": {},
   "outputs": [
    {
     "data": {
      "text/plain": [
       "false"
      ]
     },
     "execution_count": 24,
     "metadata": {},
     "output_type": "execute_result"
    }
   ],
   "source": [
    "ff == gg"
   ]
  },
  {
   "cell_type": "code",
   "execution_count": 25,
   "id": "6c76923d",
   "metadata": {},
   "outputs": [
    {
     "data": {
      "text/plain": [
       "true"
      ]
     },
     "execution_count": 25,
     "metadata": {},
     "output_type": "execute_result"
    }
   ],
   "source": [
    "IsSplitEpimorphism( ff )"
   ]
  },
  {
   "cell_type": "code",
   "execution_count": 26,
   "id": "669ab8f1",
   "metadata": {},
   "outputs": [
    {
     "data": {
      "text/plain": [
       "true"
      ]
     },
     "execution_count": 26,
     "metadata": {},
     "output_type": "execute_result"
    }
   ],
   "source": [
    "IsSplitEpimorphism( gg )"
   ]
  },
  {
   "cell_type": "code",
   "execution_count": 27,
   "id": "e6f31c3e",
   "metadata": {},
   "outputs": [
    {
     "data": {
      "text/plain": [
       "GAP: [ [ 0, 0 ], [ (A)-[(f)]->(B), (B)-[(B)]->(B) ] ]"
      ]
     },
     "execution_count": 27,
     "metadata": {},
     "output_type": "execute_result"
    }
   ],
   "source": [
    "MorphismDatum( ff )"
   ]
  },
  {
   "cell_type": "code",
   "execution_count": 28,
   "id": "21dc72d8",
   "metadata": {},
   "outputs": [
    {
     "data": {
      "text/plain": [
       "GAP: [ [ 0, 0 ], [ (A)-[(g)]->(B), (B)-[(B)]->(B) ] ]"
      ]
     },
     "execution_count": 28,
     "metadata": {},
     "output_type": "execute_result"
    }
   ],
   "source": [
    "MorphismDatum( gg )"
   ]
  },
  {
   "cell_type": "code",
   "execution_count": 29,
   "id": "5de6c2a9",
   "metadata": {},
   "outputs": [
    {
     "data": {
      "text/plain": [
       "GAP: |1|"
      ]
     },
     "execution_count": 29,
     "metadata": {},
     "output_type": "execute_result"
    }
   ],
   "source": [
    "HomStructure( B, AuB )"
   ]
  },
  {
   "cell_type": "code",
   "execution_count": 30,
   "id": "c6875174",
   "metadata": {},
   "outputs": [
    {
     "data": {
      "text/plain": [
       "GAP: <A morphism in FiniteStrictCoproductCocompletion( FreeCategory( RightQuiver( \"Q(A,B)[f:A->B,g:A->B]\" ) ) )>"
      ]
     },
     "execution_count": 30,
     "metadata": {},
     "output_type": "execute_result"
    }
   ],
   "source": [
    "ii = MorphismsOfExternalHom( B, AuB )[1]"
   ]
  },
  {
   "cell_type": "code",
   "execution_count": 31,
   "id": "e0182407",
   "metadata": {},
   "outputs": [
    {
     "data": {
      "text/plain": [
       "true"
      ]
     },
     "execution_count": 31,
     "metadata": {},
     "output_type": "execute_result"
    }
   ],
   "source": [
    "ii == InjectionOfCofactorOfCoproduct( [ A, B ], 2 )"
   ]
  },
  {
   "cell_type": "code",
   "execution_count": 32,
   "id": "833d5c3a",
   "metadata": {},
   "outputs": [
    {
     "data": {
      "text/plain": [
       "true"
      ]
     },
     "execution_count": 32,
     "metadata": {},
     "output_type": "execute_result"
    }
   ],
   "source": [
    "f == ComponentOfMorphismFromCoproduct( ff, [ A, B ], 1 )"
   ]
  },
  {
   "cell_type": "code",
   "execution_count": 33,
   "id": "3d946116",
   "metadata": {},
   "outputs": [
    {
     "data": {
      "text/plain": [
       "true"
      ]
     },
     "execution_count": 33,
     "metadata": {},
     "output_type": "execute_result"
    }
   ],
   "source": [
    "IdentityMorphism( B ) == ComponentOfMorphismFromCoproduct( ff, [ A, B ], 2 )"
   ]
  },
  {
   "cell_type": "code",
   "execution_count": 34,
   "id": "6f342826",
   "metadata": {},
   "outputs": [
    {
     "data": {
      "text/plain": [
       "true"
      ]
     },
     "execution_count": 34,
     "metadata": {},
     "output_type": "execute_result"
    }
   ],
   "source": [
    "g == ComponentOfMorphismFromCoproduct( gg, [ A, B ], 1  )"
   ]
  },
  {
   "cell_type": "code",
   "execution_count": 35,
   "id": "3a316e2e",
   "metadata": {},
   "outputs": [
    {
     "data": {
      "text/plain": [
       "true"
      ]
     },
     "execution_count": 35,
     "metadata": {},
     "output_type": "execute_result"
    }
   ],
   "source": [
    "IdentityMorphism( B ) == ComponentOfMorphismFromCoproduct( gg, [ A, B ], 2 )"
   ]
  },
  {
   "cell_type": "code",
   "execution_count": 36,
   "id": "03e310c6",
   "metadata": {},
   "outputs": [
    {
     "data": {
      "text/plain": [
       "GAP: LazyCategory( FiniteStrictCoproductCocompletion( FreeCategory( RightQuiver( \"Q(A,B)[f:A->B,g:A->B]\" ) ) ) )"
      ]
     },
     "execution_count": 36,
     "metadata": {},
     "output_type": "execute_result"
    }
   ],
   "source": [
    "LUC = LazyCategory( UC )"
   ]
  },
  {
   "cell_type": "code",
   "execution_count": 37,
   "id": "1da09305",
   "metadata": {},
   "outputs": [
    {
     "data": {
      "text/plain": [
       "GAP: Embedding functor into lazy category"
      ]
     },
     "execution_count": 37,
     "metadata": {},
     "output_type": "execute_result"
    }
   ],
   "source": [
    "Emb = EmbeddingFunctorOfUnderlyingCategory( LUC )"
   ]
  },
  {
   "cell_type": "code",
   "execution_count": 38,
   "id": "b704a864",
   "metadata": {},
   "outputs": [
    {
     "name": "stdout",
     "output_type": "stream",
     "text": [
      "Embedding functor into lazy category:\n",
      "\n",
      "FiniteStrictCoproductCocompletion( FreeCategory( RightQuiver( \"Q(A,B)[f:A->B,g:A->B]\" ) ) )\n",
      "  |\n",
      "  V\n",
      "LazyCategory( FiniteStrictCoproductCocompletion( FreeCategory( RightQuiver( \"Q(A,B)[f:A->B,g:A->B]\" ) ) ) )\n"
     ]
    }
   ],
   "source": [
    "Display( Emb )"
   ]
  },
  {
   "cell_type": "code",
   "execution_count": 39,
   "id": "862cdf72",
   "metadata": {},
   "outputs": [
    {
     "data": {
      "text/plain": [
       "GAP: Precomposition of Embedding functor into a finite strict coproduct cocompletion category and Embedding functor into lazy category"
      ]
     },
     "execution_count": 39,
     "metadata": {},
     "output_type": "execute_result"
    }
   ],
   "source": [
    "F = PreCompose( EmbeddingOfUnderlyingCategory( UC ), Emb )"
   ]
  },
  {
   "cell_type": "code",
   "execution_count": 40,
   "id": "4b683b37",
   "metadata": {},
   "outputs": [
    {
     "name": "stdout",
     "output_type": "stream",
     "text": [
      "Precomposition of Embedding functor into a finite strict coproduct cocompletion category and Embedding functor into lazy category:\n",
      "\n",
      "FreeCategory( RightQuiver( \"Q(A,B)[f:A->B,g:A->B]\" ) )\n",
      "  |\n",
      "  V\n",
      "LazyCategory( FiniteStrictCoproductCocompletion( FreeCategory( RightQuiver( \"Q(A,B)[f:A->B,g:A->B]\" ) ) ) )\n"
     ]
    }
   ],
   "source": [
    "Display( F )"
   ]
  },
  {
   "cell_type": "code",
   "execution_count": 41,
   "id": "bcbe45bf",
   "metadata": {},
   "outputs": [
    {
     "data": {
      "text/plain": [
       "GAP: Extension to FiniteStrictCoproductCocompletion( Source( Precomposition of Embedding functor into a finite strict coproduct cocompletion category and Embedding functor into lazy category ) )"
      ]
     },
     "execution_count": 41,
     "metadata": {},
     "output_type": "execute_result"
    }
   ],
   "source": [
    "G = ExtendFunctorToFiniteStrictCoproductCocompletion( F )"
   ]
  },
  {
   "cell_type": "code",
   "execution_count": 42,
   "id": "db01d194",
   "metadata": {},
   "outputs": [
    {
     "name": "stdout",
     "output_type": "stream",
     "text": [
      "Extension to FiniteStrictCoproductCocompletion( Source( Precomposition of Embedding functor into a finite strict coproduct cocompletion category and Embedding functor into lazy category ) ):\n",
      "\n",
      "FiniteStrictCoproductCocompletion( FreeCategory( RightQuiver( \"Q(A,B)[f:A->B,g:A->B]\" ) ) )\n",
      "  |\n",
      "  V\n",
      "LazyCategory( FiniteStrictCoproductCocompletion( FreeCategory( RightQuiver( \"Q(A,B)[f:A->B,g:A->B]\" ) ) ) )\n"
     ]
    }
   ],
   "source": [
    "Display( G )"
   ]
  },
  {
   "cell_type": "code",
   "execution_count": 43,
   "id": "e5ab639d",
   "metadata": {},
   "outputs": [
    {
     "data": {
      "text/plain": [
       "GAP: <A morphism in LazyCategory( FiniteStrictCoproductCocompletion( FreeCategory( RightQuiver( \"Q(A,B)[f:A->B,g:A->B]\" ) ) ) )>"
      ]
     },
     "execution_count": 43,
     "metadata": {},
     "output_type": "execute_result"
    }
   ],
   "source": [
    "Gff = G( ff )"
   ]
  },
  {
   "cell_type": "code",
   "execution_count": 44,
   "id": "62fe9937",
   "metadata": {},
   "outputs": [
    {
     "data": {
      "text/plain": [
       "true"
      ]
     },
     "execution_count": 44,
     "metadata": {},
     "output_type": "execute_result"
    }
   ],
   "source": [
    "IsWellDefined( Gff )"
   ]
  },
  {
   "cell_type": "code",
   "execution_count": 45,
   "id": "84ec8303",
   "metadata": {},
   "outputs": [
    {
     "data": {
      "text/plain": [
       "GAP: <A morphism in LazyCategory( FiniteStrictCoproductCocompletion( FreeCategory( RightQuiver( \"Q(A,B)[f:A->B,g:A->B]\" ) ) ) )>"
      ]
     },
     "execution_count": 45,
     "metadata": {},
     "output_type": "execute_result"
    }
   ],
   "source": [
    "Ggg = G( gg )"
   ]
  },
  {
   "cell_type": "code",
   "execution_count": 46,
   "id": "24b17f43",
   "metadata": {},
   "outputs": [
    {
     "data": {
      "text/plain": [
       "true"
      ]
     },
     "execution_count": 46,
     "metadata": {},
     "output_type": "execute_result"
    }
   ],
   "source": [
    "IsWellDefined( Ggg )"
   ]
  },
  {
   "cell_type": "code",
   "execution_count": 47,
   "id": "b43240d8",
   "metadata": {},
   "outputs": [
    {
     "data": {
      "text/plain": [
       "GAP: [ [ 0, 0 ], [ (A)-[(f)]->(B), (B)-[(B)]->(B) ] ]"
      ]
     },
     "execution_count": 47,
     "metadata": {},
     "output_type": "execute_result"
    }
   ],
   "source": [
    "MorphismDatum( EvaluatedCell( Gff ) )"
   ]
  },
  {
   "cell_type": "code",
   "execution_count": 48,
   "id": "bbd20347",
   "metadata": {},
   "outputs": [
    {
     "data": {
      "text/plain": [
       "GAP: [ [ 0, 0 ], [ (A)-[(g)]->(B), (B)-[(B)]->(B) ] ]"
      ]
     },
     "execution_count": 48,
     "metadata": {},
     "output_type": "execute_result"
    }
   ],
   "source": [
    "MorphismDatum( EvaluatedCell( Ggg ) )"
   ]
  },
  {
   "cell_type": "code",
   "execution_count": 49,
   "id": "82b4ab80",
   "metadata": {},
   "outputs": [
    {
     "data": {
      "image/svg+xml": [
       "<?xml version=\"1.0\" encoding=\"UTF-8\" standalone=\"no\"?>\n",
       "<!DOCTYPE svg PUBLIC \"-//W3C//DTD SVG 1.1//EN\"\n",
       " \"http://www.w3.org/Graphics/SVG/1.1/DTD/svg11.dtd\">\n",
       "<!-- Generated by graphviz version 2.50.0 (20211204.2007)\n",
       " -->\n",
       "<!-- Title: hgn Pages: 1 -->\n",
       "<svg width=\"596pt\" height=\"478pt\"\n",
       " viewBox=\"0.00 0.00 595.95 478.00\" xmlns=\"http://www.w3.org/2000/svg\" xmlns:xlink=\"http://www.w3.org/1999/xlink\">\n",
       "<g id=\"graph0\" class=\"graph\" transform=\"scale(1 1) rotate(0) translate(4 474)\">\n",
       "<title>hgn</title>\n",
       "<polygon fill=\"white\" stroke=\"transparent\" points=\"-4,4 -4,-474 591.95,-474 591.95,4 -4,4\"/>\n",
       "<!-- 1 -->\n",
       "<g id=\"node1\" class=\"node\">\n",
       "<title>1</title>\n",
       "<polygon fill=\"none\" stroke=\"black\" points=\"91.95,-291 18.95,-291 18.95,-238 91.95,-238 91.95,-291\"/>\n",
       "<text text-anchor=\"middle\" x=\"55.45\" y=\"-275.8\" font-family=\"Times,serif\" font-size=\"14.00\">[1]</text>\n",
       "<text text-anchor=\"middle\" x=\"55.45\" y=\"-260.8\" font-family=\"Times,serif\" font-size=\"14.00\">primitive</text>\n",
       "<text text-anchor=\"middle\" x=\"55.45\" y=\"-245.8\" font-family=\"Times,serif\" font-size=\"14.00\">morphism</text>\n",
       "</g>\n",
       "<!-- 8 -->\n",
       "<g id=\"node8\" class=\"node\">\n",
       "<title>8</title>\n",
       "<polygon fill=\"none\" stroke=\"black\" points=\"242.45,-187 174.45,-187 174.45,-134 242.45,-134 242.45,-187\"/>\n",
       "<text text-anchor=\"middle\" x=\"208.45\" y=\"-171.8\" font-family=\"Times,serif\" font-size=\"14.00\">[8]</text>\n",
       "<text text-anchor=\"middle\" x=\"208.45\" y=\"-156.8\" font-family=\"Times,serif\" font-size=\"14.00\">Pre</text>\n",
       "<text text-anchor=\"middle\" x=\"208.45\" y=\"-141.8\" font-family=\"Times,serif\" font-size=\"14.00\">Compose</text>\n",
       "</g>\n",
       "<!-- 1&#45;&gt;8 -->\n",
       "<g id=\"edge6\" class=\"edge\">\n",
       "<title>1&#45;&gt;8</title>\n",
       "<path fill=\"none\" stroke=\"black\" d=\"M92.1,-239.07C114.2,-224.33 142.47,-205.49 165.6,-190.06\"/>\n",
       "<polygon fill=\"black\" stroke=\"black\" points=\"167.82,-192.79 174.2,-184.33 163.94,-186.97 167.82,-192.79\"/>\n",
       "<text text-anchor=\"middle\" x=\"144.95\" y=\"-208.8\" font-family=\"Times,serif\" font-size=\"14.00\">1</text>\n",
       "</g>\n",
       "<!-- 2 -->\n",
       "<g id=\"node2\" class=\"node\">\n",
       "<title>2</title>\n",
       "<polygon fill=\"none\" stroke=\"black\" points=\"408.95,-470 341.95,-470 341.95,-417 408.95,-417 408.95,-470\"/>\n",
       "<text text-anchor=\"middle\" x=\"375.45\" y=\"-454.8\" font-family=\"Times,serif\" font-size=\"14.00\">[2]</text>\n",
       "<text text-anchor=\"middle\" x=\"375.45\" y=\"-439.8\" font-family=\"Times,serif\" font-size=\"14.00\">primitive</text>\n",
       "<text text-anchor=\"middle\" x=\"375.45\" y=\"-424.8\" font-family=\"Times,serif\" font-size=\"14.00\">object</text>\n",
       "</g>\n",
       "<!-- 3 -->\n",
       "<g id=\"node3\" class=\"node\">\n",
       "<title>3</title>\n",
       "<polygon fill=\"none\" stroke=\"black\" points=\"245.45,-380 171.45,-380 171.45,-342 245.45,-342 245.45,-380\"/>\n",
       "<text text-anchor=\"middle\" x=\"208.45\" y=\"-364.8\" font-family=\"Times,serif\" font-size=\"14.00\">[3]</text>\n",
       "<text text-anchor=\"middle\" x=\"208.45\" y=\"-349.8\" font-family=\"Times,serif\" font-size=\"14.00\">Coproduct</text>\n",
       "</g>\n",
       "<!-- 2&#45;&gt;3 -->\n",
       "<g id=\"edge1\" class=\"edge\">\n",
       "<title>2&#45;&gt;3</title>\n",
       "<path fill=\"none\" stroke=\"black\" d=\"M341.65,-426.21C316.65,-414.16 282.3,-397.6 254.74,-384.31\"/>\n",
       "<polygon fill=\"black\" stroke=\"black\" points=\"256.21,-381.14 245.68,-379.95 253.17,-387.44 256.21,-381.14\"/>\n",
       "</g>\n",
       "<!-- 4 -->\n",
       "<g id=\"node4\" class=\"node\">\n",
       "<title>4</title>\n",
       "<polygon fill=\"none\" stroke=\"black\" points=\"306.95,-291 109.95,-291 109.95,-238 306.95,-238 306.95,-291\"/>\n",
       "<text text-anchor=\"middle\" x=\"208.45\" y=\"-275.8\" font-family=\"Times,serif\" font-size=\"14.00\">[4]</text>\n",
       "<text text-anchor=\"middle\" x=\"208.45\" y=\"-260.8\" font-family=\"Times,serif\" font-size=\"14.00\">InjectionOfCofactorOfCoproduct</text>\n",
       "<text text-anchor=\"middle\" x=\"208.45\" y=\"-245.8\" font-family=\"Times,serif\" font-size=\"14.00\">WithGivenCoproduct( 1 )</text>\n",
       "</g>\n",
       "<!-- 2&#45;&gt;4 -->\n",
       "<g id=\"edge2\" class=\"edge\">\n",
       "<title>2&#45;&gt;4</title>\n",
       "<path fill=\"none\" stroke=\"black\" d=\"M351.17,-416.76C321.73,-385.56 272.07,-332.93 239.77,-298.7\"/>\n",
       "<polygon fill=\"black\" stroke=\"black\" points=\"242.17,-296.14 232.76,-291.27 237.08,-300.94 242.17,-296.14\"/>\n",
       "<text text-anchor=\"middle\" x=\"319.95\" y=\"-357.3\" font-family=\"Times,serif\" font-size=\"14.00\">1</text>\n",
       "</g>\n",
       "<!-- 7 -->\n",
       "<g id=\"node7\" class=\"node\">\n",
       "<title>7</title>\n",
       "<polygon fill=\"none\" stroke=\"black\" points=\"528.45,-179.5 454.45,-179.5 454.45,-141.5 528.45,-141.5 528.45,-179.5\"/>\n",
       "<text text-anchor=\"middle\" x=\"491.45\" y=\"-164.3\" font-family=\"Times,serif\" font-size=\"14.00\">[7]</text>\n",
       "<text text-anchor=\"middle\" x=\"491.45\" y=\"-149.3\" font-family=\"Times,serif\" font-size=\"14.00\">Coproduct</text>\n",
       "</g>\n",
       "<!-- 2&#45;&gt;7 -->\n",
       "<g id=\"edge5\" class=\"edge\">\n",
       "<title>2&#45;&gt;7</title>\n",
       "<path fill=\"none\" stroke=\"black\" d=\"M409.07,-429.95C423.34,-422.96 438.87,-412.82 448.45,-399 493.08,-334.63 495.46,-237.63 493.49,-189.97\"/>\n",
       "<polygon fill=\"black\" stroke=\"black\" points=\"496.98,-189.58 492.97,-179.77 489.99,-189.94 496.98,-189.58\"/>\n",
       "<text text-anchor=\"middle\" x=\"487.95\" y=\"-312.8\" font-family=\"Times,serif\" font-size=\"14.00\">2</text>\n",
       "</g>\n",
       "<!-- 10 -->\n",
       "<g id=\"node10\" class=\"node\">\n",
       "<title>10</title>\n",
       "<polygon fill=\"none\" stroke=\"black\" points=\"472.95,-83 345.95,-83 345.95,0 472.95,0 472.95,-83\"/>\n",
       "<text text-anchor=\"middle\" x=\"409.45\" y=\"-67.8\" font-family=\"Times,serif\" font-size=\"14.00\">[10]</text>\n",
       "<text text-anchor=\"middle\" x=\"409.45\" y=\"-52.8\" font-family=\"Times,serif\" font-size=\"14.00\">UniversalMorphism</text>\n",
       "<text text-anchor=\"middle\" x=\"409.45\" y=\"-37.8\" font-family=\"Times,serif\" font-size=\"14.00\">FromCoproduct</text>\n",
       "<text text-anchor=\"middle\" x=\"409.45\" y=\"-22.8\" font-family=\"Times,serif\" font-size=\"14.00\">WithGiven</text>\n",
       "<text text-anchor=\"middle\" x=\"409.45\" y=\"-7.8\" font-family=\"Times,serif\" font-size=\"14.00\">Coproduct</text>\n",
       "</g>\n",
       "<!-- 2&#45;&gt;10 -->\n",
       "<g id=\"edge11\" class=\"edge\">\n",
       "<title>2&#45;&gt;10</title>\n",
       "<path fill=\"none\" stroke=\"black\" d=\"M382.21,-417C389.79,-387.08 401.63,-335.85 406.45,-291 413.76,-222.91 413.16,-143.74 411.65,-93.39\"/>\n",
       "<polygon fill=\"black\" stroke=\"black\" points=\"415.13,-92.98 411.31,-83.1 408.14,-93.21 415.13,-92.98\"/>\n",
       "<text text-anchor=\"middle\" x=\"414.95\" y=\"-260.8\" font-family=\"Times,serif\" font-size=\"14.00\">2</text>\n",
       "</g>\n",
       "<!-- 3&#45;&gt;4 -->\n",
       "<g id=\"edge3\" class=\"edge\">\n",
       "<title>3&#45;&gt;4</title>\n",
       "<path fill=\"none\" stroke=\"black\" d=\"M208.45,-341.78C208.45,-330.33 208.45,-315.16 208.45,-301.36\"/>\n",
       "<polygon fill=\"black\" stroke=\"black\" points=\"211.95,-301.17 208.45,-291.17 204.95,-301.17 211.95,-301.17\"/>\n",
       "<text text-anchor=\"middle\" x=\"211.95\" y=\"-312.8\" font-family=\"Times,serif\" font-size=\"14.00\">2</text>\n",
       "</g>\n",
       "<!-- 3&#45;&gt;10 -->\n",
       "<g id=\"edge12\" class=\"edge\">\n",
       "<title>3&#45;&gt;10</title>\n",
       "<path fill=\"none\" stroke=\"black\" d=\"M171.23,-359.23C124.56,-356.01 46.23,-342.69 9.45,-291 -4.21,-271.81 -1.67,-258.77 9.45,-238 73.74,-117.88 239.12,-70.49 335.91,-52.62\"/>\n",
       "<polygon fill=\"black\" stroke=\"black\" points=\"336.7,-56.04 345.92,-50.84 335.47,-49.15 336.7,-56.04\"/>\n",
       "<text text-anchor=\"middle\" x=\"32.95\" y=\"-208.8\" font-family=\"Times,serif\" font-size=\"14.00\">3</text>\n",
       "</g>\n",
       "<!-- 4&#45;&gt;8 -->\n",
       "<g id=\"edge7\" class=\"edge\">\n",
       "<title>4&#45;&gt;8</title>\n",
       "<path fill=\"none\" stroke=\"black\" d=\"M208.45,-237.76C208.45,-225.56 208.45,-210.78 208.45,-197.49\"/>\n",
       "<polygon fill=\"black\" stroke=\"black\" points=\"211.95,-197.23 208.45,-187.23 204.95,-197.23 211.95,-197.23\"/>\n",
       "<text text-anchor=\"middle\" x=\"211.95\" y=\"-208.8\" font-family=\"Times,serif\" font-size=\"14.00\">2</text>\n",
       "</g>\n",
       "<!-- 9 -->\n",
       "<g id=\"node9\" class=\"node\">\n",
       "<title>9</title>\n",
       "<polygon fill=\"none\" stroke=\"black\" points=\"395.45,-187 327.45,-187 327.45,-134 395.45,-134 395.45,-187\"/>\n",
       "<text text-anchor=\"middle\" x=\"361.45\" y=\"-171.8\" font-family=\"Times,serif\" font-size=\"14.00\">[9]</text>\n",
       "<text text-anchor=\"middle\" x=\"361.45\" y=\"-156.8\" font-family=\"Times,serif\" font-size=\"14.00\">Pre</text>\n",
       "<text text-anchor=\"middle\" x=\"361.45\" y=\"-141.8\" font-family=\"Times,serif\" font-size=\"14.00\">Compose</text>\n",
       "</g>\n",
       "<!-- 4&#45;&gt;9 -->\n",
       "<g id=\"edge9\" class=\"edge\">\n",
       "<title>4&#45;&gt;9</title>\n",
       "<path fill=\"none\" stroke=\"black\" d=\"M247.06,-237.76C268.96,-223.16 296.4,-204.86 318.92,-189.85\"/>\n",
       "<polygon fill=\"black\" stroke=\"black\" points=\"320.91,-192.73 327.29,-184.28 317.02,-186.91 320.91,-192.73\"/>\n",
       "<text text-anchor=\"middle\" x=\"297.95\" y=\"-208.8\" font-family=\"Times,serif\" font-size=\"14.00\">2</text>\n",
       "</g>\n",
       "<!-- 5 -->\n",
       "<g id=\"node5\" class=\"node\">\n",
       "<title>5</title>\n",
       "<polygon fill=\"none\" stroke=\"black\" points=\"397.95,-291 324.95,-291 324.95,-238 397.95,-238 397.95,-291\"/>\n",
       "<text text-anchor=\"middle\" x=\"361.45\" y=\"-275.8\" font-family=\"Times,serif\" font-size=\"14.00\">[5]</text>\n",
       "<text text-anchor=\"middle\" x=\"361.45\" y=\"-260.8\" font-family=\"Times,serif\" font-size=\"14.00\">primitive</text>\n",
       "<text text-anchor=\"middle\" x=\"361.45\" y=\"-245.8\" font-family=\"Times,serif\" font-size=\"14.00\">morphism</text>\n",
       "</g>\n",
       "<!-- 5&#45;&gt;9 -->\n",
       "<g id=\"edge8\" class=\"edge\">\n",
       "<title>5&#45;&gt;9</title>\n",
       "<path fill=\"none\" stroke=\"black\" d=\"M361.45,-237.76C361.45,-225.56 361.45,-210.78 361.45,-197.49\"/>\n",
       "<polygon fill=\"black\" stroke=\"black\" points=\"364.95,-197.23 361.45,-187.23 357.95,-197.23 364.95,-197.23\"/>\n",
       "<text text-anchor=\"middle\" x=\"364.95\" y=\"-208.8\" font-family=\"Times,serif\" font-size=\"14.00\">1</text>\n",
       "</g>\n",
       "<!-- 6 -->\n",
       "<g id=\"node6\" class=\"node\">\n",
       "<title>6</title>\n",
       "<polygon fill=\"none\" stroke=\"black\" points=\"587.95,-291 520.95,-291 520.95,-238 587.95,-238 587.95,-291\"/>\n",
       "<text text-anchor=\"middle\" x=\"554.45\" y=\"-275.8\" font-family=\"Times,serif\" font-size=\"14.00\">[6]</text>\n",
       "<text text-anchor=\"middle\" x=\"554.45\" y=\"-260.8\" font-family=\"Times,serif\" font-size=\"14.00\">primitive</text>\n",
       "<text text-anchor=\"middle\" x=\"554.45\" y=\"-245.8\" font-family=\"Times,serif\" font-size=\"14.00\">object</text>\n",
       "</g>\n",
       "<!-- 6&#45;&gt;7 -->\n",
       "<g id=\"edge4\" class=\"edge\">\n",
       "<title>6&#45;&gt;7</title>\n",
       "<path fill=\"none\" stroke=\"black\" d=\"M538.55,-237.76C529.17,-222.57 517.31,-203.37 507.84,-188.04\"/>\n",
       "<polygon fill=\"black\" stroke=\"black\" points=\"510.81,-186.18 502.58,-179.52 504.85,-189.86 510.81,-186.18\"/>\n",
       "<text text-anchor=\"middle\" x=\"530.95\" y=\"-208.8\" font-family=\"Times,serif\" font-size=\"14.00\">1</text>\n",
       "</g>\n",
       "<!-- 6&#45;&gt;10 -->\n",
       "<g id=\"edge10\" class=\"edge\">\n",
       "<title>6&#45;&gt;10</title>\n",
       "<path fill=\"none\" stroke=\"black\" d=\"M556.85,-237.7C558.18,-210.07 556.58,-165.89 537.45,-134 524.05,-111.67 502.88,-93.28 481.58,-78.99\"/>\n",
       "<polygon fill=\"black\" stroke=\"black\" points=\"483.41,-76.01 473.11,-73.52 479.61,-81.89 483.41,-76.01\"/>\n",
       "<text text-anchor=\"middle\" x=\"557.95\" y=\"-156.8\" font-family=\"Times,serif\" font-size=\"14.00\">1</text>\n",
       "</g>\n",
       "<!-- 7&#45;&gt;10 -->\n",
       "<g id=\"edge15\" class=\"edge\">\n",
       "<title>7&#45;&gt;10</title>\n",
       "<path fill=\"none\" stroke=\"black\" d=\"M478.82,-141.48C469.47,-128.14 456.28,-109.31 443.9,-91.65\"/>\n",
       "<polygon fill=\"black\" stroke=\"black\" points=\"446.51,-89.28 437.9,-83.1 440.78,-93.3 446.51,-89.28\"/>\n",
       "<text text-anchor=\"middle\" x=\"463.95\" y=\"-104.8\" font-family=\"Times,serif\" font-size=\"14.00\">6</text>\n",
       "</g>\n",
       "<!-- 8&#45;&gt;10 -->\n",
       "<g id=\"edge14\" class=\"edge\">\n",
       "<title>8&#45;&gt;10</title>\n",
       "<path fill=\"none\" stroke=\"black\" d=\"M242.55,-139.65C268.35,-124.63 304.71,-103.47 336.92,-84.72\"/>\n",
       "<polygon fill=\"black\" stroke=\"black\" points=\"339,-87.56 345.88,-79.5 335.47,-81.51 339,-87.56\"/>\n",
       "<text text-anchor=\"middle\" x=\"312.95\" y=\"-104.8\" font-family=\"Times,serif\" font-size=\"14.00\">5</text>\n",
       "</g>\n",
       "<!-- 9&#45;&gt;10 -->\n",
       "<g id=\"edge13\" class=\"edge\">\n",
       "<title>9&#45;&gt;10</title>\n",
       "<path fill=\"none\" stroke=\"black\" d=\"M371.98,-133.82C376.92,-121.8 382.97,-107.04 388.76,-92.92\"/>\n",
       "<polygon fill=\"black\" stroke=\"black\" points=\"392.16,-93.87 392.71,-83.29 385.68,-91.21 392.16,-93.87\"/>\n",
       "<text text-anchor=\"middle\" x=\"388.95\" y=\"-104.8\" font-family=\"Times,serif\" font-size=\"14.00\">4</text>\n",
       "</g>\n",
       "</g>\n",
       "</svg>\n"
      ]
     },
     "metadata": {},
     "output_type": "display_data"
    }
   ],
   "source": [
    "Visualize( Gff )"
   ]
  },
  {
   "cell_type": "code",
   "execution_count": 50,
   "id": "b2834641",
   "metadata": {},
   "outputs": [
    {
     "data": {
      "image/svg+xml": [
       "<?xml version=\"1.0\" encoding=\"UTF-8\" standalone=\"no\"?>\n",
       "<!DOCTYPE svg PUBLIC \"-//W3C//DTD SVG 1.1//EN\"\n",
       " \"http://www.w3.org/Graphics/SVG/1.1/DTD/svg11.dtd\">\n",
       "<!-- Generated by graphviz version 2.50.0 (20211204.2007)\n",
       " -->\n",
       "<!-- Title: hgn Pages: 1 -->\n",
       "<svg width=\"596pt\" height=\"478pt\"\n",
       " viewBox=\"0.00 0.00 595.95 478.00\" xmlns=\"http://www.w3.org/2000/svg\" xmlns:xlink=\"http://www.w3.org/1999/xlink\">\n",
       "<g id=\"graph0\" class=\"graph\" transform=\"scale(1 1) rotate(0) translate(4 474)\">\n",
       "<title>hgn</title>\n",
       "<polygon fill=\"white\" stroke=\"transparent\" points=\"-4,4 -4,-474 591.95,-474 591.95,4 -4,4\"/>\n",
       "<!-- 1 -->\n",
       "<g id=\"node1\" class=\"node\">\n",
       "<title>1</title>\n",
       "<polygon fill=\"none\" stroke=\"black\" points=\"91.95,-291 18.95,-291 18.95,-238 91.95,-238 91.95,-291\"/>\n",
       "<text text-anchor=\"middle\" x=\"55.45\" y=\"-275.8\" font-family=\"Times,serif\" font-size=\"14.00\">[1]</text>\n",
       "<text text-anchor=\"middle\" x=\"55.45\" y=\"-260.8\" font-family=\"Times,serif\" font-size=\"14.00\">primitive</text>\n",
       "<text text-anchor=\"middle\" x=\"55.45\" y=\"-245.8\" font-family=\"Times,serif\" font-size=\"14.00\">morphism</text>\n",
       "</g>\n",
       "<!-- 8 -->\n",
       "<g id=\"node8\" class=\"node\">\n",
       "<title>8</title>\n",
       "<polygon fill=\"none\" stroke=\"black\" points=\"242.45,-187 174.45,-187 174.45,-134 242.45,-134 242.45,-187\"/>\n",
       "<text text-anchor=\"middle\" x=\"208.45\" y=\"-171.8\" font-family=\"Times,serif\" font-size=\"14.00\">[8]</text>\n",
       "<text text-anchor=\"middle\" x=\"208.45\" y=\"-156.8\" font-family=\"Times,serif\" font-size=\"14.00\">Pre</text>\n",
       "<text text-anchor=\"middle\" x=\"208.45\" y=\"-141.8\" font-family=\"Times,serif\" font-size=\"14.00\">Compose</text>\n",
       "</g>\n",
       "<!-- 1&#45;&gt;8 -->\n",
       "<g id=\"edge6\" class=\"edge\">\n",
       "<title>1&#45;&gt;8</title>\n",
       "<path fill=\"none\" stroke=\"black\" d=\"M92.1,-239.07C114.2,-224.33 142.47,-205.49 165.6,-190.06\"/>\n",
       "<polygon fill=\"black\" stroke=\"black\" points=\"167.82,-192.79 174.2,-184.33 163.94,-186.97 167.82,-192.79\"/>\n",
       "<text text-anchor=\"middle\" x=\"144.95\" y=\"-208.8\" font-family=\"Times,serif\" font-size=\"14.00\">1</text>\n",
       "</g>\n",
       "<!-- 2 -->\n",
       "<g id=\"node2\" class=\"node\">\n",
       "<title>2</title>\n",
       "<polygon fill=\"none\" stroke=\"black\" points=\"408.95,-470 341.95,-470 341.95,-417 408.95,-417 408.95,-470\"/>\n",
       "<text text-anchor=\"middle\" x=\"375.45\" y=\"-454.8\" font-family=\"Times,serif\" font-size=\"14.00\">[2]</text>\n",
       "<text text-anchor=\"middle\" x=\"375.45\" y=\"-439.8\" font-family=\"Times,serif\" font-size=\"14.00\">primitive</text>\n",
       "<text text-anchor=\"middle\" x=\"375.45\" y=\"-424.8\" font-family=\"Times,serif\" font-size=\"14.00\">object</text>\n",
       "</g>\n",
       "<!-- 3 -->\n",
       "<g id=\"node3\" class=\"node\">\n",
       "<title>3</title>\n",
       "<polygon fill=\"none\" stroke=\"black\" points=\"245.45,-380 171.45,-380 171.45,-342 245.45,-342 245.45,-380\"/>\n",
       "<text text-anchor=\"middle\" x=\"208.45\" y=\"-364.8\" font-family=\"Times,serif\" font-size=\"14.00\">[3]</text>\n",
       "<text text-anchor=\"middle\" x=\"208.45\" y=\"-349.8\" font-family=\"Times,serif\" font-size=\"14.00\">Coproduct</text>\n",
       "</g>\n",
       "<!-- 2&#45;&gt;3 -->\n",
       "<g id=\"edge1\" class=\"edge\">\n",
       "<title>2&#45;&gt;3</title>\n",
       "<path fill=\"none\" stroke=\"black\" d=\"M341.65,-426.21C316.65,-414.16 282.3,-397.6 254.74,-384.31\"/>\n",
       "<polygon fill=\"black\" stroke=\"black\" points=\"256.21,-381.14 245.68,-379.95 253.17,-387.44 256.21,-381.14\"/>\n",
       "</g>\n",
       "<!-- 4 -->\n",
       "<g id=\"node4\" class=\"node\">\n",
       "<title>4</title>\n",
       "<polygon fill=\"none\" stroke=\"black\" points=\"306.95,-291 109.95,-291 109.95,-238 306.95,-238 306.95,-291\"/>\n",
       "<text text-anchor=\"middle\" x=\"208.45\" y=\"-275.8\" font-family=\"Times,serif\" font-size=\"14.00\">[4]</text>\n",
       "<text text-anchor=\"middle\" x=\"208.45\" y=\"-260.8\" font-family=\"Times,serif\" font-size=\"14.00\">InjectionOfCofactorOfCoproduct</text>\n",
       "<text text-anchor=\"middle\" x=\"208.45\" y=\"-245.8\" font-family=\"Times,serif\" font-size=\"14.00\">WithGivenCoproduct( 1 )</text>\n",
       "</g>\n",
       "<!-- 2&#45;&gt;4 -->\n",
       "<g id=\"edge2\" class=\"edge\">\n",
       "<title>2&#45;&gt;4</title>\n",
       "<path fill=\"none\" stroke=\"black\" d=\"M351.17,-416.76C321.73,-385.56 272.07,-332.93 239.77,-298.7\"/>\n",
       "<polygon fill=\"black\" stroke=\"black\" points=\"242.17,-296.14 232.76,-291.27 237.08,-300.94 242.17,-296.14\"/>\n",
       "<text text-anchor=\"middle\" x=\"319.95\" y=\"-357.3\" font-family=\"Times,serif\" font-size=\"14.00\">1</text>\n",
       "</g>\n",
       "<!-- 7 -->\n",
       "<g id=\"node7\" class=\"node\">\n",
       "<title>7</title>\n",
       "<polygon fill=\"none\" stroke=\"black\" points=\"528.45,-179.5 454.45,-179.5 454.45,-141.5 528.45,-141.5 528.45,-179.5\"/>\n",
       "<text text-anchor=\"middle\" x=\"491.45\" y=\"-164.3\" font-family=\"Times,serif\" font-size=\"14.00\">[7]</text>\n",
       "<text text-anchor=\"middle\" x=\"491.45\" y=\"-149.3\" font-family=\"Times,serif\" font-size=\"14.00\">Coproduct</text>\n",
       "</g>\n",
       "<!-- 2&#45;&gt;7 -->\n",
       "<g id=\"edge5\" class=\"edge\">\n",
       "<title>2&#45;&gt;7</title>\n",
       "<path fill=\"none\" stroke=\"black\" d=\"M409.07,-429.95C423.34,-422.96 438.87,-412.82 448.45,-399 493.08,-334.63 495.46,-237.63 493.49,-189.97\"/>\n",
       "<polygon fill=\"black\" stroke=\"black\" points=\"496.98,-189.58 492.97,-179.77 489.99,-189.94 496.98,-189.58\"/>\n",
       "<text text-anchor=\"middle\" x=\"487.95\" y=\"-312.8\" font-family=\"Times,serif\" font-size=\"14.00\">2</text>\n",
       "</g>\n",
       "<!-- 10 -->\n",
       "<g id=\"node10\" class=\"node\">\n",
       "<title>10</title>\n",
       "<polygon fill=\"none\" stroke=\"black\" points=\"472.95,-83 345.95,-83 345.95,0 472.95,0 472.95,-83\"/>\n",
       "<text text-anchor=\"middle\" x=\"409.45\" y=\"-67.8\" font-family=\"Times,serif\" font-size=\"14.00\">[10]</text>\n",
       "<text text-anchor=\"middle\" x=\"409.45\" y=\"-52.8\" font-family=\"Times,serif\" font-size=\"14.00\">UniversalMorphism</text>\n",
       "<text text-anchor=\"middle\" x=\"409.45\" y=\"-37.8\" font-family=\"Times,serif\" font-size=\"14.00\">FromCoproduct</text>\n",
       "<text text-anchor=\"middle\" x=\"409.45\" y=\"-22.8\" font-family=\"Times,serif\" font-size=\"14.00\">WithGiven</text>\n",
       "<text text-anchor=\"middle\" x=\"409.45\" y=\"-7.8\" font-family=\"Times,serif\" font-size=\"14.00\">Coproduct</text>\n",
       "</g>\n",
       "<!-- 2&#45;&gt;10 -->\n",
       "<g id=\"edge11\" class=\"edge\">\n",
       "<title>2&#45;&gt;10</title>\n",
       "<path fill=\"none\" stroke=\"black\" d=\"M382.21,-417C389.79,-387.08 401.63,-335.85 406.45,-291 413.76,-222.91 413.16,-143.74 411.65,-93.39\"/>\n",
       "<polygon fill=\"black\" stroke=\"black\" points=\"415.13,-92.98 411.31,-83.1 408.14,-93.21 415.13,-92.98\"/>\n",
       "<text text-anchor=\"middle\" x=\"414.95\" y=\"-260.8\" font-family=\"Times,serif\" font-size=\"14.00\">2</text>\n",
       "</g>\n",
       "<!-- 3&#45;&gt;4 -->\n",
       "<g id=\"edge3\" class=\"edge\">\n",
       "<title>3&#45;&gt;4</title>\n",
       "<path fill=\"none\" stroke=\"black\" d=\"M208.45,-341.78C208.45,-330.33 208.45,-315.16 208.45,-301.36\"/>\n",
       "<polygon fill=\"black\" stroke=\"black\" points=\"211.95,-301.17 208.45,-291.17 204.95,-301.17 211.95,-301.17\"/>\n",
       "<text text-anchor=\"middle\" x=\"211.95\" y=\"-312.8\" font-family=\"Times,serif\" font-size=\"14.00\">2</text>\n",
       "</g>\n",
       "<!-- 3&#45;&gt;10 -->\n",
       "<g id=\"edge12\" class=\"edge\">\n",
       "<title>3&#45;&gt;10</title>\n",
       "<path fill=\"none\" stroke=\"black\" d=\"M171.23,-359.23C124.56,-356.01 46.23,-342.69 9.45,-291 -4.21,-271.81 -1.67,-258.77 9.45,-238 73.74,-117.88 239.12,-70.49 335.91,-52.62\"/>\n",
       "<polygon fill=\"black\" stroke=\"black\" points=\"336.7,-56.04 345.92,-50.84 335.47,-49.15 336.7,-56.04\"/>\n",
       "<text text-anchor=\"middle\" x=\"32.95\" y=\"-208.8\" font-family=\"Times,serif\" font-size=\"14.00\">3</text>\n",
       "</g>\n",
       "<!-- 4&#45;&gt;8 -->\n",
       "<g id=\"edge7\" class=\"edge\">\n",
       "<title>4&#45;&gt;8</title>\n",
       "<path fill=\"none\" stroke=\"black\" d=\"M208.45,-237.76C208.45,-225.56 208.45,-210.78 208.45,-197.49\"/>\n",
       "<polygon fill=\"black\" stroke=\"black\" points=\"211.95,-197.23 208.45,-187.23 204.95,-197.23 211.95,-197.23\"/>\n",
       "<text text-anchor=\"middle\" x=\"211.95\" y=\"-208.8\" font-family=\"Times,serif\" font-size=\"14.00\">2</text>\n",
       "</g>\n",
       "<!-- 9 -->\n",
       "<g id=\"node9\" class=\"node\">\n",
       "<title>9</title>\n",
       "<polygon fill=\"none\" stroke=\"black\" points=\"395.45,-187 327.45,-187 327.45,-134 395.45,-134 395.45,-187\"/>\n",
       "<text text-anchor=\"middle\" x=\"361.45\" y=\"-171.8\" font-family=\"Times,serif\" font-size=\"14.00\">[9]</text>\n",
       "<text text-anchor=\"middle\" x=\"361.45\" y=\"-156.8\" font-family=\"Times,serif\" font-size=\"14.00\">Pre</text>\n",
       "<text text-anchor=\"middle\" x=\"361.45\" y=\"-141.8\" font-family=\"Times,serif\" font-size=\"14.00\">Compose</text>\n",
       "</g>\n",
       "<!-- 4&#45;&gt;9 -->\n",
       "<g id=\"edge9\" class=\"edge\">\n",
       "<title>4&#45;&gt;9</title>\n",
       "<path fill=\"none\" stroke=\"black\" d=\"M247.06,-237.76C268.96,-223.16 296.4,-204.86 318.92,-189.85\"/>\n",
       "<polygon fill=\"black\" stroke=\"black\" points=\"320.91,-192.73 327.29,-184.28 317.02,-186.91 320.91,-192.73\"/>\n",
       "<text text-anchor=\"middle\" x=\"297.95\" y=\"-208.8\" font-family=\"Times,serif\" font-size=\"14.00\">2</text>\n",
       "</g>\n",
       "<!-- 5 -->\n",
       "<g id=\"node5\" class=\"node\">\n",
       "<title>5</title>\n",
       "<polygon fill=\"none\" stroke=\"black\" points=\"397.95,-291 324.95,-291 324.95,-238 397.95,-238 397.95,-291\"/>\n",
       "<text text-anchor=\"middle\" x=\"361.45\" y=\"-275.8\" font-family=\"Times,serif\" font-size=\"14.00\">[5]</text>\n",
       "<text text-anchor=\"middle\" x=\"361.45\" y=\"-260.8\" font-family=\"Times,serif\" font-size=\"14.00\">primitive</text>\n",
       "<text text-anchor=\"middle\" x=\"361.45\" y=\"-245.8\" font-family=\"Times,serif\" font-size=\"14.00\">morphism</text>\n",
       "</g>\n",
       "<!-- 5&#45;&gt;9 -->\n",
       "<g id=\"edge8\" class=\"edge\">\n",
       "<title>5&#45;&gt;9</title>\n",
       "<path fill=\"none\" stroke=\"black\" d=\"M361.45,-237.76C361.45,-225.56 361.45,-210.78 361.45,-197.49\"/>\n",
       "<polygon fill=\"black\" stroke=\"black\" points=\"364.95,-197.23 361.45,-187.23 357.95,-197.23 364.95,-197.23\"/>\n",
       "<text text-anchor=\"middle\" x=\"364.95\" y=\"-208.8\" font-family=\"Times,serif\" font-size=\"14.00\">1</text>\n",
       "</g>\n",
       "<!-- 6 -->\n",
       "<g id=\"node6\" class=\"node\">\n",
       "<title>6</title>\n",
       "<polygon fill=\"none\" stroke=\"black\" points=\"587.95,-291 520.95,-291 520.95,-238 587.95,-238 587.95,-291\"/>\n",
       "<text text-anchor=\"middle\" x=\"554.45\" y=\"-275.8\" font-family=\"Times,serif\" font-size=\"14.00\">[6]</text>\n",
       "<text text-anchor=\"middle\" x=\"554.45\" y=\"-260.8\" font-family=\"Times,serif\" font-size=\"14.00\">primitive</text>\n",
       "<text text-anchor=\"middle\" x=\"554.45\" y=\"-245.8\" font-family=\"Times,serif\" font-size=\"14.00\">object</text>\n",
       "</g>\n",
       "<!-- 6&#45;&gt;7 -->\n",
       "<g id=\"edge4\" class=\"edge\">\n",
       "<title>6&#45;&gt;7</title>\n",
       "<path fill=\"none\" stroke=\"black\" d=\"M538.55,-237.76C529.17,-222.57 517.31,-203.37 507.84,-188.04\"/>\n",
       "<polygon fill=\"black\" stroke=\"black\" points=\"510.81,-186.18 502.58,-179.52 504.85,-189.86 510.81,-186.18\"/>\n",
       "<text text-anchor=\"middle\" x=\"530.95\" y=\"-208.8\" font-family=\"Times,serif\" font-size=\"14.00\">1</text>\n",
       "</g>\n",
       "<!-- 6&#45;&gt;10 -->\n",
       "<g id=\"edge10\" class=\"edge\">\n",
       "<title>6&#45;&gt;10</title>\n",
       "<path fill=\"none\" stroke=\"black\" d=\"M556.85,-237.7C558.18,-210.07 556.58,-165.89 537.45,-134 524.05,-111.67 502.88,-93.28 481.58,-78.99\"/>\n",
       "<polygon fill=\"black\" stroke=\"black\" points=\"483.41,-76.01 473.11,-73.52 479.61,-81.89 483.41,-76.01\"/>\n",
       "<text text-anchor=\"middle\" x=\"557.95\" y=\"-156.8\" font-family=\"Times,serif\" font-size=\"14.00\">1</text>\n",
       "</g>\n",
       "<!-- 7&#45;&gt;10 -->\n",
       "<g id=\"edge15\" class=\"edge\">\n",
       "<title>7&#45;&gt;10</title>\n",
       "<path fill=\"none\" stroke=\"black\" d=\"M478.82,-141.48C469.47,-128.14 456.28,-109.31 443.9,-91.65\"/>\n",
       "<polygon fill=\"black\" stroke=\"black\" points=\"446.51,-89.28 437.9,-83.1 440.78,-93.3 446.51,-89.28\"/>\n",
       "<text text-anchor=\"middle\" x=\"463.95\" y=\"-104.8\" font-family=\"Times,serif\" font-size=\"14.00\">6</text>\n",
       "</g>\n",
       "<!-- 8&#45;&gt;10 -->\n",
       "<g id=\"edge14\" class=\"edge\">\n",
       "<title>8&#45;&gt;10</title>\n",
       "<path fill=\"none\" stroke=\"black\" d=\"M242.55,-139.65C268.35,-124.63 304.71,-103.47 336.92,-84.72\"/>\n",
       "<polygon fill=\"black\" stroke=\"black\" points=\"339,-87.56 345.88,-79.5 335.47,-81.51 339,-87.56\"/>\n",
       "<text text-anchor=\"middle\" x=\"312.95\" y=\"-104.8\" font-family=\"Times,serif\" font-size=\"14.00\">5</text>\n",
       "</g>\n",
       "<!-- 9&#45;&gt;10 -->\n",
       "<g id=\"edge13\" class=\"edge\">\n",
       "<title>9&#45;&gt;10</title>\n",
       "<path fill=\"none\" stroke=\"black\" d=\"M371.98,-133.82C376.92,-121.8 382.97,-107.04 388.76,-92.92\"/>\n",
       "<polygon fill=\"black\" stroke=\"black\" points=\"392.16,-93.87 392.71,-83.29 385.68,-91.21 392.16,-93.87\"/>\n",
       "<text text-anchor=\"middle\" x=\"388.95\" y=\"-104.8\" font-family=\"Times,serif\" font-size=\"14.00\">4</text>\n",
       "</g>\n",
       "</g>\n",
       "</svg>\n"
      ]
     },
     "metadata": {},
     "output_type": "display_data"
    }
   ],
   "source": [
    "Visualize( Ggg )"
   ]
  }
 ],
 "metadata": {
  "@webio": {
   "lastCommId": null,
   "lastKernelId": null
  },
  "kernelspec": {
   "display_name": "Julia 1.9.3",
   "language": "julia",
   "name": "julia-1.9"
  },
  "language_info": {
   "file_extension": ".jl",
   "mimetype": "application/julia",
   "name": "julia",
   "version": "1.9.3"
  }
 },
 "nbformat": 4,
 "nbformat_minor": 5
}
